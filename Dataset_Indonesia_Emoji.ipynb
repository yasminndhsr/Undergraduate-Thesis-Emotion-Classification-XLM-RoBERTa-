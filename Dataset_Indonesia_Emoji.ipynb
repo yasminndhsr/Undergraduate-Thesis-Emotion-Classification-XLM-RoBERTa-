{
  "nbformat": 4,
  "nbformat_minor": 0,
  "metadata": {
    "colab": {
      "provenance": [],
      "gpuType": "T4",
      "toc_visible": true
    },
    "kernelspec": {
      "name": "python3",
      "display_name": "Python 3"
    },
    "language_info": {
      "name": "python"
    },
    "accelerator": "GPU",
    "widgets": {
      "application/vnd.jupyter.widget-state+json": {
        "5bb2a3c0194541e39b95aad6fb591d92": {
          "model_module": "@jupyter-widgets/controls",
          "model_name": "HBoxModel",
          "model_module_version": "1.5.0",
          "state": {
            "_dom_classes": [],
            "_model_module": "@jupyter-widgets/controls",
            "_model_module_version": "1.5.0",
            "_model_name": "HBoxModel",
            "_view_count": null,
            "_view_module": "@jupyter-widgets/controls",
            "_view_module_version": "1.5.0",
            "_view_name": "HBoxView",
            "box_style": "",
            "children": [
              "IPY_MODEL_5668d0595677440ea0073a4d0b18671d",
              "IPY_MODEL_3c0239b0dc214bf998206b6a3a2a7b05",
              "IPY_MODEL_b30fe6f75c3b4ae2b2ec178e1751ed04"
            ],
            "layout": "IPY_MODEL_e56a0892691e4591b220cf1a0b79bda6"
          }
        },
        "5668d0595677440ea0073a4d0b18671d": {
          "model_module": "@jupyter-widgets/controls",
          "model_name": "HTMLModel",
          "model_module_version": "1.5.0",
          "state": {
            "_dom_classes": [],
            "_model_module": "@jupyter-widgets/controls",
            "_model_module_version": "1.5.0",
            "_model_name": "HTMLModel",
            "_view_count": null,
            "_view_module": "@jupyter-widgets/controls",
            "_view_module_version": "1.5.0",
            "_view_name": "HTMLView",
            "description": "",
            "description_tooltip": null,
            "layout": "IPY_MODEL_ab351cebafe143efa5069b7420c6f075",
            "placeholder": "​",
            "style": "IPY_MODEL_ff1a9b8a43704f1cbb8108f168bb2dfa",
            "value": "tokenizer_config.json: 100%"
          }
        },
        "3c0239b0dc214bf998206b6a3a2a7b05": {
          "model_module": "@jupyter-widgets/controls",
          "model_name": "FloatProgressModel",
          "model_module_version": "1.5.0",
          "state": {
            "_dom_classes": [],
            "_model_module": "@jupyter-widgets/controls",
            "_model_module_version": "1.5.0",
            "_model_name": "FloatProgressModel",
            "_view_count": null,
            "_view_module": "@jupyter-widgets/controls",
            "_view_module_version": "1.5.0",
            "_view_name": "ProgressView",
            "bar_style": "success",
            "description": "",
            "description_tooltip": null,
            "layout": "IPY_MODEL_f5da4e46ad70421b958ba33e8c1f5c5e",
            "max": 25,
            "min": 0,
            "orientation": "horizontal",
            "style": "IPY_MODEL_18fad6ddac3745818f90f7357b4d8838",
            "value": 25
          }
        },
        "b30fe6f75c3b4ae2b2ec178e1751ed04": {
          "model_module": "@jupyter-widgets/controls",
          "model_name": "HTMLModel",
          "model_module_version": "1.5.0",
          "state": {
            "_dom_classes": [],
            "_model_module": "@jupyter-widgets/controls",
            "_model_module_version": "1.5.0",
            "_model_name": "HTMLModel",
            "_view_count": null,
            "_view_module": "@jupyter-widgets/controls",
            "_view_module_version": "1.5.0",
            "_view_name": "HTMLView",
            "description": "",
            "description_tooltip": null,
            "layout": "IPY_MODEL_afc4c82d05f34d86b9cd94977976b0d5",
            "placeholder": "​",
            "style": "IPY_MODEL_37ce3406a3664ea784e6d5d3a8204e66",
            "value": " 25.0/25.0 [00:00&lt;00:00, 364B/s]"
          }
        },
        "e56a0892691e4591b220cf1a0b79bda6": {
          "model_module": "@jupyter-widgets/base",
          "model_name": "LayoutModel",
          "model_module_version": "1.2.0",
          "state": {
            "_model_module": "@jupyter-widgets/base",
            "_model_module_version": "1.2.0",
            "_model_name": "LayoutModel",
            "_view_count": null,
            "_view_module": "@jupyter-widgets/base",
            "_view_module_version": "1.2.0",
            "_view_name": "LayoutView",
            "align_content": null,
            "align_items": null,
            "align_self": null,
            "border": null,
            "bottom": null,
            "display": null,
            "flex": null,
            "flex_flow": null,
            "grid_area": null,
            "grid_auto_columns": null,
            "grid_auto_flow": null,
            "grid_auto_rows": null,
            "grid_column": null,
            "grid_gap": null,
            "grid_row": null,
            "grid_template_areas": null,
            "grid_template_columns": null,
            "grid_template_rows": null,
            "height": null,
            "justify_content": null,
            "justify_items": null,
            "left": null,
            "margin": null,
            "max_height": null,
            "max_width": null,
            "min_height": null,
            "min_width": null,
            "object_fit": null,
            "object_position": null,
            "order": null,
            "overflow": null,
            "overflow_x": null,
            "overflow_y": null,
            "padding": null,
            "right": null,
            "top": null,
            "visibility": null,
            "width": null
          }
        },
        "ab351cebafe143efa5069b7420c6f075": {
          "model_module": "@jupyter-widgets/base",
          "model_name": "LayoutModel",
          "model_module_version": "1.2.0",
          "state": {
            "_model_module": "@jupyter-widgets/base",
            "_model_module_version": "1.2.0",
            "_model_name": "LayoutModel",
            "_view_count": null,
            "_view_module": "@jupyter-widgets/base",
            "_view_module_version": "1.2.0",
            "_view_name": "LayoutView",
            "align_content": null,
            "align_items": null,
            "align_self": null,
            "border": null,
            "bottom": null,
            "display": null,
            "flex": null,
            "flex_flow": null,
            "grid_area": null,
            "grid_auto_columns": null,
            "grid_auto_flow": null,
            "grid_auto_rows": null,
            "grid_column": null,
            "grid_gap": null,
            "grid_row": null,
            "grid_template_areas": null,
            "grid_template_columns": null,
            "grid_template_rows": null,
            "height": null,
            "justify_content": null,
            "justify_items": null,
            "left": null,
            "margin": null,
            "max_height": null,
            "max_width": null,
            "min_height": null,
            "min_width": null,
            "object_fit": null,
            "object_position": null,
            "order": null,
            "overflow": null,
            "overflow_x": null,
            "overflow_y": null,
            "padding": null,
            "right": null,
            "top": null,
            "visibility": null,
            "width": null
          }
        },
        "ff1a9b8a43704f1cbb8108f168bb2dfa": {
          "model_module": "@jupyter-widgets/controls",
          "model_name": "DescriptionStyleModel",
          "model_module_version": "1.5.0",
          "state": {
            "_model_module": "@jupyter-widgets/controls",
            "_model_module_version": "1.5.0",
            "_model_name": "DescriptionStyleModel",
            "_view_count": null,
            "_view_module": "@jupyter-widgets/base",
            "_view_module_version": "1.2.0",
            "_view_name": "StyleView",
            "description_width": ""
          }
        },
        "f5da4e46ad70421b958ba33e8c1f5c5e": {
          "model_module": "@jupyter-widgets/base",
          "model_name": "LayoutModel",
          "model_module_version": "1.2.0",
          "state": {
            "_model_module": "@jupyter-widgets/base",
            "_model_module_version": "1.2.0",
            "_model_name": "LayoutModel",
            "_view_count": null,
            "_view_module": "@jupyter-widgets/base",
            "_view_module_version": "1.2.0",
            "_view_name": "LayoutView",
            "align_content": null,
            "align_items": null,
            "align_self": null,
            "border": null,
            "bottom": null,
            "display": null,
            "flex": null,
            "flex_flow": null,
            "grid_area": null,
            "grid_auto_columns": null,
            "grid_auto_flow": null,
            "grid_auto_rows": null,
            "grid_column": null,
            "grid_gap": null,
            "grid_row": null,
            "grid_template_areas": null,
            "grid_template_columns": null,
            "grid_template_rows": null,
            "height": null,
            "justify_content": null,
            "justify_items": null,
            "left": null,
            "margin": null,
            "max_height": null,
            "max_width": null,
            "min_height": null,
            "min_width": null,
            "object_fit": null,
            "object_position": null,
            "order": null,
            "overflow": null,
            "overflow_x": null,
            "overflow_y": null,
            "padding": null,
            "right": null,
            "top": null,
            "visibility": null,
            "width": null
          }
        },
        "18fad6ddac3745818f90f7357b4d8838": {
          "model_module": "@jupyter-widgets/controls",
          "model_name": "ProgressStyleModel",
          "model_module_version": "1.5.0",
          "state": {
            "_model_module": "@jupyter-widgets/controls",
            "_model_module_version": "1.5.0",
            "_model_name": "ProgressStyleModel",
            "_view_count": null,
            "_view_module": "@jupyter-widgets/base",
            "_view_module_version": "1.2.0",
            "_view_name": "StyleView",
            "bar_color": null,
            "description_width": ""
          }
        },
        "afc4c82d05f34d86b9cd94977976b0d5": {
          "model_module": "@jupyter-widgets/base",
          "model_name": "LayoutModel",
          "model_module_version": "1.2.0",
          "state": {
            "_model_module": "@jupyter-widgets/base",
            "_model_module_version": "1.2.0",
            "_model_name": "LayoutModel",
            "_view_count": null,
            "_view_module": "@jupyter-widgets/base",
            "_view_module_version": "1.2.0",
            "_view_name": "LayoutView",
            "align_content": null,
            "align_items": null,
            "align_self": null,
            "border": null,
            "bottom": null,
            "display": null,
            "flex": null,
            "flex_flow": null,
            "grid_area": null,
            "grid_auto_columns": null,
            "grid_auto_flow": null,
            "grid_auto_rows": null,
            "grid_column": null,
            "grid_gap": null,
            "grid_row": null,
            "grid_template_areas": null,
            "grid_template_columns": null,
            "grid_template_rows": null,
            "height": null,
            "justify_content": null,
            "justify_items": null,
            "left": null,
            "margin": null,
            "max_height": null,
            "max_width": null,
            "min_height": null,
            "min_width": null,
            "object_fit": null,
            "object_position": null,
            "order": null,
            "overflow": null,
            "overflow_x": null,
            "overflow_y": null,
            "padding": null,
            "right": null,
            "top": null,
            "visibility": null,
            "width": null
          }
        },
        "37ce3406a3664ea784e6d5d3a8204e66": {
          "model_module": "@jupyter-widgets/controls",
          "model_name": "DescriptionStyleModel",
          "model_module_version": "1.5.0",
          "state": {
            "_model_module": "@jupyter-widgets/controls",
            "_model_module_version": "1.5.0",
            "_model_name": "DescriptionStyleModel",
            "_view_count": null,
            "_view_module": "@jupyter-widgets/base",
            "_view_module_version": "1.2.0",
            "_view_name": "StyleView",
            "description_width": ""
          }
        },
        "82184cb4eae14041947634751d61f3d9": {
          "model_module": "@jupyter-widgets/controls",
          "model_name": "HBoxModel",
          "model_module_version": "1.5.0",
          "state": {
            "_dom_classes": [],
            "_model_module": "@jupyter-widgets/controls",
            "_model_module_version": "1.5.0",
            "_model_name": "HBoxModel",
            "_view_count": null,
            "_view_module": "@jupyter-widgets/controls",
            "_view_module_version": "1.5.0",
            "_view_name": "HBoxView",
            "box_style": "",
            "children": [
              "IPY_MODEL_07c1910f0b6b4f5098ccab43ec20d73f",
              "IPY_MODEL_c1fa2bcdd82348dfbfdd14c5029ef848",
              "IPY_MODEL_53b0331aa3a04b85b84ec2559e11a6e4"
            ],
            "layout": "IPY_MODEL_407a039204b74beb97ef21deb10ddbce"
          }
        },
        "07c1910f0b6b4f5098ccab43ec20d73f": {
          "model_module": "@jupyter-widgets/controls",
          "model_name": "HTMLModel",
          "model_module_version": "1.5.0",
          "state": {
            "_dom_classes": [],
            "_model_module": "@jupyter-widgets/controls",
            "_model_module_version": "1.5.0",
            "_model_name": "HTMLModel",
            "_view_count": null,
            "_view_module": "@jupyter-widgets/controls",
            "_view_module_version": "1.5.0",
            "_view_name": "HTMLView",
            "description": "",
            "description_tooltip": null,
            "layout": "IPY_MODEL_c8027828493f457cb19202e023303bbd",
            "placeholder": "​",
            "style": "IPY_MODEL_831bec178c424e88ad22690200c83b85",
            "value": "config.json: 100%"
          }
        },
        "c1fa2bcdd82348dfbfdd14c5029ef848": {
          "model_module": "@jupyter-widgets/controls",
          "model_name": "FloatProgressModel",
          "model_module_version": "1.5.0",
          "state": {
            "_dom_classes": [],
            "_model_module": "@jupyter-widgets/controls",
            "_model_module_version": "1.5.0",
            "_model_name": "FloatProgressModel",
            "_view_count": null,
            "_view_module": "@jupyter-widgets/controls",
            "_view_module_version": "1.5.0",
            "_view_name": "ProgressView",
            "bar_style": "success",
            "description": "",
            "description_tooltip": null,
            "layout": "IPY_MODEL_f03c00819c6e49fa88ee9d0574ec2a62",
            "max": 615,
            "min": 0,
            "orientation": "horizontal",
            "style": "IPY_MODEL_4d8776688ea347b2b8253218f99760be",
            "value": 615
          }
        },
        "53b0331aa3a04b85b84ec2559e11a6e4": {
          "model_module": "@jupyter-widgets/controls",
          "model_name": "HTMLModel",
          "model_module_version": "1.5.0",
          "state": {
            "_dom_classes": [],
            "_model_module": "@jupyter-widgets/controls",
            "_model_module_version": "1.5.0",
            "_model_name": "HTMLModel",
            "_view_count": null,
            "_view_module": "@jupyter-widgets/controls",
            "_view_module_version": "1.5.0",
            "_view_name": "HTMLView",
            "description": "",
            "description_tooltip": null,
            "layout": "IPY_MODEL_e82b1a1ef1664518a6c757bede7195c6",
            "placeholder": "​",
            "style": "IPY_MODEL_1bec18ee3d824deca71f94ba7b026ce4",
            "value": " 615/615 [00:00&lt;00:00, 14.4kB/s]"
          }
        },
        "407a039204b74beb97ef21deb10ddbce": {
          "model_module": "@jupyter-widgets/base",
          "model_name": "LayoutModel",
          "model_module_version": "1.2.0",
          "state": {
            "_model_module": "@jupyter-widgets/base",
            "_model_module_version": "1.2.0",
            "_model_name": "LayoutModel",
            "_view_count": null,
            "_view_module": "@jupyter-widgets/base",
            "_view_module_version": "1.2.0",
            "_view_name": "LayoutView",
            "align_content": null,
            "align_items": null,
            "align_self": null,
            "border": null,
            "bottom": null,
            "display": null,
            "flex": null,
            "flex_flow": null,
            "grid_area": null,
            "grid_auto_columns": null,
            "grid_auto_flow": null,
            "grid_auto_rows": null,
            "grid_column": null,
            "grid_gap": null,
            "grid_row": null,
            "grid_template_areas": null,
            "grid_template_columns": null,
            "grid_template_rows": null,
            "height": null,
            "justify_content": null,
            "justify_items": null,
            "left": null,
            "margin": null,
            "max_height": null,
            "max_width": null,
            "min_height": null,
            "min_width": null,
            "object_fit": null,
            "object_position": null,
            "order": null,
            "overflow": null,
            "overflow_x": null,
            "overflow_y": null,
            "padding": null,
            "right": null,
            "top": null,
            "visibility": null,
            "width": null
          }
        },
        "c8027828493f457cb19202e023303bbd": {
          "model_module": "@jupyter-widgets/base",
          "model_name": "LayoutModel",
          "model_module_version": "1.2.0",
          "state": {
            "_model_module": "@jupyter-widgets/base",
            "_model_module_version": "1.2.0",
            "_model_name": "LayoutModel",
            "_view_count": null,
            "_view_module": "@jupyter-widgets/base",
            "_view_module_version": "1.2.0",
            "_view_name": "LayoutView",
            "align_content": null,
            "align_items": null,
            "align_self": null,
            "border": null,
            "bottom": null,
            "display": null,
            "flex": null,
            "flex_flow": null,
            "grid_area": null,
            "grid_auto_columns": null,
            "grid_auto_flow": null,
            "grid_auto_rows": null,
            "grid_column": null,
            "grid_gap": null,
            "grid_row": null,
            "grid_template_areas": null,
            "grid_template_columns": null,
            "grid_template_rows": null,
            "height": null,
            "justify_content": null,
            "justify_items": null,
            "left": null,
            "margin": null,
            "max_height": null,
            "max_width": null,
            "min_height": null,
            "min_width": null,
            "object_fit": null,
            "object_position": null,
            "order": null,
            "overflow": null,
            "overflow_x": null,
            "overflow_y": null,
            "padding": null,
            "right": null,
            "top": null,
            "visibility": null,
            "width": null
          }
        },
        "831bec178c424e88ad22690200c83b85": {
          "model_module": "@jupyter-widgets/controls",
          "model_name": "DescriptionStyleModel",
          "model_module_version": "1.5.0",
          "state": {
            "_model_module": "@jupyter-widgets/controls",
            "_model_module_version": "1.5.0",
            "_model_name": "DescriptionStyleModel",
            "_view_count": null,
            "_view_module": "@jupyter-widgets/base",
            "_view_module_version": "1.2.0",
            "_view_name": "StyleView",
            "description_width": ""
          }
        },
        "f03c00819c6e49fa88ee9d0574ec2a62": {
          "model_module": "@jupyter-widgets/base",
          "model_name": "LayoutModel",
          "model_module_version": "1.2.0",
          "state": {
            "_model_module": "@jupyter-widgets/base",
            "_model_module_version": "1.2.0",
            "_model_name": "LayoutModel",
            "_view_count": null,
            "_view_module": "@jupyter-widgets/base",
            "_view_module_version": "1.2.0",
            "_view_name": "LayoutView",
            "align_content": null,
            "align_items": null,
            "align_self": null,
            "border": null,
            "bottom": null,
            "display": null,
            "flex": null,
            "flex_flow": null,
            "grid_area": null,
            "grid_auto_columns": null,
            "grid_auto_flow": null,
            "grid_auto_rows": null,
            "grid_column": null,
            "grid_gap": null,
            "grid_row": null,
            "grid_template_areas": null,
            "grid_template_columns": null,
            "grid_template_rows": null,
            "height": null,
            "justify_content": null,
            "justify_items": null,
            "left": null,
            "margin": null,
            "max_height": null,
            "max_width": null,
            "min_height": null,
            "min_width": null,
            "object_fit": null,
            "object_position": null,
            "order": null,
            "overflow": null,
            "overflow_x": null,
            "overflow_y": null,
            "padding": null,
            "right": null,
            "top": null,
            "visibility": null,
            "width": null
          }
        },
        "4d8776688ea347b2b8253218f99760be": {
          "model_module": "@jupyter-widgets/controls",
          "model_name": "ProgressStyleModel",
          "model_module_version": "1.5.0",
          "state": {
            "_model_module": "@jupyter-widgets/controls",
            "_model_module_version": "1.5.0",
            "_model_name": "ProgressStyleModel",
            "_view_count": null,
            "_view_module": "@jupyter-widgets/base",
            "_view_module_version": "1.2.0",
            "_view_name": "StyleView",
            "bar_color": null,
            "description_width": ""
          }
        },
        "e82b1a1ef1664518a6c757bede7195c6": {
          "model_module": "@jupyter-widgets/base",
          "model_name": "LayoutModel",
          "model_module_version": "1.2.0",
          "state": {
            "_model_module": "@jupyter-widgets/base",
            "_model_module_version": "1.2.0",
            "_model_name": "LayoutModel",
            "_view_count": null,
            "_view_module": "@jupyter-widgets/base",
            "_view_module_version": "1.2.0",
            "_view_name": "LayoutView",
            "align_content": null,
            "align_items": null,
            "align_self": null,
            "border": null,
            "bottom": null,
            "display": null,
            "flex": null,
            "flex_flow": null,
            "grid_area": null,
            "grid_auto_columns": null,
            "grid_auto_flow": null,
            "grid_auto_rows": null,
            "grid_column": null,
            "grid_gap": null,
            "grid_row": null,
            "grid_template_areas": null,
            "grid_template_columns": null,
            "grid_template_rows": null,
            "height": null,
            "justify_content": null,
            "justify_items": null,
            "left": null,
            "margin": null,
            "max_height": null,
            "max_width": null,
            "min_height": null,
            "min_width": null,
            "object_fit": null,
            "object_position": null,
            "order": null,
            "overflow": null,
            "overflow_x": null,
            "overflow_y": null,
            "padding": null,
            "right": null,
            "top": null,
            "visibility": null,
            "width": null
          }
        },
        "1bec18ee3d824deca71f94ba7b026ce4": {
          "model_module": "@jupyter-widgets/controls",
          "model_name": "DescriptionStyleModel",
          "model_module_version": "1.5.0",
          "state": {
            "_model_module": "@jupyter-widgets/controls",
            "_model_module_version": "1.5.0",
            "_model_name": "DescriptionStyleModel",
            "_view_count": null,
            "_view_module": "@jupyter-widgets/base",
            "_view_module_version": "1.2.0",
            "_view_name": "StyleView",
            "description_width": ""
          }
        },
        "a68fb3a90fe145918a4457dc6d75e2b2": {
          "model_module": "@jupyter-widgets/controls",
          "model_name": "HBoxModel",
          "model_module_version": "1.5.0",
          "state": {
            "_dom_classes": [],
            "_model_module": "@jupyter-widgets/controls",
            "_model_module_version": "1.5.0",
            "_model_name": "HBoxModel",
            "_view_count": null,
            "_view_module": "@jupyter-widgets/controls",
            "_view_module_version": "1.5.0",
            "_view_name": "HBoxView",
            "box_style": "",
            "children": [
              "IPY_MODEL_f840b81ccf6d491c986527740caa7646",
              "IPY_MODEL_78c3789afe7a41ce9b78c8772701c841",
              "IPY_MODEL_9d9749c325ba4aa9987e29c2222fd637"
            ],
            "layout": "IPY_MODEL_9fbee55374cd4122abcf6e903b336d70"
          }
        },
        "f840b81ccf6d491c986527740caa7646": {
          "model_module": "@jupyter-widgets/controls",
          "model_name": "HTMLModel",
          "model_module_version": "1.5.0",
          "state": {
            "_dom_classes": [],
            "_model_module": "@jupyter-widgets/controls",
            "_model_module_version": "1.5.0",
            "_model_name": "HTMLModel",
            "_view_count": null,
            "_view_module": "@jupyter-widgets/controls",
            "_view_module_version": "1.5.0",
            "_view_name": "HTMLView",
            "description": "",
            "description_tooltip": null,
            "layout": "IPY_MODEL_abbebb17e5c948e6801000fd8a051aa8",
            "placeholder": "​",
            "style": "IPY_MODEL_ae955d6d73084f93a7df80d3f68dd2ce",
            "value": "sentencepiece.bpe.model: 100%"
          }
        },
        "78c3789afe7a41ce9b78c8772701c841": {
          "model_module": "@jupyter-widgets/controls",
          "model_name": "FloatProgressModel",
          "model_module_version": "1.5.0",
          "state": {
            "_dom_classes": [],
            "_model_module": "@jupyter-widgets/controls",
            "_model_module_version": "1.5.0",
            "_model_name": "FloatProgressModel",
            "_view_count": null,
            "_view_module": "@jupyter-widgets/controls",
            "_view_module_version": "1.5.0",
            "_view_name": "ProgressView",
            "bar_style": "success",
            "description": "",
            "description_tooltip": null,
            "layout": "IPY_MODEL_6e6bb067c8af4c59bc2c66704f6f750c",
            "max": 5069051,
            "min": 0,
            "orientation": "horizontal",
            "style": "IPY_MODEL_eeb9f89e1f964f4682633ca0f294bf28",
            "value": 5069051
          }
        },
        "9d9749c325ba4aa9987e29c2222fd637": {
          "model_module": "@jupyter-widgets/controls",
          "model_name": "HTMLModel",
          "model_module_version": "1.5.0",
          "state": {
            "_dom_classes": [],
            "_model_module": "@jupyter-widgets/controls",
            "_model_module_version": "1.5.0",
            "_model_name": "HTMLModel",
            "_view_count": null,
            "_view_module": "@jupyter-widgets/controls",
            "_view_module_version": "1.5.0",
            "_view_name": "HTMLView",
            "description": "",
            "description_tooltip": null,
            "layout": "IPY_MODEL_e842fa98fb914804b4c9f0af530d4ee6",
            "placeholder": "​",
            "style": "IPY_MODEL_d7ca167f807b4a9594255209e6ff8e77",
            "value": " 5.07M/5.07M [00:00&lt;00:00, 7.60MB/s]"
          }
        },
        "9fbee55374cd4122abcf6e903b336d70": {
          "model_module": "@jupyter-widgets/base",
          "model_name": "LayoutModel",
          "model_module_version": "1.2.0",
          "state": {
            "_model_module": "@jupyter-widgets/base",
            "_model_module_version": "1.2.0",
            "_model_name": "LayoutModel",
            "_view_count": null,
            "_view_module": "@jupyter-widgets/base",
            "_view_module_version": "1.2.0",
            "_view_name": "LayoutView",
            "align_content": null,
            "align_items": null,
            "align_self": null,
            "border": null,
            "bottom": null,
            "display": null,
            "flex": null,
            "flex_flow": null,
            "grid_area": null,
            "grid_auto_columns": null,
            "grid_auto_flow": null,
            "grid_auto_rows": null,
            "grid_column": null,
            "grid_gap": null,
            "grid_row": null,
            "grid_template_areas": null,
            "grid_template_columns": null,
            "grid_template_rows": null,
            "height": null,
            "justify_content": null,
            "justify_items": null,
            "left": null,
            "margin": null,
            "max_height": null,
            "max_width": null,
            "min_height": null,
            "min_width": null,
            "object_fit": null,
            "object_position": null,
            "order": null,
            "overflow": null,
            "overflow_x": null,
            "overflow_y": null,
            "padding": null,
            "right": null,
            "top": null,
            "visibility": null,
            "width": null
          }
        },
        "abbebb17e5c948e6801000fd8a051aa8": {
          "model_module": "@jupyter-widgets/base",
          "model_name": "LayoutModel",
          "model_module_version": "1.2.0",
          "state": {
            "_model_module": "@jupyter-widgets/base",
            "_model_module_version": "1.2.0",
            "_model_name": "LayoutModel",
            "_view_count": null,
            "_view_module": "@jupyter-widgets/base",
            "_view_module_version": "1.2.0",
            "_view_name": "LayoutView",
            "align_content": null,
            "align_items": null,
            "align_self": null,
            "border": null,
            "bottom": null,
            "display": null,
            "flex": null,
            "flex_flow": null,
            "grid_area": null,
            "grid_auto_columns": null,
            "grid_auto_flow": null,
            "grid_auto_rows": null,
            "grid_column": null,
            "grid_gap": null,
            "grid_row": null,
            "grid_template_areas": null,
            "grid_template_columns": null,
            "grid_template_rows": null,
            "height": null,
            "justify_content": null,
            "justify_items": null,
            "left": null,
            "margin": null,
            "max_height": null,
            "max_width": null,
            "min_height": null,
            "min_width": null,
            "object_fit": null,
            "object_position": null,
            "order": null,
            "overflow": null,
            "overflow_x": null,
            "overflow_y": null,
            "padding": null,
            "right": null,
            "top": null,
            "visibility": null,
            "width": null
          }
        },
        "ae955d6d73084f93a7df80d3f68dd2ce": {
          "model_module": "@jupyter-widgets/controls",
          "model_name": "DescriptionStyleModel",
          "model_module_version": "1.5.0",
          "state": {
            "_model_module": "@jupyter-widgets/controls",
            "_model_module_version": "1.5.0",
            "_model_name": "DescriptionStyleModel",
            "_view_count": null,
            "_view_module": "@jupyter-widgets/base",
            "_view_module_version": "1.2.0",
            "_view_name": "StyleView",
            "description_width": ""
          }
        },
        "6e6bb067c8af4c59bc2c66704f6f750c": {
          "model_module": "@jupyter-widgets/base",
          "model_name": "LayoutModel",
          "model_module_version": "1.2.0",
          "state": {
            "_model_module": "@jupyter-widgets/base",
            "_model_module_version": "1.2.0",
            "_model_name": "LayoutModel",
            "_view_count": null,
            "_view_module": "@jupyter-widgets/base",
            "_view_module_version": "1.2.0",
            "_view_name": "LayoutView",
            "align_content": null,
            "align_items": null,
            "align_self": null,
            "border": null,
            "bottom": null,
            "display": null,
            "flex": null,
            "flex_flow": null,
            "grid_area": null,
            "grid_auto_columns": null,
            "grid_auto_flow": null,
            "grid_auto_rows": null,
            "grid_column": null,
            "grid_gap": null,
            "grid_row": null,
            "grid_template_areas": null,
            "grid_template_columns": null,
            "grid_template_rows": null,
            "height": null,
            "justify_content": null,
            "justify_items": null,
            "left": null,
            "margin": null,
            "max_height": null,
            "max_width": null,
            "min_height": null,
            "min_width": null,
            "object_fit": null,
            "object_position": null,
            "order": null,
            "overflow": null,
            "overflow_x": null,
            "overflow_y": null,
            "padding": null,
            "right": null,
            "top": null,
            "visibility": null,
            "width": null
          }
        },
        "eeb9f89e1f964f4682633ca0f294bf28": {
          "model_module": "@jupyter-widgets/controls",
          "model_name": "ProgressStyleModel",
          "model_module_version": "1.5.0",
          "state": {
            "_model_module": "@jupyter-widgets/controls",
            "_model_module_version": "1.5.0",
            "_model_name": "ProgressStyleModel",
            "_view_count": null,
            "_view_module": "@jupyter-widgets/base",
            "_view_module_version": "1.2.0",
            "_view_name": "StyleView",
            "bar_color": null,
            "description_width": ""
          }
        },
        "e842fa98fb914804b4c9f0af530d4ee6": {
          "model_module": "@jupyter-widgets/base",
          "model_name": "LayoutModel",
          "model_module_version": "1.2.0",
          "state": {
            "_model_module": "@jupyter-widgets/base",
            "_model_module_version": "1.2.0",
            "_model_name": "LayoutModel",
            "_view_count": null,
            "_view_module": "@jupyter-widgets/base",
            "_view_module_version": "1.2.0",
            "_view_name": "LayoutView",
            "align_content": null,
            "align_items": null,
            "align_self": null,
            "border": null,
            "bottom": null,
            "display": null,
            "flex": null,
            "flex_flow": null,
            "grid_area": null,
            "grid_auto_columns": null,
            "grid_auto_flow": null,
            "grid_auto_rows": null,
            "grid_column": null,
            "grid_gap": null,
            "grid_row": null,
            "grid_template_areas": null,
            "grid_template_columns": null,
            "grid_template_rows": null,
            "height": null,
            "justify_content": null,
            "justify_items": null,
            "left": null,
            "margin": null,
            "max_height": null,
            "max_width": null,
            "min_height": null,
            "min_width": null,
            "object_fit": null,
            "object_position": null,
            "order": null,
            "overflow": null,
            "overflow_x": null,
            "overflow_y": null,
            "padding": null,
            "right": null,
            "top": null,
            "visibility": null,
            "width": null
          }
        },
        "d7ca167f807b4a9594255209e6ff8e77": {
          "model_module": "@jupyter-widgets/controls",
          "model_name": "DescriptionStyleModel",
          "model_module_version": "1.5.0",
          "state": {
            "_model_module": "@jupyter-widgets/controls",
            "_model_module_version": "1.5.0",
            "_model_name": "DescriptionStyleModel",
            "_view_count": null,
            "_view_module": "@jupyter-widgets/base",
            "_view_module_version": "1.2.0",
            "_view_name": "StyleView",
            "description_width": ""
          }
        },
        "8980d5f3cc7e45249c3526efbefd05d2": {
          "model_module": "@jupyter-widgets/controls",
          "model_name": "HBoxModel",
          "model_module_version": "1.5.0",
          "state": {
            "_dom_classes": [],
            "_model_module": "@jupyter-widgets/controls",
            "_model_module_version": "1.5.0",
            "_model_name": "HBoxModel",
            "_view_count": null,
            "_view_module": "@jupyter-widgets/controls",
            "_view_module_version": "1.5.0",
            "_view_name": "HBoxView",
            "box_style": "",
            "children": [
              "IPY_MODEL_9f71e56ad7ea4525b9280552501efc41",
              "IPY_MODEL_649780f8751946f2b4e55b12546dea07",
              "IPY_MODEL_40b9e5f0dee449c09e3f397b631094ad"
            ],
            "layout": "IPY_MODEL_c06624d709c84316afe8b6472dfe7403"
          }
        },
        "9f71e56ad7ea4525b9280552501efc41": {
          "model_module": "@jupyter-widgets/controls",
          "model_name": "HTMLModel",
          "model_module_version": "1.5.0",
          "state": {
            "_dom_classes": [],
            "_model_module": "@jupyter-widgets/controls",
            "_model_module_version": "1.5.0",
            "_model_name": "HTMLModel",
            "_view_count": null,
            "_view_module": "@jupyter-widgets/controls",
            "_view_module_version": "1.5.0",
            "_view_name": "HTMLView",
            "description": "",
            "description_tooltip": null,
            "layout": "IPY_MODEL_16f1acd30f7f4a40871e4b224c096b23",
            "placeholder": "​",
            "style": "IPY_MODEL_72a2dbe7ff634cbca6b97c95408cd344",
            "value": "tokenizer.json: 100%"
          }
        },
        "649780f8751946f2b4e55b12546dea07": {
          "model_module": "@jupyter-widgets/controls",
          "model_name": "FloatProgressModel",
          "model_module_version": "1.5.0",
          "state": {
            "_dom_classes": [],
            "_model_module": "@jupyter-widgets/controls",
            "_model_module_version": "1.5.0",
            "_model_name": "FloatProgressModel",
            "_view_count": null,
            "_view_module": "@jupyter-widgets/controls",
            "_view_module_version": "1.5.0",
            "_view_name": "ProgressView",
            "bar_style": "success",
            "description": "",
            "description_tooltip": null,
            "layout": "IPY_MODEL_a44153afcfcf46328d420465e50bb52d",
            "max": 9096718,
            "min": 0,
            "orientation": "horizontal",
            "style": "IPY_MODEL_7605a912354046afb9ffb93d90360ce0",
            "value": 9096718
          }
        },
        "40b9e5f0dee449c09e3f397b631094ad": {
          "model_module": "@jupyter-widgets/controls",
          "model_name": "HTMLModel",
          "model_module_version": "1.5.0",
          "state": {
            "_dom_classes": [],
            "_model_module": "@jupyter-widgets/controls",
            "_model_module_version": "1.5.0",
            "_model_name": "HTMLModel",
            "_view_count": null,
            "_view_module": "@jupyter-widgets/controls",
            "_view_module_version": "1.5.0",
            "_view_name": "HTMLView",
            "description": "",
            "description_tooltip": null,
            "layout": "IPY_MODEL_ae685810962e47bebfbf1792e79c52ae",
            "placeholder": "​",
            "style": "IPY_MODEL_97b95eb2f69846b380ddb4c98e66be11",
            "value": " 9.10M/9.10M [00:00&lt;00:00, 24.5MB/s]"
          }
        },
        "c06624d709c84316afe8b6472dfe7403": {
          "model_module": "@jupyter-widgets/base",
          "model_name": "LayoutModel",
          "model_module_version": "1.2.0",
          "state": {
            "_model_module": "@jupyter-widgets/base",
            "_model_module_version": "1.2.0",
            "_model_name": "LayoutModel",
            "_view_count": null,
            "_view_module": "@jupyter-widgets/base",
            "_view_module_version": "1.2.0",
            "_view_name": "LayoutView",
            "align_content": null,
            "align_items": null,
            "align_self": null,
            "border": null,
            "bottom": null,
            "display": null,
            "flex": null,
            "flex_flow": null,
            "grid_area": null,
            "grid_auto_columns": null,
            "grid_auto_flow": null,
            "grid_auto_rows": null,
            "grid_column": null,
            "grid_gap": null,
            "grid_row": null,
            "grid_template_areas": null,
            "grid_template_columns": null,
            "grid_template_rows": null,
            "height": null,
            "justify_content": null,
            "justify_items": null,
            "left": null,
            "margin": null,
            "max_height": null,
            "max_width": null,
            "min_height": null,
            "min_width": null,
            "object_fit": null,
            "object_position": null,
            "order": null,
            "overflow": null,
            "overflow_x": null,
            "overflow_y": null,
            "padding": null,
            "right": null,
            "top": null,
            "visibility": null,
            "width": null
          }
        },
        "16f1acd30f7f4a40871e4b224c096b23": {
          "model_module": "@jupyter-widgets/base",
          "model_name": "LayoutModel",
          "model_module_version": "1.2.0",
          "state": {
            "_model_module": "@jupyter-widgets/base",
            "_model_module_version": "1.2.0",
            "_model_name": "LayoutModel",
            "_view_count": null,
            "_view_module": "@jupyter-widgets/base",
            "_view_module_version": "1.2.0",
            "_view_name": "LayoutView",
            "align_content": null,
            "align_items": null,
            "align_self": null,
            "border": null,
            "bottom": null,
            "display": null,
            "flex": null,
            "flex_flow": null,
            "grid_area": null,
            "grid_auto_columns": null,
            "grid_auto_flow": null,
            "grid_auto_rows": null,
            "grid_column": null,
            "grid_gap": null,
            "grid_row": null,
            "grid_template_areas": null,
            "grid_template_columns": null,
            "grid_template_rows": null,
            "height": null,
            "justify_content": null,
            "justify_items": null,
            "left": null,
            "margin": null,
            "max_height": null,
            "max_width": null,
            "min_height": null,
            "min_width": null,
            "object_fit": null,
            "object_position": null,
            "order": null,
            "overflow": null,
            "overflow_x": null,
            "overflow_y": null,
            "padding": null,
            "right": null,
            "top": null,
            "visibility": null,
            "width": null
          }
        },
        "72a2dbe7ff634cbca6b97c95408cd344": {
          "model_module": "@jupyter-widgets/controls",
          "model_name": "DescriptionStyleModel",
          "model_module_version": "1.5.0",
          "state": {
            "_model_module": "@jupyter-widgets/controls",
            "_model_module_version": "1.5.0",
            "_model_name": "DescriptionStyleModel",
            "_view_count": null,
            "_view_module": "@jupyter-widgets/base",
            "_view_module_version": "1.2.0",
            "_view_name": "StyleView",
            "description_width": ""
          }
        },
        "a44153afcfcf46328d420465e50bb52d": {
          "model_module": "@jupyter-widgets/base",
          "model_name": "LayoutModel",
          "model_module_version": "1.2.0",
          "state": {
            "_model_module": "@jupyter-widgets/base",
            "_model_module_version": "1.2.0",
            "_model_name": "LayoutModel",
            "_view_count": null,
            "_view_module": "@jupyter-widgets/base",
            "_view_module_version": "1.2.0",
            "_view_name": "LayoutView",
            "align_content": null,
            "align_items": null,
            "align_self": null,
            "border": null,
            "bottom": null,
            "display": null,
            "flex": null,
            "flex_flow": null,
            "grid_area": null,
            "grid_auto_columns": null,
            "grid_auto_flow": null,
            "grid_auto_rows": null,
            "grid_column": null,
            "grid_gap": null,
            "grid_row": null,
            "grid_template_areas": null,
            "grid_template_columns": null,
            "grid_template_rows": null,
            "height": null,
            "justify_content": null,
            "justify_items": null,
            "left": null,
            "margin": null,
            "max_height": null,
            "max_width": null,
            "min_height": null,
            "min_width": null,
            "object_fit": null,
            "object_position": null,
            "order": null,
            "overflow": null,
            "overflow_x": null,
            "overflow_y": null,
            "padding": null,
            "right": null,
            "top": null,
            "visibility": null,
            "width": null
          }
        },
        "7605a912354046afb9ffb93d90360ce0": {
          "model_module": "@jupyter-widgets/controls",
          "model_name": "ProgressStyleModel",
          "model_module_version": "1.5.0",
          "state": {
            "_model_module": "@jupyter-widgets/controls",
            "_model_module_version": "1.5.0",
            "_model_name": "ProgressStyleModel",
            "_view_count": null,
            "_view_module": "@jupyter-widgets/base",
            "_view_module_version": "1.2.0",
            "_view_name": "StyleView",
            "bar_color": null,
            "description_width": ""
          }
        },
        "ae685810962e47bebfbf1792e79c52ae": {
          "model_module": "@jupyter-widgets/base",
          "model_name": "LayoutModel",
          "model_module_version": "1.2.0",
          "state": {
            "_model_module": "@jupyter-widgets/base",
            "_model_module_version": "1.2.0",
            "_model_name": "LayoutModel",
            "_view_count": null,
            "_view_module": "@jupyter-widgets/base",
            "_view_module_version": "1.2.0",
            "_view_name": "LayoutView",
            "align_content": null,
            "align_items": null,
            "align_self": null,
            "border": null,
            "bottom": null,
            "display": null,
            "flex": null,
            "flex_flow": null,
            "grid_area": null,
            "grid_auto_columns": null,
            "grid_auto_flow": null,
            "grid_auto_rows": null,
            "grid_column": null,
            "grid_gap": null,
            "grid_row": null,
            "grid_template_areas": null,
            "grid_template_columns": null,
            "grid_template_rows": null,
            "height": null,
            "justify_content": null,
            "justify_items": null,
            "left": null,
            "margin": null,
            "max_height": null,
            "max_width": null,
            "min_height": null,
            "min_width": null,
            "object_fit": null,
            "object_position": null,
            "order": null,
            "overflow": null,
            "overflow_x": null,
            "overflow_y": null,
            "padding": null,
            "right": null,
            "top": null,
            "visibility": null,
            "width": null
          }
        },
        "97b95eb2f69846b380ddb4c98e66be11": {
          "model_module": "@jupyter-widgets/controls",
          "model_name": "DescriptionStyleModel",
          "model_module_version": "1.5.0",
          "state": {
            "_model_module": "@jupyter-widgets/controls",
            "_model_module_version": "1.5.0",
            "_model_name": "DescriptionStyleModel",
            "_view_count": null,
            "_view_module": "@jupyter-widgets/base",
            "_view_module_version": "1.2.0",
            "_view_name": "StyleView",
            "description_width": ""
          }
        },
        "a59ee10b6fa9459b988c70add80aa013": {
          "model_module": "@jupyter-widgets/controls",
          "model_name": "HBoxModel",
          "model_module_version": "1.5.0",
          "state": {
            "_dom_classes": [],
            "_model_module": "@jupyter-widgets/controls",
            "_model_module_version": "1.5.0",
            "_model_name": "HBoxModel",
            "_view_count": null,
            "_view_module": "@jupyter-widgets/controls",
            "_view_module_version": "1.5.0",
            "_view_name": "HBoxView",
            "box_style": "",
            "children": [
              "IPY_MODEL_b00c5875aed44b798a50f0931ab0fbbb",
              "IPY_MODEL_d174a1929e2a480b8a5a4aeea2295d9e",
              "IPY_MODEL_dd9a46cda39847078542dc15b9154fa0"
            ],
            "layout": "IPY_MODEL_5c0277f6ded743868b07213085d2b9cb"
          }
        },
        "b00c5875aed44b798a50f0931ab0fbbb": {
          "model_module": "@jupyter-widgets/controls",
          "model_name": "HTMLModel",
          "model_module_version": "1.5.0",
          "state": {
            "_dom_classes": [],
            "_model_module": "@jupyter-widgets/controls",
            "_model_module_version": "1.5.0",
            "_model_name": "HTMLModel",
            "_view_count": null,
            "_view_module": "@jupyter-widgets/controls",
            "_view_module_version": "1.5.0",
            "_view_name": "HTMLView",
            "description": "",
            "description_tooltip": null,
            "layout": "IPY_MODEL_d379a085cedc41598d690888f14b0f77",
            "placeholder": "​",
            "style": "IPY_MODEL_caffed420fab42beb6e25b72d830d1a0",
            "value": "model.safetensors: 100%"
          }
        },
        "d174a1929e2a480b8a5a4aeea2295d9e": {
          "model_module": "@jupyter-widgets/controls",
          "model_name": "FloatProgressModel",
          "model_module_version": "1.5.0",
          "state": {
            "_dom_classes": [],
            "_model_module": "@jupyter-widgets/controls",
            "_model_module_version": "1.5.0",
            "_model_name": "FloatProgressModel",
            "_view_count": null,
            "_view_module": "@jupyter-widgets/controls",
            "_view_module_version": "1.5.0",
            "_view_name": "ProgressView",
            "bar_style": "success",
            "description": "",
            "description_tooltip": null,
            "layout": "IPY_MODEL_e4ed318967a14885880f91e8ad3c7f2f",
            "max": 1115567652,
            "min": 0,
            "orientation": "horizontal",
            "style": "IPY_MODEL_2e79c1f1628e44e486cce3edba6cdbc6",
            "value": 1115567652
          }
        },
        "dd9a46cda39847078542dc15b9154fa0": {
          "model_module": "@jupyter-widgets/controls",
          "model_name": "HTMLModel",
          "model_module_version": "1.5.0",
          "state": {
            "_dom_classes": [],
            "_model_module": "@jupyter-widgets/controls",
            "_model_module_version": "1.5.0",
            "_model_name": "HTMLModel",
            "_view_count": null,
            "_view_module": "@jupyter-widgets/controls",
            "_view_module_version": "1.5.0",
            "_view_name": "HTMLView",
            "description": "",
            "description_tooltip": null,
            "layout": "IPY_MODEL_6548eef396a3485ab481b69d2e8e7abc",
            "placeholder": "​",
            "style": "IPY_MODEL_2e2194672739467796e4977f046b4427",
            "value": " 1.12G/1.12G [00:04&lt;00:00, 257MB/s]"
          }
        },
        "5c0277f6ded743868b07213085d2b9cb": {
          "model_module": "@jupyter-widgets/base",
          "model_name": "LayoutModel",
          "model_module_version": "1.2.0",
          "state": {
            "_model_module": "@jupyter-widgets/base",
            "_model_module_version": "1.2.0",
            "_model_name": "LayoutModel",
            "_view_count": null,
            "_view_module": "@jupyter-widgets/base",
            "_view_module_version": "1.2.0",
            "_view_name": "LayoutView",
            "align_content": null,
            "align_items": null,
            "align_self": null,
            "border": null,
            "bottom": null,
            "display": null,
            "flex": null,
            "flex_flow": null,
            "grid_area": null,
            "grid_auto_columns": null,
            "grid_auto_flow": null,
            "grid_auto_rows": null,
            "grid_column": null,
            "grid_gap": null,
            "grid_row": null,
            "grid_template_areas": null,
            "grid_template_columns": null,
            "grid_template_rows": null,
            "height": null,
            "justify_content": null,
            "justify_items": null,
            "left": null,
            "margin": null,
            "max_height": null,
            "max_width": null,
            "min_height": null,
            "min_width": null,
            "object_fit": null,
            "object_position": null,
            "order": null,
            "overflow": null,
            "overflow_x": null,
            "overflow_y": null,
            "padding": null,
            "right": null,
            "top": null,
            "visibility": null,
            "width": null
          }
        },
        "d379a085cedc41598d690888f14b0f77": {
          "model_module": "@jupyter-widgets/base",
          "model_name": "LayoutModel",
          "model_module_version": "1.2.0",
          "state": {
            "_model_module": "@jupyter-widgets/base",
            "_model_module_version": "1.2.0",
            "_model_name": "LayoutModel",
            "_view_count": null,
            "_view_module": "@jupyter-widgets/base",
            "_view_module_version": "1.2.0",
            "_view_name": "LayoutView",
            "align_content": null,
            "align_items": null,
            "align_self": null,
            "border": null,
            "bottom": null,
            "display": null,
            "flex": null,
            "flex_flow": null,
            "grid_area": null,
            "grid_auto_columns": null,
            "grid_auto_flow": null,
            "grid_auto_rows": null,
            "grid_column": null,
            "grid_gap": null,
            "grid_row": null,
            "grid_template_areas": null,
            "grid_template_columns": null,
            "grid_template_rows": null,
            "height": null,
            "justify_content": null,
            "justify_items": null,
            "left": null,
            "margin": null,
            "max_height": null,
            "max_width": null,
            "min_height": null,
            "min_width": null,
            "object_fit": null,
            "object_position": null,
            "order": null,
            "overflow": null,
            "overflow_x": null,
            "overflow_y": null,
            "padding": null,
            "right": null,
            "top": null,
            "visibility": null,
            "width": null
          }
        },
        "caffed420fab42beb6e25b72d830d1a0": {
          "model_module": "@jupyter-widgets/controls",
          "model_name": "DescriptionStyleModel",
          "model_module_version": "1.5.0",
          "state": {
            "_model_module": "@jupyter-widgets/controls",
            "_model_module_version": "1.5.0",
            "_model_name": "DescriptionStyleModel",
            "_view_count": null,
            "_view_module": "@jupyter-widgets/base",
            "_view_module_version": "1.2.0",
            "_view_name": "StyleView",
            "description_width": ""
          }
        },
        "e4ed318967a14885880f91e8ad3c7f2f": {
          "model_module": "@jupyter-widgets/base",
          "model_name": "LayoutModel",
          "model_module_version": "1.2.0",
          "state": {
            "_model_module": "@jupyter-widgets/base",
            "_model_module_version": "1.2.0",
            "_model_name": "LayoutModel",
            "_view_count": null,
            "_view_module": "@jupyter-widgets/base",
            "_view_module_version": "1.2.0",
            "_view_name": "LayoutView",
            "align_content": null,
            "align_items": null,
            "align_self": null,
            "border": null,
            "bottom": null,
            "display": null,
            "flex": null,
            "flex_flow": null,
            "grid_area": null,
            "grid_auto_columns": null,
            "grid_auto_flow": null,
            "grid_auto_rows": null,
            "grid_column": null,
            "grid_gap": null,
            "grid_row": null,
            "grid_template_areas": null,
            "grid_template_columns": null,
            "grid_template_rows": null,
            "height": null,
            "justify_content": null,
            "justify_items": null,
            "left": null,
            "margin": null,
            "max_height": null,
            "max_width": null,
            "min_height": null,
            "min_width": null,
            "object_fit": null,
            "object_position": null,
            "order": null,
            "overflow": null,
            "overflow_x": null,
            "overflow_y": null,
            "padding": null,
            "right": null,
            "top": null,
            "visibility": null,
            "width": null
          }
        },
        "2e79c1f1628e44e486cce3edba6cdbc6": {
          "model_module": "@jupyter-widgets/controls",
          "model_name": "ProgressStyleModel",
          "model_module_version": "1.5.0",
          "state": {
            "_model_module": "@jupyter-widgets/controls",
            "_model_module_version": "1.5.0",
            "_model_name": "ProgressStyleModel",
            "_view_count": null,
            "_view_module": "@jupyter-widgets/base",
            "_view_module_version": "1.2.0",
            "_view_name": "StyleView",
            "bar_color": null,
            "description_width": ""
          }
        },
        "6548eef396a3485ab481b69d2e8e7abc": {
          "model_module": "@jupyter-widgets/base",
          "model_name": "LayoutModel",
          "model_module_version": "1.2.0",
          "state": {
            "_model_module": "@jupyter-widgets/base",
            "_model_module_version": "1.2.0",
            "_model_name": "LayoutModel",
            "_view_count": null,
            "_view_module": "@jupyter-widgets/base",
            "_view_module_version": "1.2.0",
            "_view_name": "LayoutView",
            "align_content": null,
            "align_items": null,
            "align_self": null,
            "border": null,
            "bottom": null,
            "display": null,
            "flex": null,
            "flex_flow": null,
            "grid_area": null,
            "grid_auto_columns": null,
            "grid_auto_flow": null,
            "grid_auto_rows": null,
            "grid_column": null,
            "grid_gap": null,
            "grid_row": null,
            "grid_template_areas": null,
            "grid_template_columns": null,
            "grid_template_rows": null,
            "height": null,
            "justify_content": null,
            "justify_items": null,
            "left": null,
            "margin": null,
            "max_height": null,
            "max_width": null,
            "min_height": null,
            "min_width": null,
            "object_fit": null,
            "object_position": null,
            "order": null,
            "overflow": null,
            "overflow_x": null,
            "overflow_y": null,
            "padding": null,
            "right": null,
            "top": null,
            "visibility": null,
            "width": null
          }
        },
        "2e2194672739467796e4977f046b4427": {
          "model_module": "@jupyter-widgets/controls",
          "model_name": "DescriptionStyleModel",
          "model_module_version": "1.5.0",
          "state": {
            "_model_module": "@jupyter-widgets/controls",
            "_model_module_version": "1.5.0",
            "_model_name": "DescriptionStyleModel",
            "_view_count": null,
            "_view_module": "@jupyter-widgets/base",
            "_view_module_version": "1.2.0",
            "_view_name": "StyleView",
            "description_width": ""
          }
        }
      }
    }
  },
  "cells": [
    {
      "cell_type": "markdown",
      "source": [
        "# Libraries"
      ],
      "metadata": {
        "id": "6C-AKq44bSij"
      }
    },
    {
      "cell_type": "code",
      "execution_count": null,
      "metadata": {
        "colab": {
          "base_uri": "https://localhost:8080/"
        },
        "id": "EFczwcZNMvRa",
        "outputId": "03a952e7-354b-4b11-dd2b-78a1fa92c3ca"
      },
      "outputs": [
        {
          "output_type": "stream",
          "name": "stdout",
          "text": [
            "Collecting emoji\n",
            "  Downloading emoji-2.14.1-py3-none-any.whl.metadata (5.7 kB)\n",
            "Downloading emoji-2.14.1-py3-none-any.whl (590 kB)\n",
            "\u001b[?25l   \u001b[90m━━━━━━━━━━━━━━━━━━━━━━━━━━━━━━━━━━━━━━━━\u001b[0m \u001b[32m0.0/590.6 kB\u001b[0m \u001b[31m?\u001b[0m eta \u001b[36m-:--:--\u001b[0m\r\u001b[2K   \u001b[91m━━━━━━━━━━━━━━━━━\u001b[0m\u001b[90m╺\u001b[0m\u001b[90m━━━━━━━━━━━━━━━━━━━━━━\u001b[0m \u001b[32m256.0/590.6 kB\u001b[0m \u001b[31m7.5 MB/s\u001b[0m eta \u001b[36m0:00:01\u001b[0m\r\u001b[2K   \u001b[90m━━━━━━━━━━━━━━━━━━━━━━━━━━━━━━━━━━━━━━━━\u001b[0m \u001b[32m590.6/590.6 kB\u001b[0m \u001b[31m10.9 MB/s\u001b[0m eta \u001b[36m0:00:00\u001b[0m\n",
            "\u001b[?25hInstalling collected packages: emoji\n",
            "Successfully installed emoji-2.14.1\n"
          ]
        }
      ],
      "source": [
        "!pip install emoji"
      ]
    },
    {
      "cell_type": "code",
      "source": [
        "import re\n",
        "import string\n",
        "import pandas as pd\n",
        "import numpy as np\n",
        "import matplotlib.pyplot as plt\n",
        "import seaborn as sns\n",
        "import emoji\n",
        "import torch\n",
        "import time\n",
        "from torch.utils.data import Dataset\n",
        "from sklearn.model_selection import train_test_split\n",
        "from sklearn.preprocessing import LabelEncoder\n",
        "from sklearn.metrics import accuracy_score, classification_report, confusion_matrix, ConfusionMatrixDisplay\n",
        "from datasets import Dataset\n",
        "\n",
        "\n",
        "from transformers import (\n",
        "    AutoTokenizer,\n",
        "    AutoModelForSequenceClassification,\n",
        "    Trainer,\n",
        "    TrainingArguments,\n",
        "    DataCollatorWithPadding,\n",
        "    XLMRobertaTokenizer,\n",
        "    EarlyStoppingCallback,\n",
        "    TrainerCallback\n",
        ")"
      ],
      "metadata": {
        "id": "iK9OoXVDNAfh"
      },
      "execution_count": null,
      "outputs": []
    },
    {
      "cell_type": "markdown",
      "source": [
        "# Load Dataset"
      ],
      "metadata": {
        "id": "3J5PoWfN61SZ"
      }
    },
    {
      "cell_type": "code",
      "source": [
        "# Path each dataset\n",
        "dataset_path = \"/content/Indonesia_9008.csv\"\n",
        "singkatan_dict_path = \"/content/new_kamusalay.csv\"\n",
        "emoji_dict_path = \"/content/emoji_to_text.csv\"\n",
        "\n",
        "# Load dataset utama\n",
        "df = pd.read_csv(dataset_path)\n",
        "\n",
        " # Memuat kamus alay\n",
        "kamus_alay = pd.read_csv('/content/new_kamusalay.csv', sep=',', header=None, names=['alay', 'full'], encoding='ISO-8859-1')\n",
        "kamus_alay_dict = dict(zip(kamus_alay['alay'], kamus_alay['full']))\n",
        "\n",
        "# Load kamus emoji\n",
        "emoji_df = pd.read_csv(emoji_dict_path)\n",
        "emoji_dict = dict(zip(emoji_df['emoji'], emoji_df['makna']))\n",
        "\n",
        "# Cek info dataset Indonesia\n",
        "df.info()"
      ],
      "metadata": {
        "colab": {
          "base_uri": "https://localhost:8080/"
        },
        "id": "iu8ZhV4zNDC0",
        "outputId": "80c3d5f6-0350-474b-9582-8636b16749d1"
      },
      "execution_count": null,
      "outputs": [
        {
          "output_type": "stream",
          "name": "stdout",
          "text": [
            "<class 'pandas.core.frame.DataFrame'>\n",
            "RangeIndex: 9008 entries, 0 to 9007\n",
            "Data columns (total 2 columns):\n",
            " #   Column  Non-Null Count  Dtype \n",
            "---  ------  --------------  ----- \n",
            " 0   text    9008 non-null   object\n",
            " 1   label   9008 non-null   object\n",
            "dtypes: object(2)\n",
            "memory usage: 140.9+ KB\n"
          ]
        }
      ]
    },
    {
      "cell_type": "markdown",
      "source": [
        "# Data Pre processing"
      ],
      "metadata": {
        "id": "PiVRudwxbVw3"
      }
    },
    {
      "cell_type": "markdown",
      "source": [
        "## 1. Class Distribution"
      ],
      "metadata": {
        "id": "Em0Zsfu37J9Y"
      }
    },
    {
      "cell_type": "code",
      "source": [
        "plt.figure(figsize=(8, 5))\n",
        "sns.countplot(x='label', data=df)\n",
        "plt.title('Distribusi Label Emosi')\n",
        "plt.xlabel('Label Emosi')\n",
        "plt.ylabel('Jumlah')\n",
        "plt.show()"
      ],
      "metadata": {
        "id": "Mmqb4pTq7lnG",
        "colab": {
          "base_uri": "https://localhost:8080/",
          "height": 456
        },
        "outputId": "458de0af-dd63-4628-d49b-7ad18cec3195"
      },
      "execution_count": null,
      "outputs": [
        {
          "output_type": "display_data",
          "data": {
            "text/plain": [
              "<Figure size 800x500 with 1 Axes>"
            ],
            "image/png": "[encoded data removed]"
          },
          "metadata": {}
        }
      ]
    },
    {
      "cell_type": "markdown",
      "source": [
        "## 2. Text Cleaning"
      ],
      "metadata": {
        "id": "X1k3uTDY7mCP"
      }
    },
    {
      "cell_type": "code",
      "source": [
        "# Convert Emoji\n",
        "def convert_emoji(text, emoji_dict):\n",
        "    for emo, meaning in emoji_dict.items():\n",
        "        text = text.replace(emo, f\" {meaning} \")\n",
        "    return text\n",
        "\n",
        "#Text Normalization\n",
        "def normalize_text(text, singkatan_dict):\n",
        "    words = text.split()\n",
        "    normalized = [kamus_alay_dict.get(word.lower(), word) for word in words]\n",
        "    return ' '.join(normalized)\n",
        "\n",
        "# Noise Character Removal\n",
        "def clean_text(text):\n",
        "    text = re.sub(r'#(\\w+)', r' \\1 ', text)\n",
        "    text = re.sub(r'@[\\w_]+', '', text)\n",
        "    text = re.sub(r'\\[.*?\\]', '', text)\n",
        "    text = re.sub(r'http\\S+', '', text)\n",
        "    text = re.sub(r'www\\S+', '', text)\n",
        "    text = re.sub(r'ðŸ[^ ]*', '', text)\n",
        "    text = re.sub(r'[-/]', ' ', text)\n",
        "    text = re.sub(r'\\b\\w*\\d\\w*\\b', '', text)\n",
        "    text = re.sub(r'\\.{3,}', 'elipsis', text)\n",
        "\n",
        "    allowed_punct = '!?'\n",
        "    text = ''.join(char for char in text if char.isalpha() or char.isspace() or char in allowed_punct or char == 'elipsis')\n",
        "\n",
        "    text = text.replace('elipsis', '...')\n",
        "\n",
        "    text = re.sub(r'\\s+', ' ', text).strip()\n",
        "    return text\n",
        "\n",
        "# Case Folding\n",
        "def to_lowercase(text):\n",
        "    return text.lower()\n",
        "\n",
        "def preprocess_text(text, kamus_alay_dict, emoji_dict):\n",
        "    text = str(text)\n",
        "    text = convert_emoji(text, emoji_dict)\n",
        "    text = normalize_text(text, kamus_alay_dict)\n",
        "    text = clean_text(text)\n",
        "    text = to_lowercase(text)\n",
        "    return text"
      ],
      "metadata": {
        "id": "mldh31pjVlyE"
      },
      "execution_count": null,
      "outputs": []
    },
    {
      "cell_type": "code",
      "source": [
        "# Backup kolom asli\n",
        "df['text_original'] = df['text']\n",
        "\n",
        "# Output per step\n",
        "df['text_emoji'] = df['text_original'].apply(lambda x: convert_emoji(x, emoji_dict))\n",
        "df['text_normalized'] = df['text_emoji'].apply(lambda x: normalize_text(x, kamus_alay_dict))\n",
        "df['text_cleaned'] = df['text_normalized'].apply(clean_text)\n",
        "df['text_lowercase'] = df['text_cleaned'].apply(to_lowercase)\n",
        "\n",
        "# Simpan hasil akhir ke kolom final\n",
        "df['text_clean'] = df['text_lowercase']\n"
      ],
      "metadata": {
        "id": "scRW93DZNNqR"
      },
      "execution_count": null,
      "outputs": []
    },
    {
      "cell_type": "code",
      "source": [
        "df[['label', 'text_original', 'text_emoji', 'text_normalized', 'text_cleaned', 'text_lowercase', 'text_clean']].head(100)"
      ],
      "metadata": {
        "id": "7IzghtYx7eLc",
        "colab": {
          "base_uri": "https://localhost:8080/",
          "height": 1000
        },
        "outputId": "f66f2e0d-2e99-4433-b036-17bd1c36d0cf",
        "collapsed": true
      },
      "execution_count": null,
      "outputs": [
        {
          "output_type": "execute_result",
          "data": {
            "text/plain": [
              "      label                                      text_original  \\\n",
              "0   sadness  Jaringan yang terus memburuk membuat hari-hari...   \n",
              "1       joy  @kudila_ wah keren banget Telkomsel Awards 202...   \n",
              "2   sadness  @Telkomsel Paket 4G Ceria saya tolong jangan d...   \n",
              "3     anger  Pas banget dari dulu Telkomsel selalu mengecew...   \n",
              "4      fear  Gangguan yang sering terjadi di Indosat membua...   \n",
              "..      ...                                                ...   \n",
              "95      joy  @xodiac_id @Telkomsel Mantap @XODIACOfficial ð...   \n",
              "96     fear  Telkomsel meluncurkan layanan baru, jadi saya ...   \n",
              "97    anger  @Telkomsel Sinyal jelek parah dari kemarin sam...   \n",
              "98  sadness  @Telkomsel Saya beli paket yang harusnya aktif...   \n",
              "99  sadness  @Telkomsel Berlangganan cuma 7 hari, rugi dong...   \n",
              "\n",
              "                                           text_emoji  \\\n",
              "0   Jaringan yang terus memburuk membuat hari-hari...   \n",
              "1   @kudila_ wah keren banget Telkomsel Awards 202...   \n",
              "2   @Telkomsel Paket 4G Ceria saya tolong jangan d...   \n",
              "3   Pas banget dari dulu Telkomsel selalu mengecew...   \n",
              "4   Gangguan yang sering terjadi di Indosat membua...   \n",
              "..                                                ...   \n",
              "95  @xodiac_id @Telkomsel Mantap @XODIACOfficial ð...   \n",
              "96  Telkomsel meluncurkan layanan baru, jadi saya ...   \n",
              "97  @Telkomsel Sinyal jelek parah dari kemarin sam...   \n",
              "98  @Telkomsel Saya beli paket yang harusnya aktif...   \n",
              "99  @Telkomsel Berlangganan cuma 7 hari, rugi dong...   \n",
              "\n",
              "                                      text_normalized  \\\n",
              "0   Jaringan yang terus memburuk membuat hari-hari...   \n",
              "1   @kudila_ wah keren banget Telkomsel Awards 202...   \n",
              "2   @Telkomsel Paket 4G Ceria saya tolong jangan d...   \n",
              "3   Pas banget dari dulu Telkomsel selalu mengecew...   \n",
              "4   Gangguan yang sering terjadi di Indosat membua...   \n",
              "..                                                ...   \n",
              "95  @xodiac_id @Telkomsel Mantap @XODIACOfficial ð...   \n",
              "96  Telkomsel meluncurkan layanan baru, jadi saya ...   \n",
              "97  @Telkomsel Sinyal jelek parah dari kemarin sam...   \n",
              "98  @Telkomsel Saya beli paket yang harusnya aktif...   \n",
              "99  @Telkomsel Berlangganan cuma 7 hari, rugi dong...   \n",
              "\n",
              "                                         text_cleaned  \\\n",
              "0   Jaringan yang terus memburuk membuat hari hari...   \n",
              "1   wah keren banget Telkomsel Awards ada zayyan j...   \n",
              "2   Paket Ceria saya tolong jangan dihilangkan Itu...   \n",
              "3   Pas banget dari dulu Telkomsel selalu mengecew...   \n",
              "4   Gangguan yang sering terjadi di Indosat membua...   \n",
              "..                                                ...   \n",
              "95  Mantap Zayyan pulang kampung... kayak Dita di ...   \n",
              "96  Telkomsel meluncurkan layanan baru jadi saya a...   \n",
              "97  Sinyal jelek parah dari kemarin sampai sekaran...   \n",
              "98  Saya beli paket yang harusnya aktif sampai Agu...   \n",
              "99  Berlangganan cuma hari rugi dong Kecewa banget...   \n",
              "\n",
              "                                       text_lowercase  \\\n",
              "0   jaringan yang terus memburuk membuat hari hari...   \n",
              "1   wah keren banget telkomsel awards ada zayyan j...   \n",
              "2   paket ceria saya tolong jangan dihilangkan itu...   \n",
              "3   pas banget dari dulu telkomsel selalu mengecew...   \n",
              "4   gangguan yang sering terjadi di indosat membua...   \n",
              "..                                                ...   \n",
              "95  mantap zayyan pulang kampung... kayak dita di ...   \n",
              "96  telkomsel meluncurkan layanan baru jadi saya a...   \n",
              "97  sinyal jelek parah dari kemarin sampai sekaran...   \n",
              "98  saya beli paket yang harusnya aktif sampai agu...   \n",
              "99  berlangganan cuma hari rugi dong kecewa banget...   \n",
              "\n",
              "                                           text_clean  \n",
              "0   jaringan yang terus memburuk membuat hari hari...  \n",
              "1   wah keren banget telkomsel awards ada zayyan j...  \n",
              "2   paket ceria saya tolong jangan dihilangkan itu...  \n",
              "3   pas banget dari dulu telkomsel selalu mengecew...  \n",
              "4   gangguan yang sering terjadi di indosat membua...  \n",
              "..                                                ...  \n",
              "95  mantap zayyan pulang kampung... kayak dita di ...  \n",
              "96  telkomsel meluncurkan layanan baru jadi saya a...  \n",
              "97  sinyal jelek parah dari kemarin sampai sekaran...  \n",
              "98  saya beli paket yang harusnya aktif sampai agu...  \n",
              "99  berlangganan cuma hari rugi dong kecewa banget...  \n",
              "\n",
              "[100 rows x 7 columns]"
            ],
            "text/html": [
              "\n",
              "  <div id=\"df-1d2afefa-08dc-4c54-9c11-b250bc633a48\" class=\"colab-df-container\">\n",
              "    <div>\n",
              "<style scoped>\n",
              "    .dataframe tbody tr th:only-of-type {\n",
              "        vertical-align: middle;\n",
              "    }\n",
              "\n",
              "    .dataframe tbody tr th {\n",
              "        vertical-align: top;\n",
              "    }\n",
              "\n",
              "    .dataframe thead th {\n",
              "        text-align: right;\n",
              "    }\n",
              "</style>\n",
              "<table border=\"1\" class=\"dataframe\">\n",
              "  <thead>\n",
              "    <tr style=\"text-align: right;\">\n",
              "      <th></th>\n",
              "      <th>label</th>\n",
              "      <th>text_original</th>\n",
              "      <th>text_emoji</th>\n",
              "      <th>text_normalized</th>\n",
              "      <th>text_cleaned</th>\n",
              "      <th>text_lowercase</th>\n",
              "      <th>text_clean</th>\n",
              "    </tr>\n",
              "  </thead>\n",
              "  <tbody>\n",
              "    <tr>\n",
              "      <th>0</th>\n",
              "      <td>sadness</td>\n",
              "      <td>Jaringan yang terus memburuk membuat hari-hari...</td>\n",
              "      <td>Jaringan yang terus memburuk membuat hari-hari...</td>\n",
              "      <td>Jaringan yang terus memburuk membuat hari-hari...</td>\n",
              "      <td>Jaringan yang terus memburuk membuat hari hari...</td>\n",
              "      <td>jaringan yang terus memburuk membuat hari hari...</td>\n",
              "      <td>jaringan yang terus memburuk membuat hari hari...</td>\n",
              "    </tr>\n",
              "    <tr>\n",
              "      <th>1</th>\n",
              "      <td>joy</td>\n",
              "      <td>@kudila_ wah keren banget Telkomsel Awards 202...</td>\n",
              "      <td>@kudila_ wah keren banget Telkomsel Awards 202...</td>\n",
              "      <td>@kudila_ wah keren banget Telkomsel Awards 202...</td>\n",
              "      <td>wah keren banget Telkomsel Awards ada zayyan j...</td>\n",
              "      <td>wah keren banget telkomsel awards ada zayyan j...</td>\n",
              "      <td>wah keren banget telkomsel awards ada zayyan j...</td>\n",
              "    </tr>\n",
              "    <tr>\n",
              "      <th>2</th>\n",
              "      <td>sadness</td>\n",
              "      <td>@Telkomsel Paket 4G Ceria saya tolong jangan d...</td>\n",
              "      <td>@Telkomsel Paket 4G Ceria saya tolong jangan d...</td>\n",
              "      <td>@Telkomsel Paket 4G Ceria saya tolong jangan d...</td>\n",
              "      <td>Paket Ceria saya tolong jangan dihilangkan Itu...</td>\n",
              "      <td>paket ceria saya tolong jangan dihilangkan itu...</td>\n",
              "      <td>paket ceria saya tolong jangan dihilangkan itu...</td>\n",
              "    </tr>\n",
              "    <tr>\n",
              "      <th>3</th>\n",
              "      <td>anger</td>\n",
              "      <td>Pas banget dari dulu Telkomsel selalu mengecew...</td>\n",
              "      <td>Pas banget dari dulu Telkomsel selalu mengecew...</td>\n",
              "      <td>Pas banget dari dulu Telkomsel selalu mengecew...</td>\n",
              "      <td>Pas banget dari dulu Telkomsel selalu mengecew...</td>\n",
              "      <td>pas banget dari dulu telkomsel selalu mengecew...</td>\n",
              "      <td>pas banget dari dulu telkomsel selalu mengecew...</td>\n",
              "    </tr>\n",
              "    <tr>\n",
              "      <th>4</th>\n",
              "      <td>fear</td>\n",
              "      <td>Gangguan yang sering terjadi di Indosat membua...</td>\n",
              "      <td>Gangguan yang sering terjadi di Indosat membua...</td>\n",
              "      <td>Gangguan yang sering terjadi di Indosat membua...</td>\n",
              "      <td>Gangguan yang sering terjadi di Indosat membua...</td>\n",
              "      <td>gangguan yang sering terjadi di indosat membua...</td>\n",
              "      <td>gangguan yang sering terjadi di indosat membua...</td>\n",
              "    </tr>\n",
              "    <tr>\n",
              "      <th>...</th>\n",
              "      <td>...</td>\n",
              "      <td>...</td>\n",
              "      <td>...</td>\n",
              "      <td>...</td>\n",
              "      <td>...</td>\n",
              "      <td>...</td>\n",
              "      <td>...</td>\n",
              "    </tr>\n",
              "    <tr>\n",
              "      <th>95</th>\n",
              "      <td>joy</td>\n",
              "      <td>@xodiac_id @Telkomsel Mantap @XODIACOfficial ð...</td>\n",
              "      <td>@xodiac_id @Telkomsel Mantap @XODIACOfficial ð...</td>\n",
              "      <td>@xodiac_id @Telkomsel Mantap @XODIACOfficial ð...</td>\n",
              "      <td>Mantap Zayyan pulang kampung... kayak Dita di ...</td>\n",
              "      <td>mantap zayyan pulang kampung... kayak dita di ...</td>\n",
              "      <td>mantap zayyan pulang kampung... kayak dita di ...</td>\n",
              "    </tr>\n",
              "    <tr>\n",
              "      <th>96</th>\n",
              "      <td>fear</td>\n",
              "      <td>Telkomsel meluncurkan layanan baru, jadi saya ...</td>\n",
              "      <td>Telkomsel meluncurkan layanan baru, jadi saya ...</td>\n",
              "      <td>Telkomsel meluncurkan layanan baru, jadi saya ...</td>\n",
              "      <td>Telkomsel meluncurkan layanan baru jadi saya a...</td>\n",
              "      <td>telkomsel meluncurkan layanan baru jadi saya a...</td>\n",
              "      <td>telkomsel meluncurkan layanan baru jadi saya a...</td>\n",
              "    </tr>\n",
              "    <tr>\n",
              "      <th>97</th>\n",
              "      <td>anger</td>\n",
              "      <td>@Telkomsel Sinyal jelek parah dari kemarin sam...</td>\n",
              "      <td>@Telkomsel Sinyal jelek parah dari kemarin sam...</td>\n",
              "      <td>@Telkomsel Sinyal jelek parah dari kemarin sam...</td>\n",
              "      <td>Sinyal jelek parah dari kemarin sampai sekaran...</td>\n",
              "      <td>sinyal jelek parah dari kemarin sampai sekaran...</td>\n",
              "      <td>sinyal jelek parah dari kemarin sampai sekaran...</td>\n",
              "    </tr>\n",
              "    <tr>\n",
              "      <th>98</th>\n",
              "      <td>sadness</td>\n",
              "      <td>@Telkomsel Saya beli paket yang harusnya aktif...</td>\n",
              "      <td>@Telkomsel Saya beli paket yang harusnya aktif...</td>\n",
              "      <td>@Telkomsel Saya beli paket yang harusnya aktif...</td>\n",
              "      <td>Saya beli paket yang harusnya aktif sampai Agu...</td>\n",
              "      <td>saya beli paket yang harusnya aktif sampai agu...</td>\n",
              "      <td>saya beli paket yang harusnya aktif sampai agu...</td>\n",
              "    </tr>\n",
              "    <tr>\n",
              "      <th>99</th>\n",
              "      <td>sadness</td>\n",
              "      <td>@Telkomsel Berlangganan cuma 7 hari, rugi dong...</td>\n",
              "      <td>@Telkomsel Berlangganan cuma 7 hari, rugi dong...</td>\n",
              "      <td>@Telkomsel Berlangganan cuma 7 hari, rugi dong...</td>\n",
              "      <td>Berlangganan cuma hari rugi dong Kecewa banget...</td>\n",
              "      <td>berlangganan cuma hari rugi dong kecewa banget...</td>\n",
              "      <td>berlangganan cuma hari rugi dong kecewa banget...</td>\n",
              "    </tr>\n",
              "  </tbody>\n",
              "</table>\n",
              "<p>100 rows × 7 columns</p>\n",
              "</div>\n",
              "    <div class=\"colab-df-buttons\">\n",
              "\n",
              "  <div class=\"colab-df-container\">\n",
              "    <button class=\"colab-df-convert\" onclick=\"convertToInteractive('df-1d2afefa-08dc-4c54-9c11-b250bc633a48')\"\n",
              "            title=\"Convert this dataframe to an interactive table.\"\n",
              "            style=\"display:none;\">\n",
              "\n",
              "  <svg xmlns=\"http://www.w3.org/2000/svg\" height=\"24px\" viewBox=\"0 -960 960 960\">\n",
              "    <path d=\"M120-120v-720h720v720H120Zm60-500h600v-160H180v160Zm220 220h160v-160H400v160Zm0 220h160v-160H400v160ZM180-400h160v-160H180v160Zm440 0h160v-160H620v160ZM180-180h160v-160H180v160Zm440 0h160v-160H620v160Z\"/>\n",
              "  </svg>\n",
              "    </button>\n",
              "\n",
              "  <style>\n",
              "    .colab-df-container {\n",
              "      display:flex;\n",
              "      gap: 12px;\n",
              "    }\n",
              "\n",
              "    .colab-df-convert {\n",
              "      background-color: #E8F0FE;\n",
              "      border: none;\n",
              "      border-radius: 50%;\n",
              "      cursor: pointer;\n",
              "      display: none;\n",
              "      fill: #1967D2;\n",
              "      height: 32px;\n",
              "      padding: 0 0 0 0;\n",
              "      width: 32px;\n",
              "    }\n",
              "\n",
              "    .colab-df-convert:hover {\n",
              "      background-color: #E2EBFA;\n",
              "      box-shadow: 0px 1px 2px rgba(60, 64, 67, 0.3), 0px 1px 3px 1px rgba(60, 64, 67, 0.15);\n",
              "      fill: #174EA6;\n",
              "    }\n",
              "\n",
              "    .colab-df-buttons div {\n",
              "      margin-bottom: 4px;\n",
              "    }\n",
              "\n",
              "    [theme=dark] .colab-df-convert {\n",
              "      background-color: #3B4455;\n",
              "      fill: #D2E3FC;\n",
              "    }\n",
              "\n",
              "    [theme=dark] .colab-df-convert:hover {\n",
              "      background-color: #434B5C;\n",
              "      box-shadow: 0px 1px 3px 1px rgba(0, 0, 0, 0.15);\n",
              "      filter: drop-shadow(0px 1px 2px rgba(0, 0, 0, 0.3));\n",
              "      fill: #FFFFFF;\n",
              "    }\n",
              "  </style>\n",
              "\n",
              "    <script>\n",
              "      const buttonEl =\n",
              "        document.querySelector('#df-1d2afefa-08dc-4c54-9c11-b250bc633a48 button.colab-df-convert');\n",
              "      buttonEl.style.display =\n",
              "        google.colab.kernel.accessAllowed ? 'block' : 'none';\n",
              "\n",
              "      async function convertToInteractive(key) {\n",
              "        const element = document.querySelector('#df-1d2afefa-08dc-4c54-9c11-b250bc633a48');\n",
              "        const dataTable =\n",
              "          await google.colab.kernel.invokeFunction('convertToInteractive',\n",
              "                                                    [key], {});\n",
              "        if (!dataTable) return;\n",
              "\n",
              "        const docLinkHtml = 'Like what you see? Visit the ' +\n",
              "          '<a target=\"_blank\" href=https://colab.research.google.com/notebooks/data_table.ipynb>data table notebook</a>'\n",
              "          + ' to learn more about interactive tables.';\n",
              "        element.innerHTML = '';\n",
              "        dataTable['output_type'] = 'display_data';\n",
              "        await google.colab.output.renderOutput(dataTable, element);\n",
              "        const docLink = document.createElement('div');\n",
              "        docLink.innerHTML = docLinkHtml;\n",
              "        element.appendChild(docLink);\n",
              "      }\n",
              "    </script>\n",
              "  </div>\n",
              "\n",
              "\n",
              "    <div id=\"df-68282262-b7a9-4db4-be40-3df7a6f61935\">\n",
              "      <button class=\"colab-df-quickchart\" onclick=\"quickchart('df-68282262-b7a9-4db4-be40-3df7a6f61935')\"\n",
              "                title=\"Suggest charts\"\n",
              "                style=\"display:none;\">\n",
              "\n",
              "<svg xmlns=\"http://www.w3.org/2000/svg\" height=\"24px\"viewBox=\"0 0 24 24\"\n",
              "     width=\"24px\">\n",
              "    <g>\n",
              "        <path d=\"M19 3H5c-1.1 0-2 .9-2 2v14c0 1.1.9 2 2 2h14c1.1 0 2-.9 2-2V5c0-1.1-.9-2-2-2zM9 17H7v-7h2v7zm4 0h-2V7h2v10zm4 0h-2v-4h2v4z\"/>\n",
              "    </g>\n",
              "</svg>\n",
              "      </button>\n",
              "\n",
              "<style>\n",
              "  .colab-df-quickchart {\n",
              "      --bg-color: #E8F0FE;\n",
              "      --fill-color: #1967D2;\n",
              "      --hover-bg-color: #E2EBFA;\n",
              "      --hover-fill-color: #174EA6;\n",
              "      --disabled-fill-color: #AAA;\n",
              "      --disabled-bg-color: #DDD;\n",
              "  }\n",
              "\n",
              "  [theme=dark] .colab-df-quickchart {\n",
              "      --bg-color: #3B4455;\n",
              "      --fill-color: #D2E3FC;\n",
              "      --hover-bg-color: #434B5C;\n",
              "      --hover-fill-color: #FFFFFF;\n",
              "      --disabled-bg-color: #3B4455;\n",
              "      --disabled-fill-color: #666;\n",
              "  }\n",
              "\n",
              "  .colab-df-quickchart {\n",
              "    background-color: var(--bg-color);\n",
              "    border: none;\n",
              "    border-radius: 50%;\n",
              "    cursor: pointer;\n",
              "    display: none;\n",
              "    fill: var(--fill-color);\n",
              "    height: 32px;\n",
              "    padding: 0;\n",
              "    width: 32px;\n",
              "  }\n",
              "\n",
              "  .colab-df-quickchart:hover {\n",
              "    background-color: var(--hover-bg-color);\n",
              "    box-shadow: 0 1px 2px rgba(60, 64, 67, 0.3), 0 1px 3px 1px rgba(60, 64, 67, 0.15);\n",
              "    fill: var(--button-hover-fill-color);\n",
              "  }\n",
              "\n",
              "  .colab-df-quickchart-complete:disabled,\n",
              "  .colab-df-quickchart-complete:disabled:hover {\n",
              "    background-color: var(--disabled-bg-color);\n",
              "    fill: var(--disabled-fill-color);\n",
              "    box-shadow: none;\n",
              "  }\n",
              "\n",
              "  .colab-df-spinner {\n",
              "    border: 2px solid var(--fill-color);\n",
              "    border-color: transparent;\n",
              "    border-bottom-color: var(--fill-color);\n",
              "    animation:\n",
              "      spin 1s steps(1) infinite;\n",
              "  }\n",
              "\n",
              "  @keyframes spin {\n",
              "    0% {\n",
              "      border-color: transparent;\n",
              "      border-bottom-color: var(--fill-color);\n",
              "      border-left-color: var(--fill-color);\n",
              "    }\n",
              "    20% {\n",
              "      border-color: transparent;\n",
              "      border-left-color: var(--fill-color);\n",
              "      border-top-color: var(--fill-color);\n",
              "    }\n",
              "    30% {\n",
              "      border-color: transparent;\n",
              "      border-left-color: var(--fill-color);\n",
              "      border-top-color: var(--fill-color);\n",
              "      border-right-color: var(--fill-color);\n",
              "    }\n",
              "    40% {\n",
              "      border-color: transparent;\n",
              "      border-right-color: var(--fill-color);\n",
              "      border-top-color: var(--fill-color);\n",
              "    }\n",
              "    60% {\n",
              "      border-color: transparent;\n",
              "      border-right-color: var(--fill-color);\n",
              "    }\n",
              "    80% {\n",
              "      border-color: transparent;\n",
              "      border-right-color: var(--fill-color);\n",
              "      border-bottom-color: var(--fill-color);\n",
              "    }\n",
              "    90% {\n",
              "      border-color: transparent;\n",
              "      border-bottom-color: var(--fill-color);\n",
              "    }\n",
              "  }\n",
              "</style>\n",
              "\n",
              "      <script>\n",
              "        async function quickchart(key) {\n",
              "          const quickchartButtonEl =\n",
              "            document.querySelector('#' + key + ' button');\n",
              "          quickchartButtonEl.disabled = true;  // To prevent multiple clicks.\n",
              "          quickchartButtonEl.classList.add('colab-df-spinner');\n",
              "          try {\n",
              "            const charts = await google.colab.kernel.invokeFunction(\n",
              "                'suggestCharts', [key], {});\n",
              "          } catch (error) {\n",
              "            console.error('Error during call to suggestCharts:', error);\n",
              "          }\n",
              "          quickchartButtonEl.classList.remove('colab-df-spinner');\n",
              "          quickchartButtonEl.classList.add('colab-df-quickchart-complete');\n",
              "        }\n",
              "        (() => {\n",
              "          let quickchartButtonEl =\n",
              "            document.querySelector('#df-68282262-b7a9-4db4-be40-3df7a6f61935 button');\n",
              "          quickchartButtonEl.style.display =\n",
              "            google.colab.kernel.accessAllowed ? 'block' : 'none';\n",
              "        })();\n",
              "      </script>\n",
              "    </div>\n",
              "\n",
              "    </div>\n",
              "  </div>\n"
            ],
            "application/vnd.google.colaboratory.intrinsic+json": {
              "type": "dataframe",
              "summary": "{\n  \"name\": \"df[['label', 'text_original', 'text_emoji', 'text_normalized', 'text_cleaned', 'text_lowercase', 'text_clean']]\",\n  \"rows\": 100,\n  \"fields\": [\n    {\n      \"column\": \"label\",\n      \"properties\": {\n        \"dtype\": \"category\",\n        \"num_unique_values\": 4,\n        \"samples\": [\n          \"joy\",\n          \"fear\",\n          \"sadness\"\n        ],\n        \"semantic_type\": \"\",\n        \"description\": \"\"\n      }\n    },\n    {\n      \"column\": \"text_original\",\n      \"properties\": {\n        \"dtype\": \"string\",\n        \"num_unique_values\": 100,\n        \"samples\": [\n          \"@myXLCare, XL kontol babi anjing setan bangsat! Jaringan lemot terus, gue nyesel pake XL! Kalah jauh sama Telkomsel yang jarang banget lemot. XL bener-bener babi, sering banget bikin emosi!\",\n          \"Tinggal di Papua Barat, harga paket mahal banget, tapi jaringan @Telkomsel kualitasnya parah. Yuk dong @myXL, @triindonesia, atau @IndosatCare bikin jaringan di Bintuni, biar Telkomsel tahu diri!\",\n          \"Sinyal Telkomsel busuk banget. Beneran nggak bisa diandalkan sama sekali!\"\n        ],\n        \"semantic_type\": \"\",\n        \"description\": \"\"\n      }\n    },\n    {\n      \"column\": \"text_emoji\",\n      \"properties\": {\n        \"dtype\": \"string\",\n        \"num_unique_values\": 100,\n        \"samples\": [\n          \"@myXLCare, XL kontol babi anjing setan bangsat! Jaringan lemot terus, gue nyesel pake XL! Kalah jauh sama Telkomsel yang jarang banget lemot. XL bener-bener babi, sering banget bikin emosi!\",\n          \"Tinggal di Papua Barat, harga paket mahal banget, tapi jaringan @Telkomsel kualitasnya parah. Yuk dong @myXL, @triindonesia, atau @IndosatCare bikin jaringan di Bintuni, biar Telkomsel tahu diri!\",\n          \"Sinyal Telkomsel busuk banget. Beneran nggak bisa diandalkan sama sekali!\"\n        ],\n        \"semantic_type\": \"\",\n        \"description\": \"\"\n      }\n    },\n    {\n      \"column\": \"text_normalized\",\n      \"properties\": {\n        \"dtype\": \"string\",\n        \"num_unique_values\": 100,\n        \"samples\": [\n          \"@myXLCare, XL kontol babi anjing setan bangsat! Jaringan lemot terus, gue menyesal pakai XL! Kalah jauh sama Telkomsel yang jarang banget lemot. XL bener-bener babi, sering banget bikin emosi!\",\n          \"Tinggal di Papua Barat, harga paket mahal banget, tapi jaringan @Telkomsel kualitasnya parah. Yuk dong @myXL, @triindonesia, atau @IndosatCare bikin jaringan di Bintuni, biar Telkomsel tahu diri!\",\n          \"Sinyal Telkomsel busuk banget. benaran enggak bisa diandalkan sama sekali!\"\n        ],\n        \"semantic_type\": \"\",\n        \"description\": \"\"\n      }\n    },\n    {\n      \"column\": \"text_cleaned\",\n      \"properties\": {\n        \"dtype\": \"string\",\n        \"num_unique_values\": 100,\n        \"samples\": [\n          \"XL kontol babi anjing setan bangsat! Jaringan lemot terus gue menyesal pakai XL! Kalah jauh sama Telkomsel yang jarang banget lemot XL bener bener babi sering banget bikin emosi!\",\n          \"Tinggal di Papua Barat harga paket mahal banget tapi jaringan kualitasnya parah Yuk dong atau bikin jaringan di Bintuni biar Telkomsel tahu diri!\",\n          \"Sinyal Telkomsel busuk banget benaran enggak bisa diandalkan sama sekali!\"\n        ],\n        \"semantic_type\": \"\",\n        \"description\": \"\"\n      }\n    },\n    {\n      \"column\": \"text_lowercase\",\n      \"properties\": {\n        \"dtype\": \"string\",\n        \"num_unique_values\": 100,\n        \"samples\": [\n          \"xl kontol babi anjing setan bangsat! jaringan lemot terus gue menyesal pakai xl! kalah jauh sama telkomsel yang jarang banget lemot xl bener bener babi sering banget bikin emosi!\",\n          \"tinggal di papua barat harga paket mahal banget tapi jaringan kualitasnya parah yuk dong atau bikin jaringan di bintuni biar telkomsel tahu diri!\",\n          \"sinyal telkomsel busuk banget benaran enggak bisa diandalkan sama sekali!\"\n        ],\n        \"semantic_type\": \"\",\n        \"description\": \"\"\n      }\n    },\n    {\n      \"column\": \"text_clean\",\n      \"properties\": {\n        \"dtype\": \"string\",\n        \"num_unique_values\": 100,\n        \"samples\": [\n          \"xl kontol babi anjing setan bangsat! jaringan lemot terus gue menyesal pakai xl! kalah jauh sama telkomsel yang jarang banget lemot xl bener bener babi sering banget bikin emosi!\",\n          \"tinggal di papua barat harga paket mahal banget tapi jaringan kualitasnya parah yuk dong atau bikin jaringan di bintuni biar telkomsel tahu diri!\",\n          \"sinyal telkomsel busuk banget benaran enggak bisa diandalkan sama sekali!\"\n        ],\n        \"semantic_type\": \"\",\n        \"description\": \"\"\n      }\n    }\n  ]\n}"
            }
          },
          "metadata": {},
          "execution_count": 7
        }
      ]
    },
    {
      "cell_type": "markdown",
      "source": [
        "## 3. Label Encoding"
      ],
      "metadata": {
        "id": "g9Zkr3ti7w0X"
      }
    },
    {
      "cell_type": "code",
      "source": [
        "emotion_dict = {'anger': 0, 'joy': 1, 'fear': 2, 'sadness': 3}\n",
        "df['label'] = df['label'].apply(lambda x: emotion_dict[x])"
      ],
      "metadata": {
        "id": "LSc5BLX472NX"
      },
      "execution_count": null,
      "outputs": []
    },
    {
      "cell_type": "markdown",
      "source": [
        "## 4. Tokenizing"
      ],
      "metadata": {
        "id": "KdQux-La73O0"
      }
    },
    {
      "cell_type": "code",
      "source": [
        "tokenizer = AutoTokenizer.from_pretrained(\"xlm-roberta-base\")\n",
        "\n",
        "def tokenize_function(text):\n",
        "    return tokenizer(text, truncation=True, padding=\"max_length\", max_length=128)\n",
        "\n",
        "encoded_df = df['text_clean'].apply(tokenize_function)\n",
        "df['input_ids'] = encoded_df.apply(lambda x: x['input_ids'])\n",
        "df['attention_mask'] = encoded_df.apply(lambda x: x['attention_mask'])"
      ],
      "metadata": {
        "id": "ejYTyHZdP1Sy",
        "colab": {
          "base_uri": "https://localhost:8080/",
          "height": 276,
          "referenced_widgets": [
            "5bb2a3c0194541e39b95aad6fb591d92",
            "5668d0595677440ea0073a4d0b18671d",
            "3c0239b0dc214bf998206b6a3a2a7b05",
            "b30fe6f75c3b4ae2b2ec178e1751ed04",
            "e56a0892691e4591b220cf1a0b79bda6",
            "ab351cebafe143efa5069b7420c6f075",
            "ff1a9b8a43704f1cbb8108f168bb2dfa",
            "f5da4e46ad70421b958ba33e8c1f5c5e",
            "18fad6ddac3745818f90f7357b4d8838",
            "afc4c82d05f34d86b9cd94977976b0d5",
            "37ce3406a3664ea784e6d5d3a8204e66",
            "82184cb4eae14041947634751d61f3d9",
            "07c1910f0b6b4f5098ccab43ec20d73f",
            "c1fa2bcdd82348dfbfdd14c5029ef848",
            "53b0331aa3a04b85b84ec2559e11a6e4",
            "407a039204b74beb97ef21deb10ddbce",
            "c8027828493f457cb19202e023303bbd",
            "831bec178c424e88ad22690200c83b85",
            "f03c00819c6e49fa88ee9d0574ec2a62",
            "4d8776688ea347b2b8253218f99760be",
            "e82b1a1ef1664518a6c757bede7195c6",
            "1bec18ee3d824deca71f94ba7b026ce4",
            "a68fb3a90fe145918a4457dc6d75e2b2",
            "f840b81ccf6d491c986527740caa7646",
            "78c3789afe7a41ce9b78c8772701c841",
            "9d9749c325ba4aa9987e29c2222fd637",
            "9fbee55374cd4122abcf6e903b336d70",
            "abbebb17e5c948e6801000fd8a051aa8",
            "ae955d6d73084f93a7df80d3f68dd2ce",
            "6e6bb067c8af4c59bc2c66704f6f750c",
            "eeb9f89e1f964f4682633ca0f294bf28",
            "e842fa98fb914804b4c9f0af530d4ee6",
            "d7ca167f807b4a9594255209e6ff8e77",
            "8980d5f3cc7e45249c3526efbefd05d2",
            "9f71e56ad7ea4525b9280552501efc41",
            "649780f8751946f2b4e55b12546dea07",
            "40b9e5f0dee449c09e3f397b631094ad",
            "c06624d709c84316afe8b6472dfe7403",
            "16f1acd30f7f4a40871e4b224c096b23",
            "72a2dbe7ff634cbca6b97c95408cd344",
            "a44153afcfcf46328d420465e50bb52d",
            "7605a912354046afb9ffb93d90360ce0",
            "ae685810962e47bebfbf1792e79c52ae",
            "97b95eb2f69846b380ddb4c98e66be11"
          ]
        },
        "outputId": "27e436cd-ded2-4862-f154-9c55271c385d"
      },
      "execution_count": null,
      "outputs": [
        {
          "output_type": "stream",
          "name": "stderr",
          "text": [
            "/usr/local/lib/python3.11/dist-packages/huggingface_hub/utils/_auth.py:94: UserWarning: \n",
            "The secret `HF_TOKEN` does not exist in your Colab secrets.\n",
            "To authenticate with the Hugging Face Hub, create a token in your settings tab (https://huggingface.co/settings/tokens), set it as secret in your Google Colab and restart your session.\n",
            "You will be able to reuse this secret in all of your notebooks.\n",
            "Please note that authentication is recommended but still optional to access public models or datasets.\n",
            "  warnings.warn(\n"
          ]
        },
        {
          "output_type": "display_data",
          "data": {
            "text/plain": [
              "tokenizer_config.json:   0%|          | 0.00/25.0 [00:00<?, ?B/s]"
            ],
            "application/vnd.jupyter.widget-view+json": {
              "version_major": 2,
              "version_minor": 0,
              "model_id": "5bb2a3c0194541e39b95aad6fb591d92"
            }
          },
          "metadata": {}
        },
        {
          "output_type": "display_data",
          "data": {
            "text/plain": [
              "config.json:   0%|          | 0.00/615 [00:00<?, ?B/s]"
            ],
            "application/vnd.jupyter.widget-view+json": {
              "version_major": 2,
              "version_minor": 0,
              "model_id": "82184cb4eae14041947634751d61f3d9"
            }
          },
          "metadata": {}
        },
        {
          "output_type": "display_data",
          "data": {
            "text/plain": [
              "sentencepiece.bpe.model:   0%|          | 0.00/5.07M [00:00<?, ?B/s]"
            ],
            "application/vnd.jupyter.widget-view+json": {
              "version_major": 2,
              "version_minor": 0,
              "model_id": "a68fb3a90fe145918a4457dc6d75e2b2"
            }
          },
          "metadata": {}
        },
        {
          "output_type": "display_data",
          "data": {
            "text/plain": [
              "tokenizer.json:   0%|          | 0.00/9.10M [00:00<?, ?B/s]"
            ],
            "application/vnd.jupyter.widget-view+json": {
              "version_major": 2,
              "version_minor": 0,
              "model_id": "8980d5f3cc7e45249c3526efbefd05d2"
            }
          },
          "metadata": {}
        }
      ]
    },
    {
      "cell_type": "code",
      "source": [
        "# Output Tokenizing\n",
        "sample_text = df['text_clean'].iloc[57]  # atau ganti dengan index lain\n",
        "encoded_sample = tokenizer(sample_text, truncation=True, padding=\"max_length\", max_length=128)\n",
        "\n",
        "print(\"Original Clean Text:\")\n",
        "print(sample_text)\n",
        "\n",
        "print(\"\\nInput IDs:\")\n",
        "print(encoded_sample['input_ids'])\n",
        "\n",
        "print(\"\\nTokens:\")\n",
        "print(tokenizer.convert_ids_to_tokens(encoded_sample['input_ids']))\n",
        "\n",
        "print(\"\\nAttention Mask:\")\n",
        "print(encoded_sample['attention_mask'])"
      ],
      "metadata": {
        "colab": {
          "base_uri": "https://localhost:8080/"
        },
        "id": "l3J3uURhP4CQ",
        "outputId": "29145ac3-d8c1-41ee-8ab4-4869d5b46276"
      },
      "execution_count": null,
      "outputs": [
        {
          "output_type": "stream",
          "name": "stdout",
          "text": [
            "Original Clean Text:\n",
            "nomor saya tiba tiba menjadi tidak aktif wajah ketakutan takutnya tidak bisa aktif lagi\n",
            "\n",
            "Input IDs:\n",
            "[0, 71161, 1216, 30860, 30860, 2253, 762, 30581, 26053, 215866, 45496, 273, 762, 1485, 30581, 2214, 2, 1, 1, 1, 1, 1, 1, 1, 1, 1, 1, 1, 1, 1, 1, 1, 1, 1, 1, 1, 1, 1, 1, 1, 1, 1, 1, 1, 1, 1, 1, 1, 1, 1, 1, 1, 1, 1, 1, 1, 1, 1, 1, 1, 1, 1, 1, 1, 1, 1, 1, 1, 1, 1, 1, 1, 1, 1, 1, 1, 1, 1, 1, 1, 1, 1, 1, 1, 1, 1, 1, 1, 1, 1, 1, 1, 1, 1, 1, 1, 1, 1, 1, 1, 1, 1, 1, 1, 1, 1, 1, 1, 1, 1, 1, 1, 1, 1, 1, 1, 1, 1, 1, 1, 1, 1, 1, 1, 1, 1, 1, 1]\n",
            "\n",
            "Tokens:\n",
            "['<s>', '▁nomor', '▁saya', '▁tiba', '▁tiba', '▁menjadi', '▁tidak', '▁aktif', '▁wajah', '▁ketakutan', '▁takut', 'nya', '▁tidak', '▁bisa', '▁aktif', '▁lagi', '</s>', '<pad>', '<pad>', '<pad>', '<pad>', '<pad>', '<pad>', '<pad>', '<pad>', '<pad>', '<pad>', '<pad>', '<pad>', '<pad>', '<pad>', '<pad>', '<pad>', '<pad>', '<pad>', '<pad>', '<pad>', '<pad>', '<pad>', '<pad>', '<pad>', '<pad>', '<pad>', '<pad>', '<pad>', '<pad>', '<pad>', '<pad>', '<pad>', '<pad>', '<pad>', '<pad>', '<pad>', '<pad>', '<pad>', '<pad>', '<pad>', '<pad>', '<pad>', '<pad>', '<pad>', '<pad>', '<pad>', '<pad>', '<pad>', '<pad>', '<pad>', '<pad>', '<pad>', '<pad>', '<pad>', '<pad>', '<pad>', '<pad>', '<pad>', '<pad>', '<pad>', '<pad>', '<pad>', '<pad>', '<pad>', '<pad>', '<pad>', '<pad>', '<pad>', '<pad>', '<pad>', '<pad>', '<pad>', '<pad>', '<pad>', '<pad>', '<pad>', '<pad>', '<pad>', '<pad>', '<pad>', '<pad>', '<pad>', '<pad>', '<pad>', '<pad>', '<pad>', '<pad>', '<pad>', '<pad>', '<pad>', '<pad>', '<pad>', '<pad>', '<pad>', '<pad>', '<pad>', '<pad>', '<pad>', '<pad>', '<pad>', '<pad>', '<pad>', '<pad>', '<pad>', '<pad>', '<pad>', '<pad>', '<pad>', '<pad>', '<pad>', '<pad>']\n",
            "\n",
            "Attention Mask:\n",
            "[1, 1, 1, 1, 1, 1, 1, 1, 1, 1, 1, 1, 1, 1, 1, 1, 1, 0, 0, 0, 0, 0, 0, 0, 0, 0, 0, 0, 0, 0, 0, 0, 0, 0, 0, 0, 0, 0, 0, 0, 0, 0, 0, 0, 0, 0, 0, 0, 0, 0, 0, 0, 0, 0, 0, 0, 0, 0, 0, 0, 0, 0, 0, 0, 0, 0, 0, 0, 0, 0, 0, 0, 0, 0, 0, 0, 0, 0, 0, 0, 0, 0, 0, 0, 0, 0, 0, 0, 0, 0, 0, 0, 0, 0, 0, 0, 0, 0, 0, 0, 0, 0, 0, 0, 0, 0, 0, 0, 0, 0, 0, 0, 0, 0, 0, 0, 0, 0, 0, 0, 0, 0, 0, 0, 0, 0, 0, 0]\n"
          ]
        }
      ]
    },
    {
      "cell_type": "markdown",
      "source": [
        "# Build Model"
      ],
      "metadata": {
        "id": "ZiYObMgybawE"
      }
    },
    {
      "cell_type": "markdown",
      "source": [
        "## Split Dataset"
      ],
      "metadata": {
        "id": "17qmUsjM8MAG"
      }
    },
    {
      "cell_type": "code",
      "source": [
        "train_df, val_df = train_test_split(df, test_size=0.2, stratify=df['label'], random_state=42)\n",
        "\n",
        "# Cek hasil split\n",
        "print(f\"Jumlah train_data: {len(train_df)}\")\n",
        "print(f\"Jumlah val_data: {len(val_df)}\")"
      ],
      "metadata": {
        "id": "_wcOkMsp8Ge_",
        "colab": {
          "base_uri": "https://localhost:8080/"
        },
        "outputId": "e8d67f88-a9fa-488d-832c-628469812e47"
      },
      "execution_count": null,
      "outputs": [
        {
          "output_type": "stream",
          "name": "stdout",
          "text": [
            "Jumlah train_data: 7206\n",
            "Jumlah val_data: 1802\n"
          ]
        }
      ]
    },
    {
      "cell_type": "code",
      "source": [
        "# Convert ke Hugging Face Dataset\n",
        "train_dataset = Dataset.from_pandas(train_df.reset_index(drop=True))\n",
        "val_dataset = Dataset.from_pandas(val_df.reset_index(drop=True))"
      ],
      "metadata": {
        "id": "UqXiFjcY8Soc"
      },
      "execution_count": null,
      "outputs": []
    },
    {
      "cell_type": "markdown",
      "source": [
        "## Load Model"
      ],
      "metadata": {
        "id": "L0J-SwOW8VX8"
      }
    },
    {
      "cell_type": "code",
      "source": [
        "model = AutoModelForSequenceClassification.from_pretrained(\"xlm-roberta-base\", num_labels=4)\n",
        "device = torch.device(\"cuda\" if torch.cuda.is_available() else \"cpu\")\n",
        "model.to(device)"
      ],
      "metadata": {
        "colab": {
          "base_uri": "https://localhost:8080/",
          "height": 955,
          "referenced_widgets": [
            "a59ee10b6fa9459b988c70add80aa013",
            "b00c5875aed44b798a50f0931ab0fbbb",
            "d174a1929e2a480b8a5a4aeea2295d9e",
            "dd9a46cda39847078542dc15b9154fa0",
            "5c0277f6ded743868b07213085d2b9cb",
            "d379a085cedc41598d690888f14b0f77",
            "caffed420fab42beb6e25b72d830d1a0",
            "e4ed318967a14885880f91e8ad3c7f2f",
            "2e79c1f1628e44e486cce3edba6cdbc6",
            "6548eef396a3485ab481b69d2e8e7abc",
            "2e2194672739467796e4977f046b4427"
          ]
        },
        "id": "8ZGld9EMQalL",
        "outputId": "3a2b9978-d77c-40e6-c414-da81150da3d0"
      },
      "execution_count": null,
      "outputs": [
        {
          "output_type": "stream",
          "name": "stderr",
          "text": [
            "Xet Storage is enabled for this repo, but the 'hf_xet' package is not installed. Falling back to regular HTTP download. For better performance, install the package with: `pip install huggingface_hub[hf_xet]` or `pip install hf_xet`\n",
            "WARNING:huggingface_hub.file_download:Xet Storage is enabled for this repo, but the 'hf_xet' package is not installed. Falling back to regular HTTP download. For better performance, install the package with: `pip install huggingface_hub[hf_xet]` or `pip install hf_xet`\n"
          ]
        },
        {
          "output_type": "display_data",
          "data": {
            "text/plain": [
              "model.safetensors:   0%|          | 0.00/1.12G [00:00<?, ?B/s]"
            ],
            "application/vnd.jupyter.widget-view+json": {
              "version_major": 2,
              "version_minor": 0,
              "model_id": "a59ee10b6fa9459b988c70add80aa013"
            }
          },
          "metadata": {}
        },
        {
          "output_type": "stream",
          "name": "stderr",
          "text": [
            "Some weights of XLMRobertaForSequenceClassification were not initialized from the model checkpoint at xlm-roberta-base and are newly initialized: ['classifier.dense.bias', 'classifier.dense.weight', 'classifier.out_proj.bias', 'classifier.out_proj.weight']\n",
            "You should probably TRAIN this model on a down-stream task to be able to use it for predictions and inference.\n"
          ]
        },
        {
          "output_type": "execute_result",
          "data": {
            "text/plain": [
              "XLMRobertaForSequenceClassification(\n",
              "  (roberta): XLMRobertaModel(\n",
              "    (embeddings): XLMRobertaEmbeddings(\n",
              "      (word_embeddings): Embedding(250002, 768, padding_idx=1)\n",
              "      (position_embeddings): Embedding(514, 768, padding_idx=1)\n",
              "      (token_type_embeddings): Embedding(1, 768)\n",
              "      (LayerNorm): LayerNorm((768,), eps=1e-05, elementwise_affine=True)\n",
              "      (dropout): Dropout(p=0.1, inplace=False)\n",
              "    )\n",
              "    (encoder): XLMRobertaEncoder(\n",
              "      (layer): ModuleList(\n",
              "        (0-11): 12 x XLMRobertaLayer(\n",
              "          (attention): XLMRobertaAttention(\n",
              "            (self): XLMRobertaSdpaSelfAttention(\n",
              "              (query): Linear(in_features=768, out_features=768, bias=True)\n",
              "              (key): Linear(in_features=768, out_features=768, bias=True)\n",
              "              (value): Linear(in_features=768, out_features=768, bias=True)\n",
              "              (dropout): Dropout(p=0.1, inplace=False)\n",
              "            )\n",
              "            (output): XLMRobertaSelfOutput(\n",
              "              (dense): Linear(in_features=768, out_features=768, bias=True)\n",
              "              (LayerNorm): LayerNorm((768,), eps=1e-05, elementwise_affine=True)\n",
              "              (dropout): Dropout(p=0.1, inplace=False)\n",
              "            )\n",
              "          )\n",
              "          (intermediate): XLMRobertaIntermediate(\n",
              "            (dense): Linear(in_features=768, out_features=3072, bias=True)\n",
              "            (intermediate_act_fn): GELUActivation()\n",
              "          )\n",
              "          (output): XLMRobertaOutput(\n",
              "            (dense): Linear(in_features=3072, out_features=768, bias=True)\n",
              "            (LayerNorm): LayerNorm((768,), eps=1e-05, elementwise_affine=True)\n",
              "            (dropout): Dropout(p=0.1, inplace=False)\n",
              "          )\n",
              "        )\n",
              "      )\n",
              "    )\n",
              "  )\n",
              "  (classifier): XLMRobertaClassificationHead(\n",
              "    (dense): Linear(in_features=768, out_features=768, bias=True)\n",
              "    (dropout): Dropout(p=0.1, inplace=False)\n",
              "    (out_proj): Linear(in_features=768, out_features=4, bias=True)\n",
              "  )\n",
              ")"
            ]
          },
          "metadata": {},
          "execution_count": 13
        }
      ]
    },
    {
      "cell_type": "markdown",
      "source": [
        "## Epoch 3"
      ],
      "metadata": {
        "id": "07GBFBBTV4UC"
      }
    },
    {
      "cell_type": "code",
      "source": [
        "def get_patience(total_epoch):\n",
        "    return min(2, total_epoch // 3)\n",
        "\n",
        "def compute_metrics(p):\n",
        "    predictions, labels = p\n",
        "    preds = np.argmax(predictions, axis=1)\n",
        "    accuracy = accuracy_score(labels, preds)\n",
        "    return {\n",
        "        'accuracy': accuracy,\n",
        "    }\n",
        "\n",
        "training_args = TrainingArguments(\n",
        "    output_dir=\"./results_epoch3\",\n",
        "    eval_strategy=\"epoch\",\n",
        "    per_device_train_batch_size=16,\n",
        "    per_device_eval_batch_size=16,\n",
        "    learning_rate=2e-5,\n",
        "    num_train_epochs=3,\n",
        "    weight_decay=0.01,\n",
        "    save_strategy=\"epoch\",\n",
        "    logging_dir=\"./logs_epoch3\",\n",
        "    logging_steps=10,\n",
        "    load_best_model_at_end=True,\n",
        "    dataloader_drop_last=False,\n",
        "    metric_for_best_model=\"accuracy\",\n",
        "    fp16=True,\n",
        "    report_to=\"tensorboard\",\n",
        ")\n",
        "\n",
        "patience_value = get_patience(training_args.num_train_epochs)\n",
        "early_stopping = EarlyStoppingCallback(\n",
        "    early_stopping_patience=patience_value\n",
        ")\n",
        "\n",
        "class TimestampCallback(TrainerCallback):\n",
        "    def on_epoch_begin(self, args, state, control, **kwargs):\n",
        "        self.epoch_start_time = time.time()\n",
        "\n",
        "    def on_epoch_end(self, args, state, control, **kwargs):\n",
        "        epoch_end_time = time.time()\n",
        "        epoch_duration = epoch_end_time - self.epoch_start_time\n",
        "        print(f\"Epoch {state.epoch} completed in {epoch_duration:.2f} seconds.\")\n",
        "\n",
        "trainer = Trainer(\n",
        "    model=model,\n",
        "    args=training_args,\n",
        "    train_dataset=train_dataset,\n",
        "    eval_dataset=val_dataset,\n",
        "    tokenizer=tokenizer,\n",
        "    compute_metrics=compute_metrics,\n",
        "    callbacks=[early_stopping, TimestampCallback],\n",
        ")"
      ],
      "metadata": {
        "id": "vgPjFJj-Qc9T",
        "colab": {
          "base_uri": "https://localhost:8080/"
        },
        "outputId": "ff8da5f8-5ae1-4178-f68d-e7b717e5b96d"
      },
      "execution_count": null,
      "outputs": [
        {
          "output_type": "stream",
          "name": "stderr",
          "text": [
            "<ipython-input-14-20963c2f7889>:44: FutureWarning: `tokenizer` is deprecated and will be removed in version 5.0.0 for `Trainer.__init__`. Use `processing_class` instead.\n",
            "  trainer = Trainer(\n"
          ]
        }
      ]
    },
    {
      "cell_type": "code",
      "source": [
        "trainer.train()"
      ],
      "metadata": {
        "colab": {
          "base_uri": "https://localhost:8080/",
          "height": 299
        },
        "id": "RfbvpT87QreU",
        "outputId": "3d51447b-3fb4-4766-a0c7-5cbaa1a0395c"
      },
      "execution_count": null,
      "outputs": [
        {
          "output_type": "display_data",
          "data": {
            "text/plain": [
              "<IPython.core.display.HTML object>"
            ],
            "text/html": [
              "\n",
              "    <div>\n",
              "      \n",
              "      <progress value='1353' max='1353' style='width:300px; height:20px; vertical-align: middle;'></progress>\n",
              "      [1353/1353 06:43, Epoch 3/3]\n",
              "    </div>\n",
              "    <table border=\"1\" class=\"dataframe\">\n",
              "  <thead>\n",
              " <tr style=\"text-align: left;\">\n",
              "      <th>Epoch</th>\n",
              "      <th>Training Loss</th>\n",
              "      <th>Validation Loss</th>\n",
              "      <th>Accuracy</th>\n",
              "    </tr>\n",
              "  </thead>\n",
              "  <tbody>\n",
              "    <tr>\n",
              "      <td>1</td>\n",
              "      <td>0.388300</td>\n",
              "      <td>0.226919</td>\n",
              "      <td>0.933962</td>\n",
              "    </tr>\n",
              "    <tr>\n",
              "      <td>2</td>\n",
              "      <td>0.195200</td>\n",
              "      <td>0.194190</td>\n",
              "      <td>0.956715</td>\n",
              "    </tr>\n",
              "    <tr>\n",
              "      <td>3</td>\n",
              "      <td>0.077700</td>\n",
              "      <td>0.230233</td>\n",
              "      <td>0.952830</td>\n",
              "    </tr>\n",
              "  </tbody>\n",
              "</table><p>"
            ]
          },
          "metadata": {}
        },
        {
          "output_type": "stream",
          "name": "stdout",
          "text": [
            "Epoch 1.0 completed in 92.83 seconds.\n",
            "Epoch 2.0 completed in 93.07 seconds.\n",
            "Epoch 3.0 completed in 93.20 seconds.\n"
          ]
        },
        {
          "output_type": "execute_result",
          "data": {
            "text/plain": [
              "TrainOutput(global_step=1353, training_loss=0.25147512092558616, metrics={'train_runtime': 404.8575, 'train_samples_per_second': 53.397, 'train_steps_per_second': 3.342, 'total_flos': 1422009233528832.0, 'train_loss': 0.25147512092558616, 'epoch': 3.0})"
            ]
          },
          "metadata": {},
          "execution_count": 15
        }
      ]
    },
    {
      "cell_type": "markdown",
      "source": [
        "### Confusion Matrix"
      ],
      "metadata": {
        "id": "SDB5vyRNHVWM"
      }
    },
    {
      "cell_type": "code",
      "source": [
        "# Confusion matrix\n",
        "preds_output = trainer.predict(val_dataset)\n",
        "true_labels = preds_output.label_ids\n",
        "predicted_labels = np.argmax(preds_output.predictions, axis=1)\n",
        "\n",
        "cm = confusion_matrix(true_labels, predicted_labels)\n",
        "labels = ['anger', 'joy', 'fear', 'sadness']\n",
        "\n",
        "# Visualisasi confusion matrix\n",
        "plt.figure(figsize=(8, 6))\n",
        "sns.heatmap(cm, annot=True, fmt='d', cmap='Blues', xticklabels=labels, yticklabels=labels)\n",
        "plt.xlabel('Predicted Label')\n",
        "plt.ylabel('True Label')\n",
        "plt.title('Confusion Matrix')\n",
        "plt.show()\n"
      ],
      "metadata": {
        "id": "WZDSD0CIHTwT",
        "colab": {
          "base_uri": "https://localhost:8080/",
          "height": 564
        },
        "outputId": "35ed3427-a3d1-4235-f39e-b414e6809bf5"
      },
      "execution_count": null,
      "outputs": [
        {
          "output_type": "display_data",
          "data": {
            "text/plain": [
              "<IPython.core.display.HTML object>"
            ],
            "text/html": []
          },
          "metadata": {}
        },
        {
          "output_type": "display_data",
          "data": {
            "text/plain": [
              "<Figure size 800x600 with 2 Axes>"
            ],
            "image/png": "[encoded data removed]"
          },
          "metadata": {}
        }
      ]
    },
    {
      "cell_type": "markdown",
      "source": [
        "### Accuracy"
      ],
      "metadata": {
        "id": "17XkIGvXHa3r"
      }
    },
    {
      "cell_type": "code",
      "source": [
        "predictions = trainer.predict(val_dataset)\n",
        "true_labels = predictions.label_ids\n",
        "predicted_probs = predictions.predictions\n",
        "predicted_labels = np.argmax(predicted_probs, axis=1)\n",
        "\n",
        "# Classification Report\n",
        "print(\"=== Classification Report ===\")\n",
        "print(classification_report(true_labels, predicted_labels, digits=6))\n",
        "\n",
        "# Akurasi\n",
        "accuracy = accuracy_score(true_labels, predicted_labels)\n",
        "print(f\"Accuracy: {accuracy:.6f}\")"
      ],
      "metadata": {
        "id": "fTtCMuodHeIQ",
        "colab": {
          "base_uri": "https://localhost:8080/",
          "height": 257
        },
        "outputId": "3ea261ad-7953-4577-9a60-c41a0ce4d680"
      },
      "execution_count": null,
      "outputs": [
        {
          "output_type": "display_data",
          "data": {
            "text/plain": [
              "<IPython.core.display.HTML object>"
            ],
            "text/html": []
          },
          "metadata": {}
        },
        {
          "output_type": "stream",
          "name": "stdout",
          "text": [
            "=== Classification Report ===\n",
            "              precision    recall  f1-score   support\n",
            "\n",
            "           0   0.911579  0.960089  0.935205       451\n",
            "           1   0.962637  0.973333  0.967956       450\n",
            "           2   0.981395  0.935698  0.958002       451\n",
            "           3   0.975113  0.957778  0.966368       450\n",
            "\n",
            "    accuracy                       0.956715      1802\n",
            "   macro avg   0.957681  0.956725  0.956883      1802\n",
            "weighted avg   0.957669  0.956715  0.956871      1802\n",
            "\n",
            "Accuracy: 0.956715\n"
          ]
        }
      ]
    },
    {
      "cell_type": "markdown",
      "source": [
        "## Epoch 5"
      ],
      "metadata": {
        "id": "jJ9zIho3HlQb"
      }
    },
    {
      "cell_type": "code",
      "source": [
        "def get_patience(total_epoch):\n",
        "    return min(2, total_epoch // 3)\n",
        "\n",
        "def compute_metrics(p):\n",
        "    predictions, labels = p\n",
        "    preds = np.argmax(predictions, axis=1)\n",
        "    accuracy = accuracy_score(labels, preds)\n",
        "    return {\n",
        "        'accuracy': accuracy,\n",
        "    }\n",
        "\n",
        "training_args = TrainingArguments(\n",
        "    output_dir=\"./results_epoch5\",\n",
        "    eval_strategy=\"epoch\",\n",
        "    per_device_train_batch_size=16,\n",
        "    per_device_eval_batch_size=16,\n",
        "    learning_rate=2e-5,\n",
        "    num_train_epochs=5,\n",
        "    weight_decay=0.01,\n",
        "    save_strategy=\"epoch\",\n",
        "    logging_dir=\"./logs_epoch5\",\n",
        "    logging_steps=10,\n",
        "    load_best_model_at_end=True,\n",
        "    dataloader_drop_last=False,\n",
        "    metric_for_best_model=\"accuracy\",\n",
        "    fp16=True,\n",
        "    report_to=\"tensorboard\",\n",
        ")\n",
        "\n",
        "patience_value = get_patience(training_args.num_train_epochs)\n",
        "early_stopping = EarlyStoppingCallback(\n",
        "    early_stopping_patience=patience_value\n",
        ")\n",
        "\n",
        "class TimestampCallback(TrainerCallback):\n",
        "    def on_epoch_begin(self, args, state, control, **kwargs):\n",
        "        self.epoch_start_time = time.time()\n",
        "\n",
        "    def on_epoch_end(self, args, state, control, **kwargs):\n",
        "        epoch_end_time = time.time()\n",
        "        epoch_duration = epoch_end_time - self.epoch_start_time\n",
        "        print(f\"Epoch {state.epoch} completed in {epoch_duration:.2f} seconds.\")\n",
        "\n",
        "trainer = Trainer(\n",
        "    model=model,\n",
        "    args=training_args,\n",
        "    train_dataset=train_dataset,\n",
        "    eval_dataset=val_dataset,\n",
        "    tokenizer=tokenizer,\n",
        "    compute_metrics=compute_metrics,\n",
        "    callbacks=[early_stopping, TimestampCallback],\n",
        ")\n"
      ],
      "metadata": {
        "id": "ihFOiLYlHpIR",
        "colab": {
          "base_uri": "https://localhost:8080/"
        },
        "outputId": "f49c369d-b27b-4833-9ddd-acc32e406766"
      },
      "execution_count": null,
      "outputs": [
        {
          "output_type": "stream",
          "name": "stderr",
          "text": [
            "<ipython-input-19-b03166bacfa0>:44: FutureWarning: `tokenizer` is deprecated and will be removed in version 5.0.0 for `Trainer.__init__`. Use `processing_class` instead.\n",
            "  trainer = Trainer(\n"
          ]
        }
      ]
    },
    {
      "cell_type": "code",
      "source": [
        "trainer.train()"
      ],
      "metadata": {
        "id": "o8tNNBEEHsl5",
        "colab": {
          "base_uri": "https://localhost:8080/",
          "height": 398
        },
        "outputId": "36349efe-c2cb-45c2-9928-44f8eb9d914f"
      },
      "execution_count": null,
      "outputs": [
        {
          "output_type": "display_data",
          "data": {
            "text/plain": [
              "<IPython.core.display.HTML object>"
            ],
            "text/html": [
              "\n",
              "    <div>\n",
              "      \n",
              "      <progress value='2255' max='2255' style='width:300px; height:20px; vertical-align: middle;'></progress>\n",
              "      [2255/2255 11:10, Epoch 5/5]\n",
              "    </div>\n",
              "    <table border=\"1\" class=\"dataframe\">\n",
              "  <thead>\n",
              " <tr style=\"text-align: left;\">\n",
              "      <th>Epoch</th>\n",
              "      <th>Training Loss</th>\n",
              "      <th>Validation Loss</th>\n",
              "      <th>Accuracy</th>\n",
              "    </tr>\n",
              "  </thead>\n",
              "  <tbody>\n",
              "    <tr>\n",
              "      <td>1</td>\n",
              "      <td>0.070700</td>\n",
              "      <td>0.352717</td>\n",
              "      <td>0.938957</td>\n",
              "    </tr>\n",
              "    <tr>\n",
              "      <td>2</td>\n",
              "      <td>0.142800</td>\n",
              "      <td>0.238936</td>\n",
              "      <td>0.951720</td>\n",
              "    </tr>\n",
              "    <tr>\n",
              "      <td>3</td>\n",
              "      <td>0.020000</td>\n",
              "      <td>0.270576</td>\n",
              "      <td>0.959489</td>\n",
              "    </tr>\n",
              "    <tr>\n",
              "      <td>4</td>\n",
              "      <td>0.015500</td>\n",
              "      <td>0.276711</td>\n",
              "      <td>0.961709</td>\n",
              "    </tr>\n",
              "    <tr>\n",
              "      <td>5</td>\n",
              "      <td>0.042400</td>\n",
              "      <td>0.278982</td>\n",
              "      <td>0.962819</td>\n",
              "    </tr>\n",
              "  </tbody>\n",
              "</table><p>"
            ]
          },
          "metadata": {}
        },
        {
          "output_type": "stream",
          "name": "stdout",
          "text": [
            "Epoch 1.0 completed in 92.87 seconds.\n",
            "Epoch 2.0 completed in 93.35 seconds.\n",
            "Epoch 3.0 completed in 93.11 seconds.\n",
            "Epoch 4.0 completed in 93.35 seconds.\n",
            "Epoch 5.0 completed in 93.09 seconds.\n"
          ]
        },
        {
          "output_type": "execute_result",
          "data": {
            "text/plain": [
              "TrainOutput(global_step=2255, training_loss=0.07181821720893526, metrics={'train_runtime': 670.8205, 'train_samples_per_second': 53.71, 'train_steps_per_second': 3.362, 'total_flos': 2370015389214720.0, 'train_loss': 0.07181821720893526, 'epoch': 5.0})"
            ]
          },
          "metadata": {},
          "execution_count": 20
        }
      ]
    },
    {
      "cell_type": "markdown",
      "source": [
        "### Confusion Matrix"
      ],
      "metadata": {
        "id": "YPIO5V-XHrjR"
      }
    },
    {
      "cell_type": "code",
      "source": [
        "# Confusion matrix\n",
        "preds_output = trainer.predict(val_dataset)\n",
        "true_labels = preds_output.label_ids\n",
        "predicted_labels = np.argmax(preds_output.predictions, axis=1)\n",
        "\n",
        "cm = confusion_matrix(true_labels, predicted_labels)\n",
        "labels = ['anger', 'joy', 'fear', 'sadness']\n",
        "\n",
        "# Visualisasi confusion matrix\n",
        "plt.figure(figsize=(8, 6))\n",
        "sns.heatmap(cm, annot=True, fmt='d', cmap='Blues', xticklabels=labels, yticklabels=labels)\n",
        "plt.xlabel('Predicted Label')\n",
        "plt.ylabel('True Label')\n",
        "plt.title('Confusion Matrix')\n",
        "plt.show()\n"
      ],
      "metadata": {
        "id": "26Q5i1hMHyMm",
        "colab": {
          "base_uri": "https://localhost:8080/",
          "height": 564
        },
        "outputId": "9aef6ebf-bc0b-4b91-b74e-1cc71d692d71"
      },
      "execution_count": null,
      "outputs": [
        {
          "output_type": "display_data",
          "data": {
            "text/plain": [
              "<IPython.core.display.HTML object>"
            ],
            "text/html": []
          },
          "metadata": {}
        },
        {
          "output_type": "display_data",
          "data": {
            "text/plain": [
              "<Figure size 800x600 with 2 Axes>"
            ],
            "image/png": "[encoded data removed]"
          },
          "metadata": {}
        }
      ]
    },
    {
      "cell_type": "markdown",
      "source": [
        "### Accuracy"
      ],
      "metadata": {
        "id": "Ha0k8uKVJRrb"
      }
    },
    {
      "cell_type": "code",
      "source": [
        "predictions = trainer.predict(val_dataset)\n",
        "true_labels = predictions.label_ids\n",
        "predicted_probs = predictions.predictions\n",
        "predicted_labels = np.argmax(predicted_probs, axis=1)\n",
        "\n",
        "# Classification Report\n",
        "print(\"=== Classification Report ===\")\n",
        "print(classification_report(true_labels, predicted_labels, digits=6))\n",
        "\n",
        "# Akurasi\n",
        "accuracy = accuracy_score(true_labels, predicted_labels)\n",
        "print(f\"Accuracy: {accuracy:.6f}\")"
      ],
      "metadata": {
        "id": "sBwyUSTxJVaJ",
        "colab": {
          "base_uri": "https://localhost:8080/",
          "height": 257
        },
        "outputId": "11f3b131-91e2-421b-c6a0-8b93be373f77"
      },
      "execution_count": null,
      "outputs": [
        {
          "output_type": "display_data",
          "data": {
            "text/plain": [
              "<IPython.core.display.HTML object>"
            ],
            "text/html": []
          },
          "metadata": {}
        },
        {
          "output_type": "stream",
          "name": "stdout",
          "text": [
            "=== Classification Report ===\n",
            "              precision    recall  f1-score   support\n",
            "\n",
            "           0   0.946548  0.942350  0.944444       451\n",
            "           1   0.967033  0.977778  0.972376       450\n",
            "           2   0.977221  0.951220  0.964045       451\n",
            "           3   0.960784  0.980000  0.970297       450\n",
            "\n",
            "    accuracy                       0.962819      1802\n",
            "   macro avg   0.962897  0.962837  0.962791      1802\n",
            "weighted avg   0.962895  0.962819  0.962781      1802\n",
            "\n",
            "Accuracy: 0.962819\n"
          ]
        }
      ]
    },
    {
      "cell_type": "markdown",
      "source": [
        "## Epoch 10"
      ],
      "metadata": {
        "id": "3j75mRySH0KZ"
      }
    },
    {
      "cell_type": "code",
      "source": [
        "def get_patience(total_epoch):\n",
        "    return min(2, total_epoch // 3)\n",
        "\n",
        "def compute_metrics(p):\n",
        "    predictions, labels = p\n",
        "    preds = np.argmax(predictions, axis=1)\n",
        "    accuracy = accuracy_score(labels, preds)\n",
        "    return {\n",
        "        'accuracy': accuracy,\n",
        "    }\n",
        "\n",
        "training_args = TrainingArguments(\n",
        "    output_dir=\"./results_epoch10\",\n",
        "    eval_strategy=\"epoch\",\n",
        "    per_device_train_batch_size=16,\n",
        "    per_device_eval_batch_size=16,\n",
        "    learning_rate=2e-5,\n",
        "    num_train_epochs=10,\n",
        "    weight_decay=0.01,\n",
        "    save_strategy=\"epoch\",\n",
        "    logging_dir=\"./logs_epoch10\",\n",
        "    logging_steps=10,\n",
        "    load_best_model_at_end=True,\n",
        "    dataloader_drop_last=False,\n",
        "    metric_for_best_model=\"accuracy\",\n",
        "    fp16=True,\n",
        "    report_to=\"tensorboard\",\n",
        ")\n",
        "\n",
        "patience_value = get_patience(training_args.num_train_epochs)\n",
        "early_stopping = EarlyStoppingCallback(\n",
        "    early_stopping_patience=patience_value\n",
        ")\n",
        "\n",
        "class TimestampCallback(TrainerCallback):\n",
        "    def on_epoch_begin(self, args, state, control, **kwargs):\n",
        "        self.epoch_start_time = time.time()\n",
        "\n",
        "    def on_epoch_end(self, args, state, control, **kwargs):\n",
        "        epoch_end_time = time.time()\n",
        "        epoch_duration = epoch_end_time - self.epoch_start_time\n",
        "        print(f\"Epoch {state.epoch} completed in {epoch_duration:.2f} seconds.\")\n",
        "\n",
        "trainer = Trainer(\n",
        "    model=model,\n",
        "    args=training_args,\n",
        "    train_dataset=train_dataset,\n",
        "    eval_dataset=val_dataset,\n",
        "    tokenizer=tokenizer,\n",
        "    compute_metrics=compute_metrics,\n",
        "    callbacks=[early_stopping, TimestampCallback],\n",
        ")\n"
      ],
      "metadata": {
        "id": "lS8efL3lH3Bc",
        "colab": {
          "base_uri": "https://localhost:8080/"
        },
        "outputId": "ce07cc3c-c897-44ec-d737-5a8abcc2aedc"
      },
      "execution_count": null,
      "outputs": [
        {
          "output_type": "stream",
          "name": "stderr",
          "text": [
            "<ipython-input-24-40edfbb62420>:44: FutureWarning: `tokenizer` is deprecated and will be removed in version 5.0.0 for `Trainer.__init__`. Use `processing_class` instead.\n",
            "  trainer = Trainer(\n"
          ]
        }
      ]
    },
    {
      "cell_type": "code",
      "source": [
        "trainer.train()"
      ],
      "metadata": {
        "id": "Pr84t__2H4pE",
        "colab": {
          "base_uri": "https://localhost:8080/",
          "height": 647
        },
        "outputId": "5529208c-a4d2-41a5-a100-b7c60f4bcbf3"
      },
      "execution_count": null,
      "outputs": [
        {
          "output_type": "display_data",
          "data": {
            "text/plain": [
              "<IPython.core.display.HTML object>"
            ],
            "text/html": [
              "\n",
              "    <div>\n",
              "      \n",
              "      <progress value='4510' max='4510' style='width:300px; height:20px; vertical-align: middle;'></progress>\n",
              "      [4510/4510 22:13, Epoch 10/10]\n",
              "    </div>\n",
              "    <table border=\"1\" class=\"dataframe\">\n",
              "  <thead>\n",
              " <tr style=\"text-align: left;\">\n",
              "      <th>Epoch</th>\n",
              "      <th>Training Loss</th>\n",
              "      <th>Validation Loss</th>\n",
              "      <th>Accuracy</th>\n",
              "    </tr>\n",
              "  </thead>\n",
              "  <tbody>\n",
              "    <tr>\n",
              "      <td>1</td>\n",
              "      <td>0.045000</td>\n",
              "      <td>0.455098</td>\n",
              "      <td>0.936182</td>\n",
              "    </tr>\n",
              "    <tr>\n",
              "      <td>2</td>\n",
              "      <td>0.090100</td>\n",
              "      <td>0.399456</td>\n",
              "      <td>0.940622</td>\n",
              "    </tr>\n",
              "    <tr>\n",
              "      <td>3</td>\n",
              "      <td>0.028200</td>\n",
              "      <td>0.337637</td>\n",
              "      <td>0.953385</td>\n",
              "    </tr>\n",
              "    <tr>\n",
              "      <td>4</td>\n",
              "      <td>0.007100</td>\n",
              "      <td>0.334971</td>\n",
              "      <td>0.954495</td>\n",
              "    </tr>\n",
              "    <tr>\n",
              "      <td>5</td>\n",
              "      <td>0.000100</td>\n",
              "      <td>0.387663</td>\n",
              "      <td>0.953385</td>\n",
              "    </tr>\n",
              "    <tr>\n",
              "      <td>6</td>\n",
              "      <td>0.008300</td>\n",
              "      <td>0.360551</td>\n",
              "      <td>0.957825</td>\n",
              "    </tr>\n",
              "    <tr>\n",
              "      <td>7</td>\n",
              "      <td>0.000000</td>\n",
              "      <td>0.354364</td>\n",
              "      <td>0.960044</td>\n",
              "    </tr>\n",
              "    <tr>\n",
              "      <td>8</td>\n",
              "      <td>0.000000</td>\n",
              "      <td>0.383073</td>\n",
              "      <td>0.956715</td>\n",
              "    </tr>\n",
              "    <tr>\n",
              "      <td>9</td>\n",
              "      <td>0.035400</td>\n",
              "      <td>0.320023</td>\n",
              "      <td>0.963374</td>\n",
              "    </tr>\n",
              "    <tr>\n",
              "      <td>10</td>\n",
              "      <td>0.053400</td>\n",
              "      <td>0.347846</td>\n",
              "      <td>0.960599</td>\n",
              "    </tr>\n",
              "  </tbody>\n",
              "</table><p>"
            ]
          },
          "metadata": {}
        },
        {
          "output_type": "stream",
          "name": "stdout",
          "text": [
            "Epoch 1.0 completed in 93.40 seconds.\n",
            "Epoch 2.0 completed in 93.34 seconds.\n",
            "Epoch 3.0 completed in 93.15 seconds.\n",
            "Epoch 4.0 completed in 93.08 seconds.\n",
            "Epoch 5.0 completed in 93.42 seconds.\n",
            "Epoch 6.0 completed in 93.25 seconds.\n",
            "Epoch 7.0 completed in 93.30 seconds.\n",
            "Epoch 8.0 completed in 93.10 seconds.\n",
            "Epoch 9.0 completed in 93.24 seconds.\n",
            "Epoch 10.0 completed in 93.21 seconds.\n"
          ]
        },
        {
          "output_type": "execute_result",
          "data": {
            "text/plain": [
              "TrainOutput(global_step=4510, training_loss=0.02794096216073744, metrics={'train_runtime': 1333.3111, 'train_samples_per_second': 54.046, 'train_steps_per_second': 3.383, 'total_flos': 4740030778429440.0, 'train_loss': 0.02794096216073744, 'epoch': 10.0})"
            ]
          },
          "metadata": {},
          "execution_count": 25
        }
      ]
    },
    {
      "cell_type": "markdown",
      "source": [
        "### Confusion Matrix"
      ],
      "metadata": {
        "id": "AEahhdH5H6mC"
      }
    },
    {
      "cell_type": "code",
      "source": [
        "# Confusion matrix\n",
        "preds_output = trainer.predict(val_dataset)\n",
        "true_labels = preds_output.label_ids\n",
        "predicted_labels = np.argmax(preds_output.predictions, axis=1)\n",
        "\n",
        "cm = confusion_matrix(true_labels, predicted_labels)\n",
        "labels = ['anger', 'joy', 'fear', 'sadness']\n",
        "\n",
        "# Visualisasi confusion matrix\n",
        "plt.figure(figsize=(8, 6))\n",
        "sns.heatmap(cm, annot=True, fmt='d', cmap='Blues', xticklabels=labels, yticklabels=labels)\n",
        "plt.xlabel('Predicted Label')\n",
        "plt.ylabel('True Label')\n",
        "plt.title('Confusion Matrix')\n",
        "plt.show()\n"
      ],
      "metadata": {
        "id": "oejUpMTKH9z0",
        "colab": {
          "base_uri": "https://localhost:8080/",
          "height": 564
        },
        "outputId": "a2993f0b-44b3-420c-c759-b71d3541e489"
      },
      "execution_count": null,
      "outputs": [
        {
          "output_type": "display_data",
          "data": {
            "text/plain": [
              "<IPython.core.display.HTML object>"
            ],
            "text/html": []
          },
          "metadata": {}
        },
        {
          "output_type": "display_data",
          "data": {
            "text/plain": [
              "<Figure size 800x600 with 2 Axes>"
            ],
            "image/png": "[encoded data removed]"
          },
          "metadata": {}
        }
      ]
    },
    {
      "cell_type": "markdown",
      "source": [
        "### Accuracy"
      ],
      "metadata": {
        "id": "2w1Ao0_ZH_yI"
      }
    },
    {
      "cell_type": "code",
      "source": [
        "predictions = trainer.predict(val_dataset)\n",
        "true_labels = predictions.label_ids\n",
        "predicted_probs = predictions.predictions\n",
        "predicted_labels = np.argmax(predicted_probs, axis=1)\n",
        "\n",
        "# Classification Report\n",
        "print(\"=== Classification Report ===\")\n",
        "print(classification_report(true_labels, predicted_labels, digits=6))\n",
        "\n",
        "# Akurasi\n",
        "accuracy = accuracy_score(true_labels, predicted_labels)\n",
        "print(f\"Accuracy: {accuracy:.6f}\")"
      ],
      "metadata": {
        "id": "fe0DMRxlIBgJ",
        "colab": {
          "base_uri": "https://localhost:8080/",
          "height": 257
        },
        "outputId": "a66b6fb8-5940-4c26-a95f-1740fa390c04"
      },
      "execution_count": null,
      "outputs": [
        {
          "output_type": "display_data",
          "data": {
            "text/plain": [
              "<IPython.core.display.HTML object>"
            ],
            "text/html": []
          },
          "metadata": {}
        },
        {
          "output_type": "stream",
          "name": "stdout",
          "text": [
            "=== Classification Report ===\n",
            "              precision    recall  f1-score   support\n",
            "\n",
            "           0   0.946548  0.942350  0.944444       451\n",
            "           1   0.960870  0.982222  0.971429       450\n",
            "           2   0.986301  0.957871  0.971879       451\n",
            "           3   0.960440  0.971111  0.965746       450\n",
            "\n",
            "    accuracy                       0.963374      1802\n",
            "   macro avg   0.963540  0.963389  0.963374      1802\n",
            "weighted avg   0.963543  0.963374  0.963369      1802\n",
            "\n",
            "Accuracy: 0.963374\n"
          ]
        }
      ]
    },
    {
      "cell_type": "code",
      "source": [
        "import matplotlib.pyplot as plt\n",
        "import seaborn as sns\n",
        "from sklearn.metrics import confusion_matrix, classification_report\n",
        "import numpy as np\n",
        "\n",
        "# Confusion matrix\n",
        "cm = confusion_matrix(true_labels, predicted_labels)\n",
        "\n",
        "# Label kelas (urutan harus sesuai dengan label yang kamu pakai)\n",
        "labels = ['anger', 'happiness', 'fear', 'sadness']  # Ganti sesuai label kamu ya\n",
        "\n",
        "# Visualisasi confusion matrix\n",
        "plt.figure(figsize=(8, 6))\n",
        "sns.heatmap(cm, annot=True, fmt='d', cmap='Blues', xticklabels=labels, yticklabels=labels)\n",
        "plt.xlabel('Predicted Label')\n",
        "plt.ylabel('True Label')\n",
        "plt.title('Confusion Matrix')\n",
        "plt.show()\n"
      ],
      "metadata": {
        "colab": {
          "base_uri": "https://localhost:8080/",
          "height": 564
        },
        "id": "qoi8GfR0UmO1",
        "outputId": "3e4b4b07-8525-40a5-c26f-94eccaedbbb2"
      },
      "execution_count": null,
      "outputs": [
        {
          "output_type": "display_data",
          "data": {
            "text/plain": [
              "<Figure size 800x600 with 2 Axes>"
            ],
            "image/png": "[encoded data removed]"
          },
          "metadata": {}
        }
      ]
    }
  ]
}