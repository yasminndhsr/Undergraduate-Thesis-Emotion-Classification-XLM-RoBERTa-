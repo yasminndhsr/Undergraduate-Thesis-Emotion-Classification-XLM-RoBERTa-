{
  "nbformat": 4,
  "nbformat_minor": 0,
  "metadata": {
    "colab": {
      "provenance": [],
      "collapsed_sections": [
        "lrEaGzjGMkqE"
      ],
      "gpuType": "T4",
      "toc_visible": true
    },
    "kernelspec": {
      "name": "python3",
      "display_name": "Python 3"
    },
    "language_info": {
      "name": "python"
    },
    "widgets": {
      "application/vnd.jupyter.widget-state+json": {
        "1bb5be22f0a74987a022fb769e8fd037": {
          "model_module": "@jupyter-widgets/controls",
          "model_name": "HBoxModel",
          "model_module_version": "1.5.0",
          "state": {
            "_dom_classes": [],
            "_model_module": "@jupyter-widgets/controls",
            "_model_module_version": "1.5.0",
            "_model_name": "HBoxModel",
            "_view_count": null,
            "_view_module": "@jupyter-widgets/controls",
            "_view_module_version": "1.5.0",
            "_view_name": "HBoxView",
            "box_style": "",
            "children": [
              "IPY_MODEL_f95d6f170e464edbb56fe93d194db8a4",
              "IPY_MODEL_31d055aea6844bb7996c79d9814eabd3",
              "IPY_MODEL_3edf03a8892d40a1ae8acf8b4dc650a1"
            ],
            "layout": "IPY_MODEL_e5635ad6a559468f94729d98a5f5c955"
          }
        },
        "f95d6f170e464edbb56fe93d194db8a4": {
          "model_module": "@jupyter-widgets/controls",
          "model_name": "HTMLModel",
          "model_module_version": "1.5.0",
          "state": {
            "_dom_classes": [],
            "_model_module": "@jupyter-widgets/controls",
            "_model_module_version": "1.5.0",
            "_model_name": "HTMLModel",
            "_view_count": null,
            "_view_module": "@jupyter-widgets/controls",
            "_view_module_version": "1.5.0",
            "_view_name": "HTMLView",
            "description": "",
            "description_tooltip": null,
            "layout": "IPY_MODEL_6a7adf28a43c48d1a83adb40c55edb26",
            "placeholder": "​",
            "style": "IPY_MODEL_ca9871b4f3c74634960b3256a5310a5a",
            "value": "tokenizer_config.json: 100%"
          }
        },
        "31d055aea6844bb7996c79d9814eabd3": {
          "model_module": "@jupyter-widgets/controls",
          "model_name": "FloatProgressModel",
          "model_module_version": "1.5.0",
          "state": {
            "_dom_classes": [],
            "_model_module": "@jupyter-widgets/controls",
            "_model_module_version": "1.5.0",
            "_model_name": "FloatProgressModel",
            "_view_count": null,
            "_view_module": "@jupyter-widgets/controls",
            "_view_module_version": "1.5.0",
            "_view_name": "ProgressView",
            "bar_style": "success",
            "description": "",
            "description_tooltip": null,
            "layout": "IPY_MODEL_acf634c68e074d82acbd518abc1bbeda",
            "max": 25,
            "min": 0,
            "orientation": "horizontal",
            "style": "IPY_MODEL_bb47b38a4fd4452b8c7c547e7f52f96a",
            "value": 25
          }
        },
        "3edf03a8892d40a1ae8acf8b4dc650a1": {
          "model_module": "@jupyter-widgets/controls",
          "model_name": "HTMLModel",
          "model_module_version": "1.5.0",
          "state": {
            "_dom_classes": [],
            "_model_module": "@jupyter-widgets/controls",
            "_model_module_version": "1.5.0",
            "_model_name": "HTMLModel",
            "_view_count": null,
            "_view_module": "@jupyter-widgets/controls",
            "_view_module_version": "1.5.0",
            "_view_name": "HTMLView",
            "description": "",
            "description_tooltip": null,
            "layout": "IPY_MODEL_7ce178dc2e5748859b0c656f6dba07ab",
            "placeholder": "​",
            "style": "IPY_MODEL_9e9df63bf9794c50b7df83e4a35a076e",
            "value": " 25.0/25.0 [00:00&lt;00:00, 2.47kB/s]"
          }
        },
        "e5635ad6a559468f94729d98a5f5c955": {
          "model_module": "@jupyter-widgets/base",
          "model_name": "LayoutModel",
          "model_module_version": "1.2.0",
          "state": {
            "_model_module": "@jupyter-widgets/base",
            "_model_module_version": "1.2.0",
            "_model_name": "LayoutModel",
            "_view_count": null,
            "_view_module": "@jupyter-widgets/base",
            "_view_module_version": "1.2.0",
            "_view_name": "LayoutView",
            "align_content": null,
            "align_items": null,
            "align_self": null,
            "border": null,
            "bottom": null,
            "display": null,
            "flex": null,
            "flex_flow": null,
            "grid_area": null,
            "grid_auto_columns": null,
            "grid_auto_flow": null,
            "grid_auto_rows": null,
            "grid_column": null,
            "grid_gap": null,
            "grid_row": null,
            "grid_template_areas": null,
            "grid_template_columns": null,
            "grid_template_rows": null,
            "height": null,
            "justify_content": null,
            "justify_items": null,
            "left": null,
            "margin": null,
            "max_height": null,
            "max_width": null,
            "min_height": null,
            "min_width": null,
            "object_fit": null,
            "object_position": null,
            "order": null,
            "overflow": null,
            "overflow_x": null,
            "overflow_y": null,
            "padding": null,
            "right": null,
            "top": null,
            "visibility": null,
            "width": null
          }
        },
        "6a7adf28a43c48d1a83adb40c55edb26": {
          "model_module": "@jupyter-widgets/base",
          "model_name": "LayoutModel",
          "model_module_version": "1.2.0",
          "state": {
            "_model_module": "@jupyter-widgets/base",
            "_model_module_version": "1.2.0",
            "_model_name": "LayoutModel",
            "_view_count": null,
            "_view_module": "@jupyter-widgets/base",
            "_view_module_version": "1.2.0",
            "_view_name": "LayoutView",
            "align_content": null,
            "align_items": null,
            "align_self": null,
            "border": null,
            "bottom": null,
            "display": null,
            "flex": null,
            "flex_flow": null,
            "grid_area": null,
            "grid_auto_columns": null,
            "grid_auto_flow": null,
            "grid_auto_rows": null,
            "grid_column": null,
            "grid_gap": null,
            "grid_row": null,
            "grid_template_areas": null,
            "grid_template_columns": null,
            "grid_template_rows": null,
            "height": null,
            "justify_content": null,
            "justify_items": null,
            "left": null,
            "margin": null,
            "max_height": null,
            "max_width": null,
            "min_height": null,
            "min_width": null,
            "object_fit": null,
            "object_position": null,
            "order": null,
            "overflow": null,
            "overflow_x": null,
            "overflow_y": null,
            "padding": null,
            "right": null,
            "top": null,
            "visibility": null,
            "width": null
          }
        },
        "ca9871b4f3c74634960b3256a5310a5a": {
          "model_module": "@jupyter-widgets/controls",
          "model_name": "DescriptionStyleModel",
          "model_module_version": "1.5.0",
          "state": {
            "_model_module": "@jupyter-widgets/controls",
            "_model_module_version": "1.5.0",
            "_model_name": "DescriptionStyleModel",
            "_view_count": null,
            "_view_module": "@jupyter-widgets/base",
            "_view_module_version": "1.2.0",
            "_view_name": "StyleView",
            "description_width": ""
          }
        },
        "acf634c68e074d82acbd518abc1bbeda": {
          "model_module": "@jupyter-widgets/base",
          "model_name": "LayoutModel",
          "model_module_version": "1.2.0",
          "state": {
            "_model_module": "@jupyter-widgets/base",
            "_model_module_version": "1.2.0",
            "_model_name": "LayoutModel",
            "_view_count": null,
            "_view_module": "@jupyter-widgets/base",
            "_view_module_version": "1.2.0",
            "_view_name": "LayoutView",
            "align_content": null,
            "align_items": null,
            "align_self": null,
            "border": null,
            "bottom": null,
            "display": null,
            "flex": null,
            "flex_flow": null,
            "grid_area": null,
            "grid_auto_columns": null,
            "grid_auto_flow": null,
            "grid_auto_rows": null,
            "grid_column": null,
            "grid_gap": null,
            "grid_row": null,
            "grid_template_areas": null,
            "grid_template_columns": null,
            "grid_template_rows": null,
            "height": null,
            "justify_content": null,
            "justify_items": null,
            "left": null,
            "margin": null,
            "max_height": null,
            "max_width": null,
            "min_height": null,
            "min_width": null,
            "object_fit": null,
            "object_position": null,
            "order": null,
            "overflow": null,
            "overflow_x": null,
            "overflow_y": null,
            "padding": null,
            "right": null,
            "top": null,
            "visibility": null,
            "width": null
          }
        },
        "bb47b38a4fd4452b8c7c547e7f52f96a": {
          "model_module": "@jupyter-widgets/controls",
          "model_name": "ProgressStyleModel",
          "model_module_version": "1.5.0",
          "state": {
            "_model_module": "@jupyter-widgets/controls",
            "_model_module_version": "1.5.0",
            "_model_name": "ProgressStyleModel",
            "_view_count": null,
            "_view_module": "@jupyter-widgets/base",
            "_view_module_version": "1.2.0",
            "_view_name": "StyleView",
            "bar_color": null,
            "description_width": ""
          }
        },
        "7ce178dc2e5748859b0c656f6dba07ab": {
          "model_module": "@jupyter-widgets/base",
          "model_name": "LayoutModel",
          "model_module_version": "1.2.0",
          "state": {
            "_model_module": "@jupyter-widgets/base",
            "_model_module_version": "1.2.0",
            "_model_name": "LayoutModel",
            "_view_count": null,
            "_view_module": "@jupyter-widgets/base",
            "_view_module_version": "1.2.0",
            "_view_name": "LayoutView",
            "align_content": null,
            "align_items": null,
            "align_self": null,
            "border": null,
            "bottom": null,
            "display": null,
            "flex": null,
            "flex_flow": null,
            "grid_area": null,
            "grid_auto_columns": null,
            "grid_auto_flow": null,
            "grid_auto_rows": null,
            "grid_column": null,
            "grid_gap": null,
            "grid_row": null,
            "grid_template_areas": null,
            "grid_template_columns": null,
            "grid_template_rows": null,
            "height": null,
            "justify_content": null,
            "justify_items": null,
            "left": null,
            "margin": null,
            "max_height": null,
            "max_width": null,
            "min_height": null,
            "min_width": null,
            "object_fit": null,
            "object_position": null,
            "order": null,
            "overflow": null,
            "overflow_x": null,
            "overflow_y": null,
            "padding": null,
            "right": null,
            "top": null,
            "visibility": null,
            "width": null
          }
        },
        "9e9df63bf9794c50b7df83e4a35a076e": {
          "model_module": "@jupyter-widgets/controls",
          "model_name": "DescriptionStyleModel",
          "model_module_version": "1.5.0",
          "state": {
            "_model_module": "@jupyter-widgets/controls",
            "_model_module_version": "1.5.0",
            "_model_name": "DescriptionStyleModel",
            "_view_count": null,
            "_view_module": "@jupyter-widgets/base",
            "_view_module_version": "1.2.0",
            "_view_name": "StyleView",
            "description_width": ""
          }
        },
        "c1448c9ad1864ebcae88c257e876e724": {
          "model_module": "@jupyter-widgets/controls",
          "model_name": "HBoxModel",
          "model_module_version": "1.5.0",
          "state": {
            "_dom_classes": [],
            "_model_module": "@jupyter-widgets/controls",
            "_model_module_version": "1.5.0",
            "_model_name": "HBoxModel",
            "_view_count": null,
            "_view_module": "@jupyter-widgets/controls",
            "_view_module_version": "1.5.0",
            "_view_name": "HBoxView",
            "box_style": "",
            "children": [
              "IPY_MODEL_3e54c17da44841c89d17785fc91dabc9",
              "IPY_MODEL_6819869c81974e6cb5cb5bb37327f5f0",
              "IPY_MODEL_86ed351d31064f27abbeeeeb7b34a44d"
            ],
            "layout": "IPY_MODEL_79f43abb44204207b25fe3dcd41799b0"
          }
        },
        "3e54c17da44841c89d17785fc91dabc9": {
          "model_module": "@jupyter-widgets/controls",
          "model_name": "HTMLModel",
          "model_module_version": "1.5.0",
          "state": {
            "_dom_classes": [],
            "_model_module": "@jupyter-widgets/controls",
            "_model_module_version": "1.5.0",
            "_model_name": "HTMLModel",
            "_view_count": null,
            "_view_module": "@jupyter-widgets/controls",
            "_view_module_version": "1.5.0",
            "_view_name": "HTMLView",
            "description": "",
            "description_tooltip": null,
            "layout": "IPY_MODEL_adb564de5c5f4fec8da26fb7028cd480",
            "placeholder": "​",
            "style": "IPY_MODEL_8d8e37f9c47a44e389391a14e824cb46",
            "value": "config.json: 100%"
          }
        },
        "6819869c81974e6cb5cb5bb37327f5f0": {
          "model_module": "@jupyter-widgets/controls",
          "model_name": "FloatProgressModel",
          "model_module_version": "1.5.0",
          "state": {
            "_dom_classes": [],
            "_model_module": "@jupyter-widgets/controls",
            "_model_module_version": "1.5.0",
            "_model_name": "FloatProgressModel",
            "_view_count": null,
            "_view_module": "@jupyter-widgets/controls",
            "_view_module_version": "1.5.0",
            "_view_name": "ProgressView",
            "bar_style": "success",
            "description": "",
            "description_tooltip": null,
            "layout": "IPY_MODEL_8452ff14ec904062ab4d408a1f50f23f",
            "max": 615,
            "min": 0,
            "orientation": "horizontal",
            "style": "IPY_MODEL_eb1238c273444f5e9ab7ecb5b47e572d",
            "value": 615
          }
        },
        "86ed351d31064f27abbeeeeb7b34a44d": {
          "model_module": "@jupyter-widgets/controls",
          "model_name": "HTMLModel",
          "model_module_version": "1.5.0",
          "state": {
            "_dom_classes": [],
            "_model_module": "@jupyter-widgets/controls",
            "_model_module_version": "1.5.0",
            "_model_name": "HTMLModel",
            "_view_count": null,
            "_view_module": "@jupyter-widgets/controls",
            "_view_module_version": "1.5.0",
            "_view_name": "HTMLView",
            "description": "",
            "description_tooltip": null,
            "layout": "IPY_MODEL_56700bb483a64335b0ba5e9c3661540d",
            "placeholder": "​",
            "style": "IPY_MODEL_76645d79d4fb45a9abd344236582c98f",
            "value": " 615/615 [00:00&lt;00:00, 59.8kB/s]"
          }
        },
        "79f43abb44204207b25fe3dcd41799b0": {
          "model_module": "@jupyter-widgets/base",
          "model_name": "LayoutModel",
          "model_module_version": "1.2.0",
          "state": {
            "_model_module": "@jupyter-widgets/base",
            "_model_module_version": "1.2.0",
            "_model_name": "LayoutModel",
            "_view_count": null,
            "_view_module": "@jupyter-widgets/base",
            "_view_module_version": "1.2.0",
            "_view_name": "LayoutView",
            "align_content": null,
            "align_items": null,
            "align_self": null,
            "border": null,
            "bottom": null,
            "display": null,
            "flex": null,
            "flex_flow": null,
            "grid_area": null,
            "grid_auto_columns": null,
            "grid_auto_flow": null,
            "grid_auto_rows": null,
            "grid_column": null,
            "grid_gap": null,
            "grid_row": null,
            "grid_template_areas": null,
            "grid_template_columns": null,
            "grid_template_rows": null,
            "height": null,
            "justify_content": null,
            "justify_items": null,
            "left": null,
            "margin": null,
            "max_height": null,
            "max_width": null,
            "min_height": null,
            "min_width": null,
            "object_fit": null,
            "object_position": null,
            "order": null,
            "overflow": null,
            "overflow_x": null,
            "overflow_y": null,
            "padding": null,
            "right": null,
            "top": null,
            "visibility": null,
            "width": null
          }
        },
        "adb564de5c5f4fec8da26fb7028cd480": {
          "model_module": "@jupyter-widgets/base",
          "model_name": "LayoutModel",
          "model_module_version": "1.2.0",
          "state": {
            "_model_module": "@jupyter-widgets/base",
            "_model_module_version": "1.2.0",
            "_model_name": "LayoutModel",
            "_view_count": null,
            "_view_module": "@jupyter-widgets/base",
            "_view_module_version": "1.2.0",
            "_view_name": "LayoutView",
            "align_content": null,
            "align_items": null,
            "align_self": null,
            "border": null,
            "bottom": null,
            "display": null,
            "flex": null,
            "flex_flow": null,
            "grid_area": null,
            "grid_auto_columns": null,
            "grid_auto_flow": null,
            "grid_auto_rows": null,
            "grid_column": null,
            "grid_gap": null,
            "grid_row": null,
            "grid_template_areas": null,
            "grid_template_columns": null,
            "grid_template_rows": null,
            "height": null,
            "justify_content": null,
            "justify_items": null,
            "left": null,
            "margin": null,
            "max_height": null,
            "max_width": null,
            "min_height": null,
            "min_width": null,
            "object_fit": null,
            "object_position": null,
            "order": null,
            "overflow": null,
            "overflow_x": null,
            "overflow_y": null,
            "padding": null,
            "right": null,
            "top": null,
            "visibility": null,
            "width": null
          }
        },
        "8d8e37f9c47a44e389391a14e824cb46": {
          "model_module": "@jupyter-widgets/controls",
          "model_name": "DescriptionStyleModel",
          "model_module_version": "1.5.0",
          "state": {
            "_model_module": "@jupyter-widgets/controls",
            "_model_module_version": "1.5.0",
            "_model_name": "DescriptionStyleModel",
            "_view_count": null,
            "_view_module": "@jupyter-widgets/base",
            "_view_module_version": "1.2.0",
            "_view_name": "StyleView",
            "description_width": ""
          }
        },
        "8452ff14ec904062ab4d408a1f50f23f": {
          "model_module": "@jupyter-widgets/base",
          "model_name": "LayoutModel",
          "model_module_version": "1.2.0",
          "state": {
            "_model_module": "@jupyter-widgets/base",
            "_model_module_version": "1.2.0",
            "_model_name": "LayoutModel",
            "_view_count": null,
            "_view_module": "@jupyter-widgets/base",
            "_view_module_version": "1.2.0",
            "_view_name": "LayoutView",
            "align_content": null,
            "align_items": null,
            "align_self": null,
            "border": null,
            "bottom": null,
            "display": null,
            "flex": null,
            "flex_flow": null,
            "grid_area": null,
            "grid_auto_columns": null,
            "grid_auto_flow": null,
            "grid_auto_rows": null,
            "grid_column": null,
            "grid_gap": null,
            "grid_row": null,
            "grid_template_areas": null,
            "grid_template_columns": null,
            "grid_template_rows": null,
            "height": null,
            "justify_content": null,
            "justify_items": null,
            "left": null,
            "margin": null,
            "max_height": null,
            "max_width": null,
            "min_height": null,
            "min_width": null,
            "object_fit": null,
            "object_position": null,
            "order": null,
            "overflow": null,
            "overflow_x": null,
            "overflow_y": null,
            "padding": null,
            "right": null,
            "top": null,
            "visibility": null,
            "width": null
          }
        },
        "eb1238c273444f5e9ab7ecb5b47e572d": {
          "model_module": "@jupyter-widgets/controls",
          "model_name": "ProgressStyleModel",
          "model_module_version": "1.5.0",
          "state": {
            "_model_module": "@jupyter-widgets/controls",
            "_model_module_version": "1.5.0",
            "_model_name": "ProgressStyleModel",
            "_view_count": null,
            "_view_module": "@jupyter-widgets/base",
            "_view_module_version": "1.2.0",
            "_view_name": "StyleView",
            "bar_color": null,
            "description_width": ""
          }
        },
        "56700bb483a64335b0ba5e9c3661540d": {
          "model_module": "@jupyter-widgets/base",
          "model_name": "LayoutModel",
          "model_module_version": "1.2.0",
          "state": {
            "_model_module": "@jupyter-widgets/base",
            "_model_module_version": "1.2.0",
            "_model_name": "LayoutModel",
            "_view_count": null,
            "_view_module": "@jupyter-widgets/base",
            "_view_module_version": "1.2.0",
            "_view_name": "LayoutView",
            "align_content": null,
            "align_items": null,
            "align_self": null,
            "border": null,
            "bottom": null,
            "display": null,
            "flex": null,
            "flex_flow": null,
            "grid_area": null,
            "grid_auto_columns": null,
            "grid_auto_flow": null,
            "grid_auto_rows": null,
            "grid_column": null,
            "grid_gap": null,
            "grid_row": null,
            "grid_template_areas": null,
            "grid_template_columns": null,
            "grid_template_rows": null,
            "height": null,
            "justify_content": null,
            "justify_items": null,
            "left": null,
            "margin": null,
            "max_height": null,
            "max_width": null,
            "min_height": null,
            "min_width": null,
            "object_fit": null,
            "object_position": null,
            "order": null,
            "overflow": null,
            "overflow_x": null,
            "overflow_y": null,
            "padding": null,
            "right": null,
            "top": null,
            "visibility": null,
            "width": null
          }
        },
        "76645d79d4fb45a9abd344236582c98f": {
          "model_module": "@jupyter-widgets/controls",
          "model_name": "DescriptionStyleModel",
          "model_module_version": "1.5.0",
          "state": {
            "_model_module": "@jupyter-widgets/controls",
            "_model_module_version": "1.5.0",
            "_model_name": "DescriptionStyleModel",
            "_view_count": null,
            "_view_module": "@jupyter-widgets/base",
            "_view_module_version": "1.2.0",
            "_view_name": "StyleView",
            "description_width": ""
          }
        },
        "88b8f195198649fcaf3cc1a3c0d6fe68": {
          "model_module": "@jupyter-widgets/controls",
          "model_name": "HBoxModel",
          "model_module_version": "1.5.0",
          "state": {
            "_dom_classes": [],
            "_model_module": "@jupyter-widgets/controls",
            "_model_module_version": "1.5.0",
            "_model_name": "HBoxModel",
            "_view_count": null,
            "_view_module": "@jupyter-widgets/controls",
            "_view_module_version": "1.5.0",
            "_view_name": "HBoxView",
            "box_style": "",
            "children": [
              "IPY_MODEL_77f8dbafb96045e0af6bdc8f715fab4f",
              "IPY_MODEL_3aa2d17345cb4086bd2744fdedcab8bd",
              "IPY_MODEL_15058dfdf5d8416d8be59b25edaa03bc"
            ],
            "layout": "IPY_MODEL_566fdb625a704903a3a6b5e8bce592b4"
          }
        },
        "77f8dbafb96045e0af6bdc8f715fab4f": {
          "model_module": "@jupyter-widgets/controls",
          "model_name": "HTMLModel",
          "model_module_version": "1.5.0",
          "state": {
            "_dom_classes": [],
            "_model_module": "@jupyter-widgets/controls",
            "_model_module_version": "1.5.0",
            "_model_name": "HTMLModel",
            "_view_count": null,
            "_view_module": "@jupyter-widgets/controls",
            "_view_module_version": "1.5.0",
            "_view_name": "HTMLView",
            "description": "",
            "description_tooltip": null,
            "layout": "IPY_MODEL_a54e94779203434d9d55fcbdef18bc5c",
            "placeholder": "​",
            "style": "IPY_MODEL_a93f709f70204c1e9a8f027769555ac9",
            "value": "sentencepiece.bpe.model: 100%"
          }
        },
        "3aa2d17345cb4086bd2744fdedcab8bd": {
          "model_module": "@jupyter-widgets/controls",
          "model_name": "FloatProgressModel",
          "model_module_version": "1.5.0",
          "state": {
            "_dom_classes": [],
            "_model_module": "@jupyter-widgets/controls",
            "_model_module_version": "1.5.0",
            "_model_name": "FloatProgressModel",
            "_view_count": null,
            "_view_module": "@jupyter-widgets/controls",
            "_view_module_version": "1.5.0",
            "_view_name": "ProgressView",
            "bar_style": "success",
            "description": "",
            "description_tooltip": null,
            "layout": "IPY_MODEL_0b649be64f0849c5a6cd5e6c77484059",
            "max": 5069051,
            "min": 0,
            "orientation": "horizontal",
            "style": "IPY_MODEL_bd0be13f5e214d0dba23d9b30ae63bc4",
            "value": 5069051
          }
        },
        "15058dfdf5d8416d8be59b25edaa03bc": {
          "model_module": "@jupyter-widgets/controls",
          "model_name": "HTMLModel",
          "model_module_version": "1.5.0",
          "state": {
            "_dom_classes": [],
            "_model_module": "@jupyter-widgets/controls",
            "_model_module_version": "1.5.0",
            "_model_name": "HTMLModel",
            "_view_count": null,
            "_view_module": "@jupyter-widgets/controls",
            "_view_module_version": "1.5.0",
            "_view_name": "HTMLView",
            "description": "",
            "description_tooltip": null,
            "layout": "IPY_MODEL_9f614aa952024f27975e99e6af94c87e",
            "placeholder": "​",
            "style": "IPY_MODEL_3d45038dbb3f4fe285811db9d79a159d",
            "value": " 5.07M/5.07M [00:00&lt;00:00, 14.1MB/s]"
          }
        },
        "566fdb625a704903a3a6b5e8bce592b4": {
          "model_module": "@jupyter-widgets/base",
          "model_name": "LayoutModel",
          "model_module_version": "1.2.0",
          "state": {
            "_model_module": "@jupyter-widgets/base",
            "_model_module_version": "1.2.0",
            "_model_name": "LayoutModel",
            "_view_count": null,
            "_view_module": "@jupyter-widgets/base",
            "_view_module_version": "1.2.0",
            "_view_name": "LayoutView",
            "align_content": null,
            "align_items": null,
            "align_self": null,
            "border": null,
            "bottom": null,
            "display": null,
            "flex": null,
            "flex_flow": null,
            "grid_area": null,
            "grid_auto_columns": null,
            "grid_auto_flow": null,
            "grid_auto_rows": null,
            "grid_column": null,
            "grid_gap": null,
            "grid_row": null,
            "grid_template_areas": null,
            "grid_template_columns": null,
            "grid_template_rows": null,
            "height": null,
            "justify_content": null,
            "justify_items": null,
            "left": null,
            "margin": null,
            "max_height": null,
            "max_width": null,
            "min_height": null,
            "min_width": null,
            "object_fit": null,
            "object_position": null,
            "order": null,
            "overflow": null,
            "overflow_x": null,
            "overflow_y": null,
            "padding": null,
            "right": null,
            "top": null,
            "visibility": null,
            "width": null
          }
        },
        "a54e94779203434d9d55fcbdef18bc5c": {
          "model_module": "@jupyter-widgets/base",
          "model_name": "LayoutModel",
          "model_module_version": "1.2.0",
          "state": {
            "_model_module": "@jupyter-widgets/base",
            "_model_module_version": "1.2.0",
            "_model_name": "LayoutModel",
            "_view_count": null,
            "_view_module": "@jupyter-widgets/base",
            "_view_module_version": "1.2.0",
            "_view_name": "LayoutView",
            "align_content": null,
            "align_items": null,
            "align_self": null,
            "border": null,
            "bottom": null,
            "display": null,
            "flex": null,
            "flex_flow": null,
            "grid_area": null,
            "grid_auto_columns": null,
            "grid_auto_flow": null,
            "grid_auto_rows": null,
            "grid_column": null,
            "grid_gap": null,
            "grid_row": null,
            "grid_template_areas": null,
            "grid_template_columns": null,
            "grid_template_rows": null,
            "height": null,
            "justify_content": null,
            "justify_items": null,
            "left": null,
            "margin": null,
            "max_height": null,
            "max_width": null,
            "min_height": null,
            "min_width": null,
            "object_fit": null,
            "object_position": null,
            "order": null,
            "overflow": null,
            "overflow_x": null,
            "overflow_y": null,
            "padding": null,
            "right": null,
            "top": null,
            "visibility": null,
            "width": null
          }
        },
        "a93f709f70204c1e9a8f027769555ac9": {
          "model_module": "@jupyter-widgets/controls",
          "model_name": "DescriptionStyleModel",
          "model_module_version": "1.5.0",
          "state": {
            "_model_module": "@jupyter-widgets/controls",
            "_model_module_version": "1.5.0",
            "_model_name": "DescriptionStyleModel",
            "_view_count": null,
            "_view_module": "@jupyter-widgets/base",
            "_view_module_version": "1.2.0",
            "_view_name": "StyleView",
            "description_width": ""
          }
        },
        "0b649be64f0849c5a6cd5e6c77484059": {
          "model_module": "@jupyter-widgets/base",
          "model_name": "LayoutModel",
          "model_module_version": "1.2.0",
          "state": {
            "_model_module": "@jupyter-widgets/base",
            "_model_module_version": "1.2.0",
            "_model_name": "LayoutModel",
            "_view_count": null,
            "_view_module": "@jupyter-widgets/base",
            "_view_module_version": "1.2.0",
            "_view_name": "LayoutView",
            "align_content": null,
            "align_items": null,
            "align_self": null,
            "border": null,
            "bottom": null,
            "display": null,
            "flex": null,
            "flex_flow": null,
            "grid_area": null,
            "grid_auto_columns": null,
            "grid_auto_flow": null,
            "grid_auto_rows": null,
            "grid_column": null,
            "grid_gap": null,
            "grid_row": null,
            "grid_template_areas": null,
            "grid_template_columns": null,
            "grid_template_rows": null,
            "height": null,
            "justify_content": null,
            "justify_items": null,
            "left": null,
            "margin": null,
            "max_height": null,
            "max_width": null,
            "min_height": null,
            "min_width": null,
            "object_fit": null,
            "object_position": null,
            "order": null,
            "overflow": null,
            "overflow_x": null,
            "overflow_y": null,
            "padding": null,
            "right": null,
            "top": null,
            "visibility": null,
            "width": null
          }
        },
        "bd0be13f5e214d0dba23d9b30ae63bc4": {
          "model_module": "@jupyter-widgets/controls",
          "model_name": "ProgressStyleModel",
          "model_module_version": "1.5.0",
          "state": {
            "_model_module": "@jupyter-widgets/controls",
            "_model_module_version": "1.5.0",
            "_model_name": "ProgressStyleModel",
            "_view_count": null,
            "_view_module": "@jupyter-widgets/base",
            "_view_module_version": "1.2.0",
            "_view_name": "StyleView",
            "bar_color": null,
            "description_width": ""
          }
        },
        "9f614aa952024f27975e99e6af94c87e": {
          "model_module": "@jupyter-widgets/base",
          "model_name": "LayoutModel",
          "model_module_version": "1.2.0",
          "state": {
            "_model_module": "@jupyter-widgets/base",
            "_model_module_version": "1.2.0",
            "_model_name": "LayoutModel",
            "_view_count": null,
            "_view_module": "@jupyter-widgets/base",
            "_view_module_version": "1.2.0",
            "_view_name": "LayoutView",
            "align_content": null,
            "align_items": null,
            "align_self": null,
            "border": null,
            "bottom": null,
            "display": null,
            "flex": null,
            "flex_flow": null,
            "grid_area": null,
            "grid_auto_columns": null,
            "grid_auto_flow": null,
            "grid_auto_rows": null,
            "grid_column": null,
            "grid_gap": null,
            "grid_row": null,
            "grid_template_areas": null,
            "grid_template_columns": null,
            "grid_template_rows": null,
            "height": null,
            "justify_content": null,
            "justify_items": null,
            "left": null,
            "margin": null,
            "max_height": null,
            "max_width": null,
            "min_height": null,
            "min_width": null,
            "object_fit": null,
            "object_position": null,
            "order": null,
            "overflow": null,
            "overflow_x": null,
            "overflow_y": null,
            "padding": null,
            "right": null,
            "top": null,
            "visibility": null,
            "width": null
          }
        },
        "3d45038dbb3f4fe285811db9d79a159d": {
          "model_module": "@jupyter-widgets/controls",
          "model_name": "DescriptionStyleModel",
          "model_module_version": "1.5.0",
          "state": {
            "_model_module": "@jupyter-widgets/controls",
            "_model_module_version": "1.5.0",
            "_model_name": "DescriptionStyleModel",
            "_view_count": null,
            "_view_module": "@jupyter-widgets/base",
            "_view_module_version": "1.2.0",
            "_view_name": "StyleView",
            "description_width": ""
          }
        },
        "011025c3a7da47708bc935b1cbf76eef": {
          "model_module": "@jupyter-widgets/controls",
          "model_name": "HBoxModel",
          "model_module_version": "1.5.0",
          "state": {
            "_dom_classes": [],
            "_model_module": "@jupyter-widgets/controls",
            "_model_module_version": "1.5.0",
            "_model_name": "HBoxModel",
            "_view_count": null,
            "_view_module": "@jupyter-widgets/controls",
            "_view_module_version": "1.5.0",
            "_view_name": "HBoxView",
            "box_style": "",
            "children": [
              "IPY_MODEL_4c6e915613c843c28fab606a508df769",
              "IPY_MODEL_c2811042c4f64aadbaf5fb40755839e0",
              "IPY_MODEL_ac608a25b2014423a43ed306d4fa7059"
            ],
            "layout": "IPY_MODEL_942f943cd35342deadb230eeca4bfc56"
          }
        },
        "4c6e915613c843c28fab606a508df769": {
          "model_module": "@jupyter-widgets/controls",
          "model_name": "HTMLModel",
          "model_module_version": "1.5.0",
          "state": {
            "_dom_classes": [],
            "_model_module": "@jupyter-widgets/controls",
            "_model_module_version": "1.5.0",
            "_model_name": "HTMLModel",
            "_view_count": null,
            "_view_module": "@jupyter-widgets/controls",
            "_view_module_version": "1.5.0",
            "_view_name": "HTMLView",
            "description": "",
            "description_tooltip": null,
            "layout": "IPY_MODEL_150200ffd2b84f97ac541bdcf47ebf6a",
            "placeholder": "​",
            "style": "IPY_MODEL_770b1eef28ab4c5abd80e43cd586cbe7",
            "value": "tokenizer.json: 100%"
          }
        },
        "c2811042c4f64aadbaf5fb40755839e0": {
          "model_module": "@jupyter-widgets/controls",
          "model_name": "FloatProgressModel",
          "model_module_version": "1.5.0",
          "state": {
            "_dom_classes": [],
            "_model_module": "@jupyter-widgets/controls",
            "_model_module_version": "1.5.0",
            "_model_name": "FloatProgressModel",
            "_view_count": null,
            "_view_module": "@jupyter-widgets/controls",
            "_view_module_version": "1.5.0",
            "_view_name": "ProgressView",
            "bar_style": "success",
            "description": "",
            "description_tooltip": null,
            "layout": "IPY_MODEL_12a65da1233644da8700b87ad7f829cf",
            "max": 9096718,
            "min": 0,
            "orientation": "horizontal",
            "style": "IPY_MODEL_b2880fa0f3d242168c88136a57952da3",
            "value": 9096718
          }
        },
        "ac608a25b2014423a43ed306d4fa7059": {
          "model_module": "@jupyter-widgets/controls",
          "model_name": "HTMLModel",
          "model_module_version": "1.5.0",
          "state": {
            "_dom_classes": [],
            "_model_module": "@jupyter-widgets/controls",
            "_model_module_version": "1.5.0",
            "_model_name": "HTMLModel",
            "_view_count": null,
            "_view_module": "@jupyter-widgets/controls",
            "_view_module_version": "1.5.0",
            "_view_name": "HTMLView",
            "description": "",
            "description_tooltip": null,
            "layout": "IPY_MODEL_72e25fe3efc04149aa31383eb86cf77f",
            "placeholder": "​",
            "style": "IPY_MODEL_ee1e0d96b5db446b8e348638fa97b809",
            "value": " 9.10M/9.10M [00:00&lt;00:00, 18.3MB/s]"
          }
        },
        "942f943cd35342deadb230eeca4bfc56": {
          "model_module": "@jupyter-widgets/base",
          "model_name": "LayoutModel",
          "model_module_version": "1.2.0",
          "state": {
            "_model_module": "@jupyter-widgets/base",
            "_model_module_version": "1.2.0",
            "_model_name": "LayoutModel",
            "_view_count": null,
            "_view_module": "@jupyter-widgets/base",
            "_view_module_version": "1.2.0",
            "_view_name": "LayoutView",
            "align_content": null,
            "align_items": null,
            "align_self": null,
            "border": null,
            "bottom": null,
            "display": null,
            "flex": null,
            "flex_flow": null,
            "grid_area": null,
            "grid_auto_columns": null,
            "grid_auto_flow": null,
            "grid_auto_rows": null,
            "grid_column": null,
            "grid_gap": null,
            "grid_row": null,
            "grid_template_areas": null,
            "grid_template_columns": null,
            "grid_template_rows": null,
            "height": null,
            "justify_content": null,
            "justify_items": null,
            "left": null,
            "margin": null,
            "max_height": null,
            "max_width": null,
            "min_height": null,
            "min_width": null,
            "object_fit": null,
            "object_position": null,
            "order": null,
            "overflow": null,
            "overflow_x": null,
            "overflow_y": null,
            "padding": null,
            "right": null,
            "top": null,
            "visibility": null,
            "width": null
          }
        },
        "150200ffd2b84f97ac541bdcf47ebf6a": {
          "model_module": "@jupyter-widgets/base",
          "model_name": "LayoutModel",
          "model_module_version": "1.2.0",
          "state": {
            "_model_module": "@jupyter-widgets/base",
            "_model_module_version": "1.2.0",
            "_model_name": "LayoutModel",
            "_view_count": null,
            "_view_module": "@jupyter-widgets/base",
            "_view_module_version": "1.2.0",
            "_view_name": "LayoutView",
            "align_content": null,
            "align_items": null,
            "align_self": null,
            "border": null,
            "bottom": null,
            "display": null,
            "flex": null,
            "flex_flow": null,
            "grid_area": null,
            "grid_auto_columns": null,
            "grid_auto_flow": null,
            "grid_auto_rows": null,
            "grid_column": null,
            "grid_gap": null,
            "grid_row": null,
            "grid_template_areas": null,
            "grid_template_columns": null,
            "grid_template_rows": null,
            "height": null,
            "justify_content": null,
            "justify_items": null,
            "left": null,
            "margin": null,
            "max_height": null,
            "max_width": null,
            "min_height": null,
            "min_width": null,
            "object_fit": null,
            "object_position": null,
            "order": null,
            "overflow": null,
            "overflow_x": null,
            "overflow_y": null,
            "padding": null,
            "right": null,
            "top": null,
            "visibility": null,
            "width": null
          }
        },
        "770b1eef28ab4c5abd80e43cd586cbe7": {
          "model_module": "@jupyter-widgets/controls",
          "model_name": "DescriptionStyleModel",
          "model_module_version": "1.5.0",
          "state": {
            "_model_module": "@jupyter-widgets/controls",
            "_model_module_version": "1.5.0",
            "_model_name": "DescriptionStyleModel",
            "_view_count": null,
            "_view_module": "@jupyter-widgets/base",
            "_view_module_version": "1.2.0",
            "_view_name": "StyleView",
            "description_width": ""
          }
        },
        "12a65da1233644da8700b87ad7f829cf": {
          "model_module": "@jupyter-widgets/base",
          "model_name": "LayoutModel",
          "model_module_version": "1.2.0",
          "state": {
            "_model_module": "@jupyter-widgets/base",
            "_model_module_version": "1.2.0",
            "_model_name": "LayoutModel",
            "_view_count": null,
            "_view_module": "@jupyter-widgets/base",
            "_view_module_version": "1.2.0",
            "_view_name": "LayoutView",
            "align_content": null,
            "align_items": null,
            "align_self": null,
            "border": null,
            "bottom": null,
            "display": null,
            "flex": null,
            "flex_flow": null,
            "grid_area": null,
            "grid_auto_columns": null,
            "grid_auto_flow": null,
            "grid_auto_rows": null,
            "grid_column": null,
            "grid_gap": null,
            "grid_row": null,
            "grid_template_areas": null,
            "grid_template_columns": null,
            "grid_template_rows": null,
            "height": null,
            "justify_content": null,
            "justify_items": null,
            "left": null,
            "margin": null,
            "max_height": null,
            "max_width": null,
            "min_height": null,
            "min_width": null,
            "object_fit": null,
            "object_position": null,
            "order": null,
            "overflow": null,
            "overflow_x": null,
            "overflow_y": null,
            "padding": null,
            "right": null,
            "top": null,
            "visibility": null,
            "width": null
          }
        },
        "b2880fa0f3d242168c88136a57952da3": {
          "model_module": "@jupyter-widgets/controls",
          "model_name": "ProgressStyleModel",
          "model_module_version": "1.5.0",
          "state": {
            "_model_module": "@jupyter-widgets/controls",
            "_model_module_version": "1.5.0",
            "_model_name": "ProgressStyleModel",
            "_view_count": null,
            "_view_module": "@jupyter-widgets/base",
            "_view_module_version": "1.2.0",
            "_view_name": "StyleView",
            "bar_color": null,
            "description_width": ""
          }
        },
        "72e25fe3efc04149aa31383eb86cf77f": {
          "model_module": "@jupyter-widgets/base",
          "model_name": "LayoutModel",
          "model_module_version": "1.2.0",
          "state": {
            "_model_module": "@jupyter-widgets/base",
            "_model_module_version": "1.2.0",
            "_model_name": "LayoutModel",
            "_view_count": null,
            "_view_module": "@jupyter-widgets/base",
            "_view_module_version": "1.2.0",
            "_view_name": "LayoutView",
            "align_content": null,
            "align_items": null,
            "align_self": null,
            "border": null,
            "bottom": null,
            "display": null,
            "flex": null,
            "flex_flow": null,
            "grid_area": null,
            "grid_auto_columns": null,
            "grid_auto_flow": null,
            "grid_auto_rows": null,
            "grid_column": null,
            "grid_gap": null,
            "grid_row": null,
            "grid_template_areas": null,
            "grid_template_columns": null,
            "grid_template_rows": null,
            "height": null,
            "justify_content": null,
            "justify_items": null,
            "left": null,
            "margin": null,
            "max_height": null,
            "max_width": null,
            "min_height": null,
            "min_width": null,
            "object_fit": null,
            "object_position": null,
            "order": null,
            "overflow": null,
            "overflow_x": null,
            "overflow_y": null,
            "padding": null,
            "right": null,
            "top": null,
            "visibility": null,
            "width": null
          }
        },
        "ee1e0d96b5db446b8e348638fa97b809": {
          "model_module": "@jupyter-widgets/controls",
          "model_name": "DescriptionStyleModel",
          "model_module_version": "1.5.0",
          "state": {
            "_model_module": "@jupyter-widgets/controls",
            "_model_module_version": "1.5.0",
            "_model_name": "DescriptionStyleModel",
            "_view_count": null,
            "_view_module": "@jupyter-widgets/base",
            "_view_module_version": "1.2.0",
            "_view_name": "StyleView",
            "description_width": ""
          }
        },
        "f7b32965c3314b8492ac983ea9f334b3": {
          "model_module": "@jupyter-widgets/controls",
          "model_name": "HBoxModel",
          "model_module_version": "1.5.0",
          "state": {
            "_dom_classes": [],
            "_model_module": "@jupyter-widgets/controls",
            "_model_module_version": "1.5.0",
            "_model_name": "HBoxModel",
            "_view_count": null,
            "_view_module": "@jupyter-widgets/controls",
            "_view_module_version": "1.5.0",
            "_view_name": "HBoxView",
            "box_style": "",
            "children": [
              "IPY_MODEL_ff566ef5991149a7b52ad454feb798ad",
              "IPY_MODEL_ce8fecff51ca4697870ff1e21d2080e1",
              "IPY_MODEL_f58a3c4baa9840b7888c5f129115a6c5"
            ],
            "layout": "IPY_MODEL_61e3de5bd75c4e238814d787247a5f00"
          }
        },
        "ff566ef5991149a7b52ad454feb798ad": {
          "model_module": "@jupyter-widgets/controls",
          "model_name": "HTMLModel",
          "model_module_version": "1.5.0",
          "state": {
            "_dom_classes": [],
            "_model_module": "@jupyter-widgets/controls",
            "_model_module_version": "1.5.0",
            "_model_name": "HTMLModel",
            "_view_count": null,
            "_view_module": "@jupyter-widgets/controls",
            "_view_module_version": "1.5.0",
            "_view_name": "HTMLView",
            "description": "",
            "description_tooltip": null,
            "layout": "IPY_MODEL_29d766cab2514a70b452775be69145bc",
            "placeholder": "​",
            "style": "IPY_MODEL_6aef99e168024826bc544a93afefb921",
            "value": "model.safetensors: 100%"
          }
        },
        "ce8fecff51ca4697870ff1e21d2080e1": {
          "model_module": "@jupyter-widgets/controls",
          "model_name": "FloatProgressModel",
          "model_module_version": "1.5.0",
          "state": {
            "_dom_classes": [],
            "_model_module": "@jupyter-widgets/controls",
            "_model_module_version": "1.5.0",
            "_model_name": "FloatProgressModel",
            "_view_count": null,
            "_view_module": "@jupyter-widgets/controls",
            "_view_module_version": "1.5.0",
            "_view_name": "ProgressView",
            "bar_style": "success",
            "description": "",
            "description_tooltip": null,
            "layout": "IPY_MODEL_6c8e6402eb534d2a817bb3018e65d7bc",
            "max": 1115567652,
            "min": 0,
            "orientation": "horizontal",
            "style": "IPY_MODEL_61fcb31e6c1d426aa672672a1f75f4d1",
            "value": 1115567652
          }
        },
        "f58a3c4baa9840b7888c5f129115a6c5": {
          "model_module": "@jupyter-widgets/controls",
          "model_name": "HTMLModel",
          "model_module_version": "1.5.0",
          "state": {
            "_dom_classes": [],
            "_model_module": "@jupyter-widgets/controls",
            "_model_module_version": "1.5.0",
            "_model_name": "HTMLModel",
            "_view_count": null,
            "_view_module": "@jupyter-widgets/controls",
            "_view_module_version": "1.5.0",
            "_view_name": "HTMLView",
            "description": "",
            "description_tooltip": null,
            "layout": "IPY_MODEL_d50a868a44e74569942c390dfd54559d",
            "placeholder": "​",
            "style": "IPY_MODEL_b4e42cf5ece7451a9165a5fba9319f62",
            "value": " 1.12G/1.12G [00:06&lt;00:00, 80.1MB/s]"
          }
        },
        "61e3de5bd75c4e238814d787247a5f00": {
          "model_module": "@jupyter-widgets/base",
          "model_name": "LayoutModel",
          "model_module_version": "1.2.0",
          "state": {
            "_model_module": "@jupyter-widgets/base",
            "_model_module_version": "1.2.0",
            "_model_name": "LayoutModel",
            "_view_count": null,
            "_view_module": "@jupyter-widgets/base",
            "_view_module_version": "1.2.0",
            "_view_name": "LayoutView",
            "align_content": null,
            "align_items": null,
            "align_self": null,
            "border": null,
            "bottom": null,
            "display": null,
            "flex": null,
            "flex_flow": null,
            "grid_area": null,
            "grid_auto_columns": null,
            "grid_auto_flow": null,
            "grid_auto_rows": null,
            "grid_column": null,
            "grid_gap": null,
            "grid_row": null,
            "grid_template_areas": null,
            "grid_template_columns": null,
            "grid_template_rows": null,
            "height": null,
            "justify_content": null,
            "justify_items": null,
            "left": null,
            "margin": null,
            "max_height": null,
            "max_width": null,
            "min_height": null,
            "min_width": null,
            "object_fit": null,
            "object_position": null,
            "order": null,
            "overflow": null,
            "overflow_x": null,
            "overflow_y": null,
            "padding": null,
            "right": null,
            "top": null,
            "visibility": null,
            "width": null
          }
        },
        "29d766cab2514a70b452775be69145bc": {
          "model_module": "@jupyter-widgets/base",
          "model_name": "LayoutModel",
          "model_module_version": "1.2.0",
          "state": {
            "_model_module": "@jupyter-widgets/base",
            "_model_module_version": "1.2.0",
            "_model_name": "LayoutModel",
            "_view_count": null,
            "_view_module": "@jupyter-widgets/base",
            "_view_module_version": "1.2.0",
            "_view_name": "LayoutView",
            "align_content": null,
            "align_items": null,
            "align_self": null,
            "border": null,
            "bottom": null,
            "display": null,
            "flex": null,
            "flex_flow": null,
            "grid_area": null,
            "grid_auto_columns": null,
            "grid_auto_flow": null,
            "grid_auto_rows": null,
            "grid_column": null,
            "grid_gap": null,
            "grid_row": null,
            "grid_template_areas": null,
            "grid_template_columns": null,
            "grid_template_rows": null,
            "height": null,
            "justify_content": null,
            "justify_items": null,
            "left": null,
            "margin": null,
            "max_height": null,
            "max_width": null,
            "min_height": null,
            "min_width": null,
            "object_fit": null,
            "object_position": null,
            "order": null,
            "overflow": null,
            "overflow_x": null,
            "overflow_y": null,
            "padding": null,
            "right": null,
            "top": null,
            "visibility": null,
            "width": null
          }
        },
        "6aef99e168024826bc544a93afefb921": {
          "model_module": "@jupyter-widgets/controls",
          "model_name": "DescriptionStyleModel",
          "model_module_version": "1.5.0",
          "state": {
            "_model_module": "@jupyter-widgets/controls",
            "_model_module_version": "1.5.0",
            "_model_name": "DescriptionStyleModel",
            "_view_count": null,
            "_view_module": "@jupyter-widgets/base",
            "_view_module_version": "1.2.0",
            "_view_name": "StyleView",
            "description_width": ""
          }
        },
        "6c8e6402eb534d2a817bb3018e65d7bc": {
          "model_module": "@jupyter-widgets/base",
          "model_name": "LayoutModel",
          "model_module_version": "1.2.0",
          "state": {
            "_model_module": "@jupyter-widgets/base",
            "_model_module_version": "1.2.0",
            "_model_name": "LayoutModel",
            "_view_count": null,
            "_view_module": "@jupyter-widgets/base",
            "_view_module_version": "1.2.0",
            "_view_name": "LayoutView",
            "align_content": null,
            "align_items": null,
            "align_self": null,
            "border": null,
            "bottom": null,
            "display": null,
            "flex": null,
            "flex_flow": null,
            "grid_area": null,
            "grid_auto_columns": null,
            "grid_auto_flow": null,
            "grid_auto_rows": null,
            "grid_column": null,
            "grid_gap": null,
            "grid_row": null,
            "grid_template_areas": null,
            "grid_template_columns": null,
            "grid_template_rows": null,
            "height": null,
            "justify_content": null,
            "justify_items": null,
            "left": null,
            "margin": null,
            "max_height": null,
            "max_width": null,
            "min_height": null,
            "min_width": null,
            "object_fit": null,
            "object_position": null,
            "order": null,
            "overflow": null,
            "overflow_x": null,
            "overflow_y": null,
            "padding": null,
            "right": null,
            "top": null,
            "visibility": null,
            "width": null
          }
        },
        "61fcb31e6c1d426aa672672a1f75f4d1": {
          "model_module": "@jupyter-widgets/controls",
          "model_name": "ProgressStyleModel",
          "model_module_version": "1.5.0",
          "state": {
            "_model_module": "@jupyter-widgets/controls",
            "_model_module_version": "1.5.0",
            "_model_name": "ProgressStyleModel",
            "_view_count": null,
            "_view_module": "@jupyter-widgets/base",
            "_view_module_version": "1.2.0",
            "_view_name": "StyleView",
            "bar_color": null,
            "description_width": ""
          }
        },
        "d50a868a44e74569942c390dfd54559d": {
          "model_module": "@jupyter-widgets/base",
          "model_name": "LayoutModel",
          "model_module_version": "1.2.0",
          "state": {
            "_model_module": "@jupyter-widgets/base",
            "_model_module_version": "1.2.0",
            "_model_name": "LayoutModel",
            "_view_count": null,
            "_view_module": "@jupyter-widgets/base",
            "_view_module_version": "1.2.0",
            "_view_name": "LayoutView",
            "align_content": null,
            "align_items": null,
            "align_self": null,
            "border": null,
            "bottom": null,
            "display": null,
            "flex": null,
            "flex_flow": null,
            "grid_area": null,
            "grid_auto_columns": null,
            "grid_auto_flow": null,
            "grid_auto_rows": null,
            "grid_column": null,
            "grid_gap": null,
            "grid_row": null,
            "grid_template_areas": null,
            "grid_template_columns": null,
            "grid_template_rows": null,
            "height": null,
            "justify_content": null,
            "justify_items": null,
            "left": null,
            "margin": null,
            "max_height": null,
            "max_width": null,
            "min_height": null,
            "min_width": null,
            "object_fit": null,
            "object_position": null,
            "order": null,
            "overflow": null,
            "overflow_x": null,
            "overflow_y": null,
            "padding": null,
            "right": null,
            "top": null,
            "visibility": null,
            "width": null
          }
        },
        "b4e42cf5ece7451a9165a5fba9319f62": {
          "model_module": "@jupyter-widgets/controls",
          "model_name": "DescriptionStyleModel",
          "model_module_version": "1.5.0",
          "state": {
            "_model_module": "@jupyter-widgets/controls",
            "_model_module_version": "1.5.0",
            "_model_name": "DescriptionStyleModel",
            "_view_count": null,
            "_view_module": "@jupyter-widgets/base",
            "_view_module_version": "1.2.0",
            "_view_name": "StyleView",
            "description_width": ""
          }
        }
      }
    },
    "accelerator": "GPU"
  },
  "cells": [
    {
      "cell_type": "markdown",
      "source": [
        "## Libraries"
      ],
      "metadata": {
        "id": "6C-AKq44bSij"
      }
    },
    {
      "cell_type": "code",
      "execution_count": null,
      "metadata": {
        "colab": {
          "base_uri": "https://localhost:8080/"
        },
        "id": "EFczwcZNMvRa",
        "outputId": "eb32f63e-7a2e-44b6-b048-82d8c44ec2f3"
      },
      "outputs": [
        {
          "output_type": "stream",
          "name": "stdout",
          "text": [
            "Collecting emoji\n",
            "  Downloading emoji-2.14.1-py3-none-any.whl.metadata (5.7 kB)\n",
            "Downloading emoji-2.14.1-py3-none-any.whl (590 kB)\n",
            "\u001b[2K   \u001b[90m━━━━━━━━━━━━━━━━━━━━━━━━━━━━━━━━━━━━━━━━\u001b[0m \u001b[32m590.6/590.6 kB\u001b[0m \u001b[31m11.5 MB/s\u001b[0m eta \u001b[36m0:00:00\u001b[0m\n",
            "\u001b[?25hInstalling collected packages: emoji\n",
            "Successfully installed emoji-2.14.1\n"
          ]
        }
      ],
      "source": [
        "!pip install emoji"
      ]
    },
    {
      "cell_type": "code",
      "source": [
        "import re\n",
        "import string\n",
        "import pandas as pd\n",
        "import numpy as np\n",
        "import matplotlib.pyplot as plt\n",
        "import seaborn as sns\n",
        "import emoji\n",
        "import torch\n",
        "import time\n",
        "from torch.utils.data import Dataset\n",
        "from sklearn.model_selection import train_test_split\n",
        "from sklearn.preprocessing import LabelEncoder\n",
        "from sklearn.metrics import accuracy_score, classification_report, confusion_matrix, ConfusionMatrixDisplay\n",
        "from datasets import Dataset\n",
        "\n",
        "\n",
        "from transformers import (\n",
        "    AutoTokenizer,\n",
        "    AutoModelForSequenceClassification,\n",
        "    Trainer,\n",
        "    TrainingArguments,\n",
        "    DataCollatorWithPadding,\n",
        "    XLMRobertaTokenizer,\n",
        "    EarlyStoppingCallback,\n",
        "    TrainerCallback\n",
        ")"
      ],
      "metadata": {
        "id": "iK9OoXVDNAfh"
      },
      "execution_count": null,
      "outputs": []
    },
    {
      "cell_type": "markdown",
      "source": [
        "## Load Dataset"
      ],
      "metadata": {
        "id": "_6hJWy3lYbIk"
      }
    },
    {
      "cell_type": "code",
      "source": [
        "# Path each dataset\n",
        "dataset_path = \"/content/Indonesia_9008.csv\"\n",
        "singkatan_dict_path = \"/content/new_kamusalay.csv\"\n",
        "emoji_dict_path = \"/content/emoji_to_text.csv\"\n",
        "\n",
        "# Load dataset utama\n",
        "df = pd.read_csv(dataset_path)\n",
        "\n",
        " # Load kamus alay\n",
        "kamus_alay = pd.read_csv('/content/new_kamusalay.csv', sep=',', header=None, names=['alay', 'full'], encoding='ISO-8859-1')\n",
        "kamus_alay_dict = dict(zip(kamus_alay['alay'], kamus_alay['full']))\n",
        "\n",
        "# Load kamus emoji\n",
        "emoji_df = pd.read_csv(emoji_dict_path)\n",
        "emoji_dict = dict(zip(emoji_df['emoji'], emoji_df['makna']))\n",
        "\n",
        "# Cek info dataset Indonesia\n",
        "df.info()"
      ],
      "metadata": {
        "colab": {
          "base_uri": "https://localhost:8080/"
        },
        "id": "iu8ZhV4zNDC0",
        "outputId": "dfb4e2b4-0843-45df-941a-a71bbf3cceae"
      },
      "execution_count": null,
      "outputs": [
        {
          "output_type": "stream",
          "name": "stdout",
          "text": [
            "<class 'pandas.core.frame.DataFrame'>\n",
            "RangeIndex: 9008 entries, 0 to 9007\n",
            "Data columns (total 2 columns):\n",
            " #   Column  Non-Null Count  Dtype \n",
            "---  ------  --------------  ----- \n",
            " 0   text    9008 non-null   object\n",
            " 1   label   9008 non-null   object\n",
            "dtypes: object(2)\n",
            "memory usage: 140.9+ KB\n"
          ]
        }
      ]
    },
    {
      "cell_type": "markdown",
      "source": [
        "# **Data Pre-Processing**"
      ],
      "metadata": {
        "id": "PiVRudwxbVw3"
      }
    },
    {
      "cell_type": "markdown",
      "source": [
        "## 1. Class Distribution"
      ],
      "metadata": {
        "id": "lrEaGzjGMkqE"
      }
    },
    {
      "cell_type": "code",
      "source": [
        "plt.figure(figsize=(8, 5))\n",
        "sns.countplot(x='label', data=df)\n",
        "plt.title('Distribusi Label Emosi')\n",
        "plt.xlabel('Label Emosi')\n",
        "plt.ylabel('Jumlah')\n",
        "plt.show()"
      ],
      "metadata": {
        "colab": {
          "base_uri": "https://localhost:8080/"
        },
        "id": "mvcV5aA-MnzN",
        "outputId": "f7bdf737-1c64-4466-c6a2-83566d87c4db"
      },
      "execution_count": null,
      "outputs": [
        {
          "output_type": "display_data",
          "data": {
            "text/plain": [
              "<Figure size 800x500 with 1 Axes>"
            ],
            "image/png": "[encoded data removed]"
          },
          "metadata": {}
        }
      ]
    },
    {
      "cell_type": "markdown",
      "source": [
        "## 2. Text Cleaning"
      ],
      "metadata": {
        "id": "E5k3IxCJK5pQ"
      }
    },
    {
      "cell_type": "code",
      "source": [
        "#Text Normalization\n",
        "def normalize_text(text, kamus_alay_dict):\n",
        "    words = text.split()\n",
        "    normalized = [kamus_alay_dict.get(word.lower(), word) for word in words]\n",
        "    return ' '.join(normalized)\n",
        "\n",
        "#Noise Character Removal\n",
        "def clean_text(text):\n",
        "    text = re.sub(r'#(\\w+)', r' \\1 ', text)\n",
        "    text = re.sub(r'@[\\w_]+', '', text)\n",
        "    text = re.sub(r'\\[.*?\\]', '', text)\n",
        "    text = re.sub(r'http\\S+', '', text)\n",
        "    text = re.sub(r'www\\S+', '', text)\n",
        "\n",
        "    #Remove Emoji\n",
        "    text = re.sub(r'ðŸ[^ ]*', '', text)\n",
        "    text = emoji.replace_emoji(text, replace='')\n",
        "\n",
        "    text = re.sub(r'[-/]', ' ', text)\n",
        "    text = re.sub(r'\\b\\w*\\d\\w*\\b', '', text)\n",
        "    text = re.sub(r'\\.{3,}', 'elipsis', text)\n",
        "    allowed_punct = '!?'\n",
        "    text = ''.join(char for char in text if char.isalpha() or char.isspace() or char in allowed_punct or char == 'elipsis')\n",
        "\n",
        "    # Rapikan spasi\n",
        "    text = re.sub(r'\\s+', ' ', text).strip()\n",
        "    text = text.replace('elipsis', '...')  # kembalikan elipsis\n",
        "    return text\n",
        "\n",
        "# Case Folding\n",
        "def to_lowercase(text):\n",
        "    return text.lower()\n",
        "\n",
        "def preprocess_text(text, kamus_alay_dict):\n",
        "    text = str(text)\n",
        "    text = normalize_text(text, kamus_alay_dict)\n",
        "    text = clean_text(text)\n",
        "    text = text.lower()\n",
        "    return text\n"
      ],
      "metadata": {
        "id": "yQ7n3Qoucuh_"
      },
      "execution_count": null,
      "outputs": []
    },
    {
      "cell_type": "code",
      "source": [
        "# Backup kolom asli\n",
        "df['text_original'] = df['text']\n",
        "\n",
        "# Tahap per tahap\n",
        "df['text_normalized'] = df['text_original'].apply(lambda x: normalize_text(x, kamus_alay_dict))\n",
        "df['text_cleaned'] = df['text_normalized'].apply(clean_text)\n",
        "df['text_lowercase'] = df['text_cleaned'].apply(to_lowercase)\n",
        "\n",
        "# Gabungkan semua sebagai hasil akhir\n",
        "df['text_clean'] = df['text_lowercase']"
      ],
      "metadata": {
        "id": "02FlZCbvRWM6"
      },
      "execution_count": null,
      "outputs": []
    },
    {
      "cell_type": "code",
      "source": [
        "df[['label', 'text_original', 'text_normalized', 'text_cleaned', 'text_lowercase', 'text_clean']].head(100)"
      ],
      "metadata": {
        "colab": {
          "base_uri": "https://localhost:8080/",
          "height": 753
        },
        "id": "LDU5vUqyRaUn",
        "outputId": "2982baee-065f-44c1-e56e-f2f594572bc5",
        "collapsed": true
      },
      "execution_count": null,
      "outputs": [
        {
          "output_type": "execute_result",
          "data": {
            "text/plain": [
              "      label                                      text_original  \\\n",
              "0   sadness  Jaringan yang terus memburuk membuat hari-hari...   \n",
              "1       joy  @kudila_ wah keren banget Telkomsel Awards 202...   \n",
              "2   sadness  @Telkomsel Paket 4G Ceria saya tolong jangan d...   \n",
              "3     anger  Pas banget dari dulu Telkomsel selalu mengecew...   \n",
              "4      fear  Gangguan yang sering terjadi di Indosat membua...   \n",
              "..      ...                                                ...   \n",
              "95      joy  @xodiac_id @Telkomsel Mantap @XODIACOfficial ð...   \n",
              "96     fear  Telkomsel meluncurkan layanan baru, jadi saya ...   \n",
              "97    anger  @Telkomsel Sinyal jelek parah dari kemarin sam...   \n",
              "98  sadness  @Telkomsel Saya beli paket yang harusnya aktif...   \n",
              "99  sadness  @Telkomsel Berlangganan cuma 7 hari, rugi dong...   \n",
              "\n",
              "                                      text_normalized  \\\n",
              "0   Jaringan yang terus memburuk membuat hari-hari...   \n",
              "1   @kudila_ wah keren banget Telkomsel Awards 202...   \n",
              "2   @Telkomsel Paket 4G Ceria saya tolong jangan d...   \n",
              "3   Pas banget dari dulu Telkomsel selalu mengecew...   \n",
              "4   Gangguan yang sering terjadi di Indosat membua...   \n",
              "..                                                ...   \n",
              "95  @xodiac_id @Telkomsel Mantap @XODIACOfficial ð...   \n",
              "96  Telkomsel meluncurkan layanan baru, jadi saya ...   \n",
              "97  @Telkomsel Sinyal jelek parah dari kemarin sam...   \n",
              "98  @Telkomsel Saya beli paket yang harusnya aktif...   \n",
              "99  @Telkomsel Berlangganan cuma 7 hari, rugi dong...   \n",
              "\n",
              "                                         text_cleaned  \\\n",
              "0   Jaringan yang terus memburuk membuat hari hari...   \n",
              "1   wah keren banget Telkomsel Awards ada zayyan j...   \n",
              "2   Paket Ceria saya tolong jangan dihilangkan Itu...   \n",
              "3   Pas banget dari dulu Telkomsel selalu mengecew...   \n",
              "4   Gangguan yang sering terjadi di Indosat membua...   \n",
              "..                                                ...   \n",
              "95  Mantap Zayyan pulang kampung... kayak Dita di ...   \n",
              "96  Telkomsel meluncurkan layanan baru jadi saya a...   \n",
              "97  Sinyal jelek parah dari kemarin sampai sekaran...   \n",
              "98  Saya beli paket yang harusnya aktif sampai Agu...   \n",
              "99  Berlangganan cuma hari rugi dong Kecewa banget...   \n",
              "\n",
              "                                       text_lowercase  \\\n",
              "0   jaringan yang terus memburuk membuat hari hari...   \n",
              "1   wah keren banget telkomsel awards ada zayyan j...   \n",
              "2   paket ceria saya tolong jangan dihilangkan itu...   \n",
              "3   pas banget dari dulu telkomsel selalu mengecew...   \n",
              "4   gangguan yang sering terjadi di indosat membua...   \n",
              "..                                                ...   \n",
              "95  mantap zayyan pulang kampung... kayak dita di ...   \n",
              "96  telkomsel meluncurkan layanan baru jadi saya a...   \n",
              "97  sinyal jelek parah dari kemarin sampai sekaran...   \n",
              "98  saya beli paket yang harusnya aktif sampai agu...   \n",
              "99  berlangganan cuma hari rugi dong kecewa banget...   \n",
              "\n",
              "                                           text_clean  \n",
              "0   jaringan yang terus memburuk membuat hari hari...  \n",
              "1   wah keren banget telkomsel awards ada zayyan j...  \n",
              "2   paket ceria saya tolong jangan dihilangkan itu...  \n",
              "3   pas banget dari dulu telkomsel selalu mengecew...  \n",
              "4   gangguan yang sering terjadi di indosat membua...  \n",
              "..                                                ...  \n",
              "95  mantap zayyan pulang kampung... kayak dita di ...  \n",
              "96  telkomsel meluncurkan layanan baru jadi saya a...  \n",
              "97  sinyal jelek parah dari kemarin sampai sekaran...  \n",
              "98  saya beli paket yang harusnya aktif sampai agu...  \n",
              "99  berlangganan cuma hari rugi dong kecewa banget...  \n",
              "\n",
              "[100 rows x 6 columns]"
            ],
            "text/html": [
              "\n",
              "  <div id=\"df-742d247d-4bdc-42bc-b540-3eb4b655aaeb\" class=\"colab-df-container\">\n",
              "    <div>\n",
              "<style scoped>\n",
              "    .dataframe tbody tr th:only-of-type {\n",
              "        vertical-align: middle;\n",
              "    }\n",
              "\n",
              "    .dataframe tbody tr th {\n",
              "        vertical-align: top;\n",
              "    }\n",
              "\n",
              "    .dataframe thead th {\n",
              "        text-align: right;\n",
              "    }\n",
              "</style>\n",
              "<table border=\"1\" class=\"dataframe\">\n",
              "  <thead>\n",
              "    <tr style=\"text-align: right;\">\n",
              "      <th></th>\n",
              "      <th>label</th>\n",
              "      <th>text_original</th>\n",
              "      <th>text_normalized</th>\n",
              "      <th>text_cleaned</th>\n",
              "      <th>text_lowercase</th>\n",
              "      <th>text_clean</th>\n",
              "    </tr>\n",
              "  </thead>\n",
              "  <tbody>\n",
              "    <tr>\n",
              "      <th>0</th>\n",
              "      <td>sadness</td>\n",
              "      <td>Jaringan yang terus memburuk membuat hari-hari...</td>\n",
              "      <td>Jaringan yang terus memburuk membuat hari-hari...</td>\n",
              "      <td>Jaringan yang terus memburuk membuat hari hari...</td>\n",
              "      <td>jaringan yang terus memburuk membuat hari hari...</td>\n",
              "      <td>jaringan yang terus memburuk membuat hari hari...</td>\n",
              "    </tr>\n",
              "    <tr>\n",
              "      <th>1</th>\n",
              "      <td>joy</td>\n",
              "      <td>@kudila_ wah keren banget Telkomsel Awards 202...</td>\n",
              "      <td>@kudila_ wah keren banget Telkomsel Awards 202...</td>\n",
              "      <td>wah keren banget Telkomsel Awards ada zayyan j...</td>\n",
              "      <td>wah keren banget telkomsel awards ada zayyan j...</td>\n",
              "      <td>wah keren banget telkomsel awards ada zayyan j...</td>\n",
              "    </tr>\n",
              "    <tr>\n",
              "      <th>2</th>\n",
              "      <td>sadness</td>\n",
              "      <td>@Telkomsel Paket 4G Ceria saya tolong jangan d...</td>\n",
              "      <td>@Telkomsel Paket 4G Ceria saya tolong jangan d...</td>\n",
              "      <td>Paket Ceria saya tolong jangan dihilangkan Itu...</td>\n",
              "      <td>paket ceria saya tolong jangan dihilangkan itu...</td>\n",
              "      <td>paket ceria saya tolong jangan dihilangkan itu...</td>\n",
              "    </tr>\n",
              "    <tr>\n",
              "      <th>3</th>\n",
              "      <td>anger</td>\n",
              "      <td>Pas banget dari dulu Telkomsel selalu mengecew...</td>\n",
              "      <td>Pas banget dari dulu Telkomsel selalu mengecew...</td>\n",
              "      <td>Pas banget dari dulu Telkomsel selalu mengecew...</td>\n",
              "      <td>pas banget dari dulu telkomsel selalu mengecew...</td>\n",
              "      <td>pas banget dari dulu telkomsel selalu mengecew...</td>\n",
              "    </tr>\n",
              "    <tr>\n",
              "      <th>4</th>\n",
              "      <td>fear</td>\n",
              "      <td>Gangguan yang sering terjadi di Indosat membua...</td>\n",
              "      <td>Gangguan yang sering terjadi di Indosat membua...</td>\n",
              "      <td>Gangguan yang sering terjadi di Indosat membua...</td>\n",
              "      <td>gangguan yang sering terjadi di indosat membua...</td>\n",
              "      <td>gangguan yang sering terjadi di indosat membua...</td>\n",
              "    </tr>\n",
              "    <tr>\n",
              "      <th>...</th>\n",
              "      <td>...</td>\n",
              "      <td>...</td>\n",
              "      <td>...</td>\n",
              "      <td>...</td>\n",
              "      <td>...</td>\n",
              "      <td>...</td>\n",
              "    </tr>\n",
              "    <tr>\n",
              "      <th>95</th>\n",
              "      <td>joy</td>\n",
              "      <td>@xodiac_id @Telkomsel Mantap @XODIACOfficial ð...</td>\n",
              "      <td>@xodiac_id @Telkomsel Mantap @XODIACOfficial ð...</td>\n",
              "      <td>Mantap Zayyan pulang kampung... kayak Dita di ...</td>\n",
              "      <td>mantap zayyan pulang kampung... kayak dita di ...</td>\n",
              "      <td>mantap zayyan pulang kampung... kayak dita di ...</td>\n",
              "    </tr>\n",
              "    <tr>\n",
              "      <th>96</th>\n",
              "      <td>fear</td>\n",
              "      <td>Telkomsel meluncurkan layanan baru, jadi saya ...</td>\n",
              "      <td>Telkomsel meluncurkan layanan baru, jadi saya ...</td>\n",
              "      <td>Telkomsel meluncurkan layanan baru jadi saya a...</td>\n",
              "      <td>telkomsel meluncurkan layanan baru jadi saya a...</td>\n",
              "      <td>telkomsel meluncurkan layanan baru jadi saya a...</td>\n",
              "    </tr>\n",
              "    <tr>\n",
              "      <th>97</th>\n",
              "      <td>anger</td>\n",
              "      <td>@Telkomsel Sinyal jelek parah dari kemarin sam...</td>\n",
              "      <td>@Telkomsel Sinyal jelek parah dari kemarin sam...</td>\n",
              "      <td>Sinyal jelek parah dari kemarin sampai sekaran...</td>\n",
              "      <td>sinyal jelek parah dari kemarin sampai sekaran...</td>\n",
              "      <td>sinyal jelek parah dari kemarin sampai sekaran...</td>\n",
              "    </tr>\n",
              "    <tr>\n",
              "      <th>98</th>\n",
              "      <td>sadness</td>\n",
              "      <td>@Telkomsel Saya beli paket yang harusnya aktif...</td>\n",
              "      <td>@Telkomsel Saya beli paket yang harusnya aktif...</td>\n",
              "      <td>Saya beli paket yang harusnya aktif sampai Agu...</td>\n",
              "      <td>saya beli paket yang harusnya aktif sampai agu...</td>\n",
              "      <td>saya beli paket yang harusnya aktif sampai agu...</td>\n",
              "    </tr>\n",
              "    <tr>\n",
              "      <th>99</th>\n",
              "      <td>sadness</td>\n",
              "      <td>@Telkomsel Berlangganan cuma 7 hari, rugi dong...</td>\n",
              "      <td>@Telkomsel Berlangganan cuma 7 hari, rugi dong...</td>\n",
              "      <td>Berlangganan cuma hari rugi dong Kecewa banget...</td>\n",
              "      <td>berlangganan cuma hari rugi dong kecewa banget...</td>\n",
              "      <td>berlangganan cuma hari rugi dong kecewa banget...</td>\n",
              "    </tr>\n",
              "  </tbody>\n",
              "</table>\n",
              "<p>100 rows × 6 columns</p>\n",
              "</div>\n",
              "    <div class=\"colab-df-buttons\">\n",
              "\n",
              "  <div class=\"colab-df-container\">\n",
              "    <button class=\"colab-df-convert\" onclick=\"convertToInteractive('df-742d247d-4bdc-42bc-b540-3eb4b655aaeb')\"\n",
              "            title=\"Convert this dataframe to an interactive table.\"\n",
              "            style=\"display:none;\">\n",
              "\n",
              "  <svg xmlns=\"http://www.w3.org/2000/svg\" height=\"24px\" viewBox=\"0 -960 960 960\">\n",
              "    <path d=\"M120-120v-720h720v720H120Zm60-500h600v-160H180v160Zm220 220h160v-160H400v160Zm0 220h160v-160H400v160ZM180-400h160v-160H180v160Zm440 0h160v-160H620v160ZM180-180h160v-160H180v160Zm440 0h160v-160H620v160Z\"/>\n",
              "  </svg>\n",
              "    </button>\n",
              "\n",
              "  <style>\n",
              "    .colab-df-container {\n",
              "      display:flex;\n",
              "      gap: 12px;\n",
              "    }\n",
              "\n",
              "    .colab-df-convert {\n",
              "      background-color: #E8F0FE;\n",
              "      border: none;\n",
              "      border-radius: 50%;\n",
              "      cursor: pointer;\n",
              "      display: none;\n",
              "      fill: #1967D2;\n",
              "      height: 32px;\n",
              "      padding: 0 0 0 0;\n",
              "      width: 32px;\n",
              "    }\n",
              "\n",
              "    .colab-df-convert:hover {\n",
              "      background-color: #E2EBFA;\n",
              "      box-shadow: 0px 1px 2px rgba(60, 64, 67, 0.3), 0px 1px 3px 1px rgba(60, 64, 67, 0.15);\n",
              "      fill: #174EA6;\n",
              "    }\n",
              "\n",
              "    .colab-df-buttons div {\n",
              "      margin-bottom: 4px;\n",
              "    }\n",
              "\n",
              "    [theme=dark] .colab-df-convert {\n",
              "      background-color: #3B4455;\n",
              "      fill: #D2E3FC;\n",
              "    }\n",
              "\n",
              "    [theme=dark] .colab-df-convert:hover {\n",
              "      background-color: #434B5C;\n",
              "      box-shadow: 0px 1px 3px 1px rgba(0, 0, 0, 0.15);\n",
              "      filter: drop-shadow(0px 1px 2px rgba(0, 0, 0, 0.3));\n",
              "      fill: #FFFFFF;\n",
              "    }\n",
              "  </style>\n",
              "\n",
              "    <script>\n",
              "      const buttonEl =\n",
              "        document.querySelector('#df-742d247d-4bdc-42bc-b540-3eb4b655aaeb button.colab-df-convert');\n",
              "      buttonEl.style.display =\n",
              "        google.colab.kernel.accessAllowed ? 'block' : 'none';\n",
              "\n",
              "      async function convertToInteractive(key) {\n",
              "        const element = document.querySelector('#df-742d247d-4bdc-42bc-b540-3eb4b655aaeb');\n",
              "        const dataTable =\n",
              "          await google.colab.kernel.invokeFunction('convertToInteractive',\n",
              "                                                    [key], {});\n",
              "        if (!dataTable) return;\n",
              "\n",
              "        const docLinkHtml = 'Like what you see? Visit the ' +\n",
              "          '<a target=\"_blank\" href=https://colab.research.google.com/notebooks/data_table.ipynb>data table notebook</a>'\n",
              "          + ' to learn more about interactive tables.';\n",
              "        element.innerHTML = '';\n",
              "        dataTable['output_type'] = 'display_data';\n",
              "        await google.colab.output.renderOutput(dataTable, element);\n",
              "        const docLink = document.createElement('div');\n",
              "        docLink.innerHTML = docLinkHtml;\n",
              "        element.appendChild(docLink);\n",
              "      }\n",
              "    </script>\n",
              "  </div>\n",
              "\n",
              "\n",
              "    <div id=\"df-10278faa-dc6b-460d-8517-d0331fac7b68\">\n",
              "      <button class=\"colab-df-quickchart\" onclick=\"quickchart('df-10278faa-dc6b-460d-8517-d0331fac7b68')\"\n",
              "                title=\"Suggest charts\"\n",
              "                style=\"display:none;\">\n",
              "\n",
              "<svg xmlns=\"http://www.w3.org/2000/svg\" height=\"24px\"viewBox=\"0 0 24 24\"\n",
              "     width=\"24px\">\n",
              "    <g>\n",
              "        <path d=\"M19 3H5c-1.1 0-2 .9-2 2v14c0 1.1.9 2 2 2h14c1.1 0 2-.9 2-2V5c0-1.1-.9-2-2-2zM9 17H7v-7h2v7zm4 0h-2V7h2v10zm4 0h-2v-4h2v4z\"/>\n",
              "    </g>\n",
              "</svg>\n",
              "      </button>\n",
              "\n",
              "<style>\n",
              "  .colab-df-quickchart {\n",
              "      --bg-color: #E8F0FE;\n",
              "      --fill-color: #1967D2;\n",
              "      --hover-bg-color: #E2EBFA;\n",
              "      --hover-fill-color: #174EA6;\n",
              "      --disabled-fill-color: #AAA;\n",
              "      --disabled-bg-color: #DDD;\n",
              "  }\n",
              "\n",
              "  [theme=dark] .colab-df-quickchart {\n",
              "      --bg-color: #3B4455;\n",
              "      --fill-color: #D2E3FC;\n",
              "      --hover-bg-color: #434B5C;\n",
              "      --hover-fill-color: #FFFFFF;\n",
              "      --disabled-bg-color: #3B4455;\n",
              "      --disabled-fill-color: #666;\n",
              "  }\n",
              "\n",
              "  .colab-df-quickchart {\n",
              "    background-color: var(--bg-color);\n",
              "    border: none;\n",
              "    border-radius: 50%;\n",
              "    cursor: pointer;\n",
              "    display: none;\n",
              "    fill: var(--fill-color);\n",
              "    height: 32px;\n",
              "    padding: 0;\n",
              "    width: 32px;\n",
              "  }\n",
              "\n",
              "  .colab-df-quickchart:hover {\n",
              "    background-color: var(--hover-bg-color);\n",
              "    box-shadow: 0 1px 2px rgba(60, 64, 67, 0.3), 0 1px 3px 1px rgba(60, 64, 67, 0.15);\n",
              "    fill: var(--button-hover-fill-color);\n",
              "  }\n",
              "\n",
              "  .colab-df-quickchart-complete:disabled,\n",
              "  .colab-df-quickchart-complete:disabled:hover {\n",
              "    background-color: var(--disabled-bg-color);\n",
              "    fill: var(--disabled-fill-color);\n",
              "    box-shadow: none;\n",
              "  }\n",
              "\n",
              "  .colab-df-spinner {\n",
              "    border: 2px solid var(--fill-color);\n",
              "    border-color: transparent;\n",
              "    border-bottom-color: var(--fill-color);\n",
              "    animation:\n",
              "      spin 1s steps(1) infinite;\n",
              "  }\n",
              "\n",
              "  @keyframes spin {\n",
              "    0% {\n",
              "      border-color: transparent;\n",
              "      border-bottom-color: var(--fill-color);\n",
              "      border-left-color: var(--fill-color);\n",
              "    }\n",
              "    20% {\n",
              "      border-color: transparent;\n",
              "      border-left-color: var(--fill-color);\n",
              "      border-top-color: var(--fill-color);\n",
              "    }\n",
              "    30% {\n",
              "      border-color: transparent;\n",
              "      border-left-color: var(--fill-color);\n",
              "      border-top-color: var(--fill-color);\n",
              "      border-right-color: var(--fill-color);\n",
              "    }\n",
              "    40% {\n",
              "      border-color: transparent;\n",
              "      border-right-color: var(--fill-color);\n",
              "      border-top-color: var(--fill-color);\n",
              "    }\n",
              "    60% {\n",
              "      border-color: transparent;\n",
              "      border-right-color: var(--fill-color);\n",
              "    }\n",
              "    80% {\n",
              "      border-color: transparent;\n",
              "      border-right-color: var(--fill-color);\n",
              "      border-bottom-color: var(--fill-color);\n",
              "    }\n",
              "    90% {\n",
              "      border-color: transparent;\n",
              "      border-bottom-color: var(--fill-color);\n",
              "    }\n",
              "  }\n",
              "</style>\n",
              "\n",
              "      <script>\n",
              "        async function quickchart(key) {\n",
              "          const quickchartButtonEl =\n",
              "            document.querySelector('#' + key + ' button');\n",
              "          quickchartButtonEl.disabled = true;  // To prevent multiple clicks.\n",
              "          quickchartButtonEl.classList.add('colab-df-spinner');\n",
              "          try {\n",
              "            const charts = await google.colab.kernel.invokeFunction(\n",
              "                'suggestCharts', [key], {});\n",
              "          } catch (error) {\n",
              "            console.error('Error during call to suggestCharts:', error);\n",
              "          }\n",
              "          quickchartButtonEl.classList.remove('colab-df-spinner');\n",
              "          quickchartButtonEl.classList.add('colab-df-quickchart-complete');\n",
              "        }\n",
              "        (() => {\n",
              "          let quickchartButtonEl =\n",
              "            document.querySelector('#df-10278faa-dc6b-460d-8517-d0331fac7b68 button');\n",
              "          quickchartButtonEl.style.display =\n",
              "            google.colab.kernel.accessAllowed ? 'block' : 'none';\n",
              "        })();\n",
              "      </script>\n",
              "    </div>\n",
              "\n",
              "    </div>\n",
              "  </div>\n"
            ],
            "application/vnd.google.colaboratory.intrinsic+json": {
              "type": "dataframe",
              "summary": "{\n  \"name\": \"df[['label', 'text_original', 'text_normalized', 'text_cleaned', 'text_lowercase', 'text_clean']]\",\n  \"rows\": 100,\n  \"fields\": [\n    {\n      \"column\": \"label\",\n      \"properties\": {\n        \"dtype\": \"category\",\n        \"num_unique_values\": 4,\n        \"samples\": [\n          \"joy\",\n          \"fear\",\n          \"sadness\"\n        ],\n        \"semantic_type\": \"\",\n        \"description\": \"\"\n      }\n    },\n    {\n      \"column\": \"text_original\",\n      \"properties\": {\n        \"dtype\": \"string\",\n        \"num_unique_values\": 100,\n        \"samples\": [\n          \"@myXLCare, XL kontol babi anjing setan bangsat! Jaringan lemot terus, gue nyesel pake XL! Kalah jauh sama Telkomsel yang jarang banget lemot. XL bener-bener babi, sering banget bikin emosi!\",\n          \"Tinggal di Papua Barat, harga paket mahal banget, tapi jaringan @Telkomsel kualitasnya parah. Yuk dong @myXL, @triindonesia, atau @IndosatCare bikin jaringan di Bintuni, biar Telkomsel tahu diri!\",\n          \"Sinyal Telkomsel busuk banget. Beneran nggak bisa diandalkan sama sekali!\"\n        ],\n        \"semantic_type\": \"\",\n        \"description\": \"\"\n      }\n    },\n    {\n      \"column\": \"text_normalized\",\n      \"properties\": {\n        \"dtype\": \"string\",\n        \"num_unique_values\": 100,\n        \"samples\": [\n          \"@myXLCare, XL kontol babi anjing setan bangsat! Jaringan lemot terus, gue menyesal pakai XL! Kalah jauh sama Telkomsel yang jarang banget lemot. XL bener-bener babi, sering banget bikin emosi!\",\n          \"Tinggal di Papua Barat, harga paket mahal banget, tapi jaringan @Telkomsel kualitasnya parah. Yuk dong @myXL, @triindonesia, atau @IndosatCare bikin jaringan di Bintuni, biar Telkomsel tahu diri!\",\n          \"Sinyal Telkomsel busuk banget. benaran enggak bisa diandalkan sama sekali!\"\n        ],\n        \"semantic_type\": \"\",\n        \"description\": \"\"\n      }\n    },\n    {\n      \"column\": \"text_cleaned\",\n      \"properties\": {\n        \"dtype\": \"string\",\n        \"num_unique_values\": 100,\n        \"samples\": [\n          \"XL kontol babi anjing setan bangsat! Jaringan lemot terus gue menyesal pakai XL! Kalah jauh sama Telkomsel yang jarang banget lemot XL bener bener babi sering banget bikin emosi!\",\n          \"Tinggal di Papua Barat harga paket mahal banget tapi jaringan kualitasnya parah Yuk dong atau bikin jaringan di Bintuni biar Telkomsel tahu diri!\",\n          \"Sinyal Telkomsel busuk banget benaran enggak bisa diandalkan sama sekali!\"\n        ],\n        \"semantic_type\": \"\",\n        \"description\": \"\"\n      }\n    },\n    {\n      \"column\": \"text_lowercase\",\n      \"properties\": {\n        \"dtype\": \"string\",\n        \"num_unique_values\": 100,\n        \"samples\": [\n          \"xl kontol babi anjing setan bangsat! jaringan lemot terus gue menyesal pakai xl! kalah jauh sama telkomsel yang jarang banget lemot xl bener bener babi sering banget bikin emosi!\",\n          \"tinggal di papua barat harga paket mahal banget tapi jaringan kualitasnya parah yuk dong atau bikin jaringan di bintuni biar telkomsel tahu diri!\",\n          \"sinyal telkomsel busuk banget benaran enggak bisa diandalkan sama sekali!\"\n        ],\n        \"semantic_type\": \"\",\n        \"description\": \"\"\n      }\n    },\n    {\n      \"column\": \"text_clean\",\n      \"properties\": {\n        \"dtype\": \"string\",\n        \"num_unique_values\": 100,\n        \"samples\": [\n          \"xl kontol babi anjing setan bangsat! jaringan lemot terus gue menyesal pakai xl! kalah jauh sama telkomsel yang jarang banget lemot xl bener bener babi sering banget bikin emosi!\",\n          \"tinggal di papua barat harga paket mahal banget tapi jaringan kualitasnya parah yuk dong atau bikin jaringan di bintuni biar telkomsel tahu diri!\",\n          \"sinyal telkomsel busuk banget benaran enggak bisa diandalkan sama sekali!\"\n        ],\n        \"semantic_type\": \"\",\n        \"description\": \"\"\n      }\n    }\n  ]\n}"
            }
          },
          "metadata": {},
          "execution_count": 7
        }
      ]
    },
    {
      "cell_type": "markdown",
      "source": [
        "## 3. Label Encoding"
      ],
      "metadata": {
        "id": "khQfFPfZVfEt"
      }
    },
    {
      "cell_type": "code",
      "source": [
        "emotion_dict = {'anger': 0, 'joy': 1, 'fear': 2, 'sadness': 3}\n",
        "df['label'] = df['label'].apply(lambda x: emotion_dict[x])"
      ],
      "metadata": {
        "id": "J7OxXa82Vg2u"
      },
      "execution_count": null,
      "outputs": []
    },
    {
      "cell_type": "markdown",
      "source": [
        "## 4. Tokenizing"
      ],
      "metadata": {
        "id": "tt5MwGw0MJtn"
      }
    },
    {
      "cell_type": "code",
      "source": [
        "tokenizer = AutoTokenizer.from_pretrained(\"xlm-roberta-base\")\n",
        "\n",
        "tokenized = tokenizer(df['text_clean'].tolist(), truncation=True, padding='max_length', max_length=128)\n",
        "df['input_ids'] = tokenized['input_ids']\n",
        "df['attention_mask'] = tokenized['attention_mask']"
      ],
      "metadata": {
        "id": "ejYTyHZdP1Sy",
        "colab": {
          "base_uri": "https://localhost:8080/",
          "height": 276,
          "referenced_widgets": [
            "1bb5be22f0a74987a022fb769e8fd037",
            "f95d6f170e464edbb56fe93d194db8a4",
            "31d055aea6844bb7996c79d9814eabd3",
            "3edf03a8892d40a1ae8acf8b4dc650a1",
            "e5635ad6a559468f94729d98a5f5c955",
            "6a7adf28a43c48d1a83adb40c55edb26",
            "ca9871b4f3c74634960b3256a5310a5a",
            "acf634c68e074d82acbd518abc1bbeda",
            "bb47b38a4fd4452b8c7c547e7f52f96a",
            "7ce178dc2e5748859b0c656f6dba07ab",
            "9e9df63bf9794c50b7df83e4a35a076e",
            "c1448c9ad1864ebcae88c257e876e724",
            "3e54c17da44841c89d17785fc91dabc9",
            "6819869c81974e6cb5cb5bb37327f5f0",
            "86ed351d31064f27abbeeeeb7b34a44d",
            "79f43abb44204207b25fe3dcd41799b0",
            "adb564de5c5f4fec8da26fb7028cd480",
            "8d8e37f9c47a44e389391a14e824cb46",
            "8452ff14ec904062ab4d408a1f50f23f",
            "eb1238c273444f5e9ab7ecb5b47e572d",
            "56700bb483a64335b0ba5e9c3661540d",
            "76645d79d4fb45a9abd344236582c98f",
            "88b8f195198649fcaf3cc1a3c0d6fe68",
            "77f8dbafb96045e0af6bdc8f715fab4f",
            "3aa2d17345cb4086bd2744fdedcab8bd",
            "15058dfdf5d8416d8be59b25edaa03bc",
            "566fdb625a704903a3a6b5e8bce592b4",
            "a54e94779203434d9d55fcbdef18bc5c",
            "a93f709f70204c1e9a8f027769555ac9",
            "0b649be64f0849c5a6cd5e6c77484059",
            "bd0be13f5e214d0dba23d9b30ae63bc4",
            "9f614aa952024f27975e99e6af94c87e",
            "3d45038dbb3f4fe285811db9d79a159d",
            "011025c3a7da47708bc935b1cbf76eef",
            "4c6e915613c843c28fab606a508df769",
            "c2811042c4f64aadbaf5fb40755839e0",
            "ac608a25b2014423a43ed306d4fa7059",
            "942f943cd35342deadb230eeca4bfc56",
            "150200ffd2b84f97ac541bdcf47ebf6a",
            "770b1eef28ab4c5abd80e43cd586cbe7",
            "12a65da1233644da8700b87ad7f829cf",
            "b2880fa0f3d242168c88136a57952da3",
            "72e25fe3efc04149aa31383eb86cf77f",
            "ee1e0d96b5db446b8e348638fa97b809"
          ]
        },
        "outputId": "fd945181-424a-4816-ef49-9c8522e79e2c"
      },
      "execution_count": null,
      "outputs": [
        {
          "output_type": "stream",
          "name": "stderr",
          "text": [
            "/usr/local/lib/python3.11/dist-packages/huggingface_hub/utils/_auth.py:94: UserWarning: \n",
            "The secret `HF_TOKEN` does not exist in your Colab secrets.\n",
            "To authenticate with the Hugging Face Hub, create a token in your settings tab (https://huggingface.co/settings/tokens), set it as secret in your Google Colab and restart your session.\n",
            "You will be able to reuse this secret in all of your notebooks.\n",
            "Please note that authentication is recommended but still optional to access public models or datasets.\n",
            "  warnings.warn(\n"
          ]
        },
        {
          "output_type": "display_data",
          "data": {
            "text/plain": [
              "tokenizer_config.json:   0%|          | 0.00/25.0 [00:00<?, ?B/s]"
            ],
            "application/vnd.jupyter.widget-view+json": {
              "version_major": 2,
              "version_minor": 0,
              "model_id": "1bb5be22f0a74987a022fb769e8fd037"
            }
          },
          "metadata": {}
        },
        {
          "output_type": "display_data",
          "data": {
            "text/plain": [
              "config.json:   0%|          | 0.00/615 [00:00<?, ?B/s]"
            ],
            "application/vnd.jupyter.widget-view+json": {
              "version_major": 2,
              "version_minor": 0,
              "model_id": "c1448c9ad1864ebcae88c257e876e724"
            }
          },
          "metadata": {}
        },
        {
          "output_type": "display_data",
          "data": {
            "text/plain": [
              "sentencepiece.bpe.model:   0%|          | 0.00/5.07M [00:00<?, ?B/s]"
            ],
            "application/vnd.jupyter.widget-view+json": {
              "version_major": 2,
              "version_minor": 0,
              "model_id": "88b8f195198649fcaf3cc1a3c0d6fe68"
            }
          },
          "metadata": {}
        },
        {
          "output_type": "display_data",
          "data": {
            "text/plain": [
              "tokenizer.json:   0%|          | 0.00/9.10M [00:00<?, ?B/s]"
            ],
            "application/vnd.jupyter.widget-view+json": {
              "version_major": 2,
              "version_minor": 0,
              "model_id": "011025c3a7da47708bc935b1cbf76eef"
            }
          },
          "metadata": {}
        }
      ]
    },
    {
      "cell_type": "code",
      "source": [
        "# Output Tokenizer\n",
        "sample_text = df['text_clean'].iloc[0]\n",
        "encoded_sample = tokenizer(sample_text, truncation=True, padding=\"max_length\", max_length=128)\n",
        "\n",
        "print(\"Original Clean Text:\")\n",
        "print(sample_text)\n",
        "\n",
        "print(\"\\nInput IDs:\")\n",
        "print(encoded_sample['input_ids'])\n",
        "\n",
        "print(\"\\nTokens:\")\n",
        "print(tokenizer.convert_ids_to_tokens(encoded_sample['input_ids']))\n",
        "\n",
        "print(\"\\nAttention Mask:\")\n",
        "print(encoded_sample['attention_mask'])"
      ],
      "metadata": {
        "colab": {
          "base_uri": "https://localhost:8080/"
        },
        "id": "l3J3uURhP4CQ",
        "outputId": "249d7c98-7ee4-4ba4-db86-58bf9a44cffe"
      },
      "execution_count": null,
      "outputs": [
        {
          "output_type": "stream",
          "name": "stdout",
          "text": [
            "Original Clean Text:\n",
            "jaringan yang terus memburuk membuat hari hari terasa semakin berat untuk dijalani\n",
            "\n",
            "Input IDs:\n",
            "[0, 55933, 119, 8982, 7199, 165148, 4926, 2651, 2651, 37313, 15465, 26779, 482, 36262, 57887, 2, 1, 1, 1, 1, 1, 1, 1, 1, 1, 1, 1, 1, 1, 1, 1, 1, 1, 1, 1, 1, 1, 1, 1, 1, 1, 1, 1, 1, 1, 1, 1, 1, 1, 1, 1, 1, 1, 1, 1, 1, 1, 1, 1, 1, 1, 1, 1, 1, 1, 1, 1, 1, 1, 1, 1, 1, 1, 1, 1, 1, 1, 1, 1, 1, 1, 1, 1, 1, 1, 1, 1, 1, 1, 1, 1, 1, 1, 1, 1, 1, 1, 1, 1, 1, 1, 1, 1, 1, 1, 1, 1, 1, 1, 1, 1, 1, 1, 1, 1, 1, 1, 1, 1, 1, 1, 1, 1, 1, 1, 1, 1, 1]\n",
            "\n",
            "Tokens:\n",
            "['<s>', '▁jaringan', '▁yang', '▁terus', '▁mem', 'buruk', '▁membuat', '▁hari', '▁hari', '▁terasa', '▁semakin', '▁berat', '▁untuk', '▁dija', 'lani', '</s>', '<pad>', '<pad>', '<pad>', '<pad>', '<pad>', '<pad>', '<pad>', '<pad>', '<pad>', '<pad>', '<pad>', '<pad>', '<pad>', '<pad>', '<pad>', '<pad>', '<pad>', '<pad>', '<pad>', '<pad>', '<pad>', '<pad>', '<pad>', '<pad>', '<pad>', '<pad>', '<pad>', '<pad>', '<pad>', '<pad>', '<pad>', '<pad>', '<pad>', '<pad>', '<pad>', '<pad>', '<pad>', '<pad>', '<pad>', '<pad>', '<pad>', '<pad>', '<pad>', '<pad>', '<pad>', '<pad>', '<pad>', '<pad>', '<pad>', '<pad>', '<pad>', '<pad>', '<pad>', '<pad>', '<pad>', '<pad>', '<pad>', '<pad>', '<pad>', '<pad>', '<pad>', '<pad>', '<pad>', '<pad>', '<pad>', '<pad>', '<pad>', '<pad>', '<pad>', '<pad>', '<pad>', '<pad>', '<pad>', '<pad>', '<pad>', '<pad>', '<pad>', '<pad>', '<pad>', '<pad>', '<pad>', '<pad>', '<pad>', '<pad>', '<pad>', '<pad>', '<pad>', '<pad>', '<pad>', '<pad>', '<pad>', '<pad>', '<pad>', '<pad>', '<pad>', '<pad>', '<pad>', '<pad>', '<pad>', '<pad>', '<pad>', '<pad>', '<pad>', '<pad>', '<pad>', '<pad>', '<pad>', '<pad>', '<pad>', '<pad>', '<pad>', '<pad>']\n",
            "\n",
            "Attention Mask:\n",
            "[1, 1, 1, 1, 1, 1, 1, 1, 1, 1, 1, 1, 1, 1, 1, 1, 0, 0, 0, 0, 0, 0, 0, 0, 0, 0, 0, 0, 0, 0, 0, 0, 0, 0, 0, 0, 0, 0, 0, 0, 0, 0, 0, 0, 0, 0, 0, 0, 0, 0, 0, 0, 0, 0, 0, 0, 0, 0, 0, 0, 0, 0, 0, 0, 0, 0, 0, 0, 0, 0, 0, 0, 0, 0, 0, 0, 0, 0, 0, 0, 0, 0, 0, 0, 0, 0, 0, 0, 0, 0, 0, 0, 0, 0, 0, 0, 0, 0, 0, 0, 0, 0, 0, 0, 0, 0, 0, 0, 0, 0, 0, 0, 0, 0, 0, 0, 0, 0, 0, 0, 0, 0, 0, 0, 0, 0, 0, 0]\n"
          ]
        }
      ]
    },
    {
      "cell_type": "markdown",
      "source": [
        "# Build Model"
      ],
      "metadata": {
        "id": "AlSezDgRNgoR"
      }
    },
    {
      "cell_type": "markdown",
      "source": [
        "## Split Dataset"
      ],
      "metadata": {
        "id": "6EeWYDTrZsdo"
      }
    },
    {
      "cell_type": "code",
      "source": [
        "train_df, val_df = train_test_split(df, test_size=0.2, stratify=df['label'], random_state=42)\n",
        "\n",
        "# Cek hasil split\n",
        "print(f\"Jumlah train_data: {len(train_df)}\")\n",
        "print(f\"Jumlah val_data: {len(val_df)}\")"
      ],
      "metadata": {
        "colab": {
          "base_uri": "https://localhost:8080/"
        },
        "id": "rl-nBhrzQYfQ",
        "outputId": "7ffe6d25-823d-4e58-d02e-2de3893f9132"
      },
      "execution_count": null,
      "outputs": [
        {
          "output_type": "stream",
          "name": "stdout",
          "text": [
            "Jumlah train_data: 7206\n",
            "Jumlah val_data: 1802\n"
          ]
        }
      ]
    },
    {
      "cell_type": "code",
      "source": [
        "# Convert ke Hugging Face Dataset\n",
        "train_dataset = Dataset.from_pandas(train_df.reset_index(drop=True))\n",
        "val_dataset = Dataset.from_pandas(val_df.reset_index(drop=True))"
      ],
      "metadata": {
        "id": "ijUdzQO1V7EH"
      },
      "execution_count": null,
      "outputs": []
    },
    {
      "cell_type": "markdown",
      "source": [
        "## Load Model"
      ],
      "metadata": {
        "id": "VTxuoim3ZwTv"
      }
    },
    {
      "cell_type": "code",
      "source": [
        "model = AutoModelForSequenceClassification.from_pretrained(\"xlm-roberta-base\", num_labels=4)\n",
        "device = torch.device(\"cuda\" if torch.cuda.is_available() else \"cpu\")\n",
        "model.to(device)"
      ],
      "metadata": {
        "colab": {
          "base_uri": "https://localhost:8080/",
          "height": 955,
          "referenced_widgets": [
            "f7b32965c3314b8492ac983ea9f334b3",
            "ff566ef5991149a7b52ad454feb798ad",
            "ce8fecff51ca4697870ff1e21d2080e1",
            "f58a3c4baa9840b7888c5f129115a6c5",
            "61e3de5bd75c4e238814d787247a5f00",
            "29d766cab2514a70b452775be69145bc",
            "6aef99e168024826bc544a93afefb921",
            "6c8e6402eb534d2a817bb3018e65d7bc",
            "61fcb31e6c1d426aa672672a1f75f4d1",
            "d50a868a44e74569942c390dfd54559d",
            "b4e42cf5ece7451a9165a5fba9319f62"
          ]
        },
        "id": "8ZGld9EMQalL",
        "outputId": "fc90e6a6-3752-4267-b27e-64c1862970de"
      },
      "execution_count": null,
      "outputs": [
        {
          "output_type": "stream",
          "name": "stderr",
          "text": [
            "Xet Storage is enabled for this repo, but the 'hf_xet' package is not installed. Falling back to regular HTTP download. For better performance, install the package with: `pip install huggingface_hub[hf_xet]` or `pip install hf_xet`\n",
            "WARNING:huggingface_hub.file_download:Xet Storage is enabled for this repo, but the 'hf_xet' package is not installed. Falling back to regular HTTP download. For better performance, install the package with: `pip install huggingface_hub[hf_xet]` or `pip install hf_xet`\n"
          ]
        },
        {
          "output_type": "display_data",
          "data": {
            "text/plain": [
              "model.safetensors:   0%|          | 0.00/1.12G [00:00<?, ?B/s]"
            ],
            "application/vnd.jupyter.widget-view+json": {
              "version_major": 2,
              "version_minor": 0,
              "model_id": "f7b32965c3314b8492ac983ea9f334b3"
            }
          },
          "metadata": {}
        },
        {
          "output_type": "stream",
          "name": "stderr",
          "text": [
            "Some weights of XLMRobertaForSequenceClassification were not initialized from the model checkpoint at xlm-roberta-base and are newly initialized: ['classifier.dense.bias', 'classifier.dense.weight', 'classifier.out_proj.bias', 'classifier.out_proj.weight']\n",
            "You should probably TRAIN this model on a down-stream task to be able to use it for predictions and inference.\n"
          ]
        },
        {
          "output_type": "execute_result",
          "data": {
            "text/plain": [
              "XLMRobertaForSequenceClassification(\n",
              "  (roberta): XLMRobertaModel(\n",
              "    (embeddings): XLMRobertaEmbeddings(\n",
              "      (word_embeddings): Embedding(250002, 768, padding_idx=1)\n",
              "      (position_embeddings): Embedding(514, 768, padding_idx=1)\n",
              "      (token_type_embeddings): Embedding(1, 768)\n",
              "      (LayerNorm): LayerNorm((768,), eps=1e-05, elementwise_affine=True)\n",
              "      (dropout): Dropout(p=0.1, inplace=False)\n",
              "    )\n",
              "    (encoder): XLMRobertaEncoder(\n",
              "      (layer): ModuleList(\n",
              "        (0-11): 12 x XLMRobertaLayer(\n",
              "          (attention): XLMRobertaAttention(\n",
              "            (self): XLMRobertaSdpaSelfAttention(\n",
              "              (query): Linear(in_features=768, out_features=768, bias=True)\n",
              "              (key): Linear(in_features=768, out_features=768, bias=True)\n",
              "              (value): Linear(in_features=768, out_features=768, bias=True)\n",
              "              (dropout): Dropout(p=0.1, inplace=False)\n",
              "            )\n",
              "            (output): XLMRobertaSelfOutput(\n",
              "              (dense): Linear(in_features=768, out_features=768, bias=True)\n",
              "              (LayerNorm): LayerNorm((768,), eps=1e-05, elementwise_affine=True)\n",
              "              (dropout): Dropout(p=0.1, inplace=False)\n",
              "            )\n",
              "          )\n",
              "          (intermediate): XLMRobertaIntermediate(\n",
              "            (dense): Linear(in_features=768, out_features=3072, bias=True)\n",
              "            (intermediate_act_fn): GELUActivation()\n",
              "          )\n",
              "          (output): XLMRobertaOutput(\n",
              "            (dense): Linear(in_features=3072, out_features=768, bias=True)\n",
              "            (LayerNorm): LayerNorm((768,), eps=1e-05, elementwise_affine=True)\n",
              "            (dropout): Dropout(p=0.1, inplace=False)\n",
              "          )\n",
              "        )\n",
              "      )\n",
              "    )\n",
              "  )\n",
              "  (classifier): XLMRobertaClassificationHead(\n",
              "    (dense): Linear(in_features=768, out_features=768, bias=True)\n",
              "    (dropout): Dropout(p=0.1, inplace=False)\n",
              "    (out_proj): Linear(in_features=768, out_features=4, bias=True)\n",
              "  )\n",
              ")"
            ]
          },
          "metadata": {},
          "execution_count": 12
        }
      ]
    },
    {
      "cell_type": "markdown",
      "source": [
        "## Epoch 3"
      ],
      "metadata": {
        "id": "07GBFBBTV4UC"
      }
    },
    {
      "cell_type": "code",
      "source": [
        "def get_patience(total_epoch):\n",
        "    return min(2, total_epoch // 3)\n",
        "\n",
        "def compute_metrics(p):\n",
        "    predictions, labels = p\n",
        "    preds = np.argmax(predictions, axis=1)\n",
        "    accuracy = accuracy_score(labels, preds)\n",
        "    return {\n",
        "        'accuracy': accuracy,\n",
        "    }\n",
        "\n",
        "training_args = TrainingArguments(\n",
        "    output_dir=\"./results_epoch3\",\n",
        "    eval_strategy=\"epoch\",\n",
        "    per_device_train_batch_size=16,\n",
        "    per_device_eval_batch_size=16,\n",
        "    learning_rate=2e-5,\n",
        "    num_train_epochs=3,\n",
        "    weight_decay=0.01,\n",
        "    save_strategy=\"epoch\",\n",
        "    logging_dir=\"./logs_epoch3\",\n",
        "    logging_steps=10,\n",
        "    load_best_model_at_end=True,\n",
        "    dataloader_drop_last=False,\n",
        "    metric_for_best_model=\"accuracy\",\n",
        "    fp16=True,\n",
        "    report_to=\"tensorboard\",\n",
        ")\n",
        "\n",
        "patience_value = get_patience(training_args.num_train_epochs)\n",
        "early_stopping = EarlyStoppingCallback(\n",
        "    early_stopping_patience=patience_value\n",
        ")\n",
        "\n",
        "class TimestampCallback(TrainerCallback):\n",
        "    def on_epoch_begin(self, args, state, control, **kwargs):\n",
        "        self.epoch_start_time = time.time()\n",
        "\n",
        "    def on_epoch_end(self, args, state, control, **kwargs):\n",
        "        epoch_end_time = time.time()\n",
        "        epoch_duration = epoch_end_time - self.epoch_start_time\n",
        "        print(f\"Epoch {state.epoch} completed in {epoch_duration:.2f} seconds.\")\n",
        "\n",
        "trainer = Trainer(\n",
        "    model=model,\n",
        "    args=training_args,\n",
        "    train_dataset=train_dataset,\n",
        "    eval_dataset=val_dataset,\n",
        "    tokenizer=tokenizer,\n",
        "    compute_metrics=compute_metrics,\n",
        "    callbacks=[early_stopping, TimestampCallback],\n",
        ")\n"
      ],
      "metadata": {
        "colab": {
          "base_uri": "https://localhost:8080/"
        },
        "id": "2aSRztDmQrF8",
        "outputId": "8d88093b-f034-45af-ad4a-6d4fa51c4c1e"
      },
      "execution_count": null,
      "outputs": [
        {
          "output_type": "stream",
          "name": "stderr",
          "text": [
            "<ipython-input-13-20963c2f7889>:44: FutureWarning: `tokenizer` is deprecated and will be removed in version 5.0.0 for `Trainer.__init__`. Use `processing_class` instead.\n",
            "  trainer = Trainer(\n"
          ]
        }
      ]
    },
    {
      "cell_type": "code",
      "source": [
        "trainer.train()"
      ],
      "metadata": {
        "colab": {
          "base_uri": "https://localhost:8080/",
          "height": 262
        },
        "id": "RfbvpT87QreU",
        "outputId": "f5fdc417-bbcf-4823-e8ae-1452351e7871"
      },
      "execution_count": null,
      "outputs": [
        {
          "output_type": "display_data",
          "data": {
            "text/plain": [
              "<IPython.core.display.HTML object>"
            ],
            "text/html": [
              "\n",
              "    <div>\n",
              "      \n",
              "      <progress value='1353' max='1353' style='width:300px; height:20px; vertical-align: middle;'></progress>\n",
              "      [1353/1353 09:37, Epoch 3/3]\n",
              "    </div>\n",
              "    <table border=\"1\" class=\"dataframe\">\n",
              "  <thead>\n",
              " <tr style=\"text-align: left;\">\n",
              "      <th>Epoch</th>\n",
              "      <th>Training Loss</th>\n",
              "      <th>Validation Loss</th>\n",
              "      <th>Accuracy</th>\n",
              "    </tr>\n",
              "  </thead>\n",
              "  <tbody>\n",
              "    <tr>\n",
              "      <td>1</td>\n",
              "      <td>0.195400</td>\n",
              "      <td>0.238481</td>\n",
              "      <td>0.929523</td>\n",
              "    </tr>\n",
              "    <tr>\n",
              "      <td>2</td>\n",
              "      <td>0.252700</td>\n",
              "      <td>0.209584</td>\n",
              "      <td>0.949501</td>\n",
              "    </tr>\n",
              "    <tr>\n",
              "      <td>3</td>\n",
              "      <td>0.053000</td>\n",
              "      <td>0.216255</td>\n",
              "      <td>0.955605</td>\n",
              "    </tr>\n",
              "  </tbody>\n",
              "</table><p>"
            ]
          },
          "metadata": {}
        },
        {
          "output_type": "stream",
          "name": "stdout",
          "text": [
            "Epoch 1.0 completed in 92.54 seconds.\n",
            "Epoch 2.0 completed in 92.10 seconds.\n",
            "Epoch 3.0 completed in 92.42 seconds.\n"
          ]
        },
        {
          "output_type": "execute_result",
          "data": {
            "text/plain": [
              "TrainOutput(global_step=1353, training_loss=0.24319876406647414, metrics={'train_runtime': 579.2346, 'train_samples_per_second': 37.322, 'train_steps_per_second': 2.336, 'total_flos': 1422009233528832.0, 'train_loss': 0.24319876406647414, 'epoch': 3.0})"
            ]
          },
          "metadata": {},
          "execution_count": 14
        }
      ]
    },
    {
      "cell_type": "markdown",
      "source": [
        "### Confusion Matrix"
      ],
      "metadata": {
        "id": "qAoYvbm2fuD0"
      }
    },
    {
      "cell_type": "code",
      "source": [
        "# Confusion matrix\n",
        "preds_output = trainer.predict(val_dataset)\n",
        "true_labels = preds_output.label_ids\n",
        "predicted_labels = np.argmax(preds_output.predictions, axis=1)\n",
        "\n",
        "cm = confusion_matrix(true_labels, predicted_labels)\n",
        "labels = ['anger', 'joy', 'fear', 'sadness']\n",
        "\n",
        "# Visualisasi confusion matrix\n",
        "plt.figure(figsize=(8, 6))\n",
        "sns.heatmap(cm, annot=True, fmt='d', cmap='Blues', xticklabels=labels, yticklabels=labels)\n",
        "plt.xlabel('Predicted Label')\n",
        "plt.ylabel('True Label')\n",
        "plt.title('Confusion Matrix')\n",
        "plt.show()\n"
      ],
      "metadata": {
        "colab": {
          "base_uri": "https://localhost:8080/",
          "height": 564
        },
        "id": "6mV0Uayffuul",
        "outputId": "e9642b24-28b1-4ee2-8176-7eeea8bbac0d"
      },
      "execution_count": null,
      "outputs": [
        {
          "output_type": "display_data",
          "data": {
            "text/plain": [
              "<IPython.core.display.HTML object>"
            ],
            "text/html": []
          },
          "metadata": {}
        },
        {
          "output_type": "display_data",
          "data": {
            "text/plain": [
              "<Figure size 800x600 with 2 Axes>"
            ],
            "image/png": "[encoded data removed]"
          },
          "metadata": {}
        }
      ]
    },
    {
      "cell_type": "markdown",
      "source": [
        "### Accuracy"
      ],
      "metadata": {
        "id": "8c2Njw9HZ9IT"
      }
    },
    {
      "cell_type": "code",
      "source": [
        "predictions = trainer.predict(val_dataset)\n",
        "true_labels = predictions.label_ids\n",
        "predicted_probs = predictions.predictions\n",
        "predicted_labels = np.argmax(predicted_probs, axis=1)\n",
        "\n",
        "# Classification Report\n",
        "print(\"=== Classification Report ===\")\n",
        "print(classification_report(true_labels, predicted_labels, digits=6))\n",
        "\n",
        "# Akurasi\n",
        "accuracy = accuracy_score(true_labels, predicted_labels)\n",
        "print(f\"Accuracy: {accuracy:.6f}\")"
      ],
      "metadata": {
        "colab": {
          "base_uri": "https://localhost:8080/",
          "height": 257
        },
        "id": "CDnzBM7vQ0K9",
        "outputId": "a06815e2-a8b0-469f-e09f-39fe0a733d27"
      },
      "execution_count": null,
      "outputs": [
        {
          "output_type": "display_data",
          "data": {
            "text/plain": [
              "<IPython.core.display.HTML object>"
            ],
            "text/html": []
          },
          "metadata": {}
        },
        {
          "output_type": "stream",
          "name": "stdout",
          "text": [
            "=== Classification Report ===\n",
            "              precision    recall  f1-score   support\n",
            "\n",
            "           0   0.939189  0.924612  0.931844       451\n",
            "           1   0.962555  0.971111  0.966814       450\n",
            "           2   0.977169  0.949002  0.962880       451\n",
            "           3   0.944206  0.977778  0.960699       450\n",
            "\n",
            "    accuracy                       0.955605      1802\n",
            "   macro avg   0.955780  0.955626  0.955559      1802\n",
            "weighted avg   0.955782  0.955605  0.955550      1802\n",
            "\n",
            "Accuracy: 0.955605\n"
          ]
        }
      ]
    },
    {
      "cell_type": "markdown",
      "source": [
        "## Epoch 5"
      ],
      "metadata": {
        "id": "utYF1JyXV8KU"
      }
    },
    {
      "cell_type": "code",
      "source": [
        "def get_patience(total_epoch):\n",
        "    return min(2, total_epoch // 3)\n",
        "\n",
        "def compute_metrics(p):\n",
        "    predictions, labels = p\n",
        "    preds = np.argmax(predictions, axis=1)\n",
        "    accuracy = accuracy_score(labels, preds)\n",
        "    return {\n",
        "        'accuracy': accuracy,\n",
        "    }\n",
        "\n",
        "training_args = TrainingArguments(\n",
        "    output_dir=\"./results_epoch5\",\n",
        "    eval_strategy=\"epoch\",\n",
        "    per_device_train_batch_size=16,\n",
        "    per_device_eval_batch_size=16,\n",
        "    learning_rate=2e-5,\n",
        "    num_train_epochs=5,\n",
        "    weight_decay=0.01,\n",
        "    save_strategy=\"epoch\",\n",
        "    logging_dir=\"./logs_epoch5\",\n",
        "    logging_steps=10,\n",
        "    load_best_model_at_end=True,\n",
        "    dataloader_drop_last=False,\n",
        "    metric_for_best_model=\"accuracy\",\n",
        "    fp16=True,\n",
        "    report_to=\"tensorboard\",\n",
        ")\n",
        "\n",
        "patience_value = get_patience(training_args.num_train_epochs)\n",
        "early_stopping = EarlyStoppingCallback(\n",
        "    early_stopping_patience=patience_value\n",
        ")\n",
        "\n",
        "class TimestampCallback(TrainerCallback):\n",
        "    def on_epoch_begin(self, args, state, control, **kwargs):\n",
        "        self.epoch_start_time = time.time()\n",
        "\n",
        "    def on_epoch_end(self, args, state, control, **kwargs):\n",
        "        epoch_end_time = time.time()\n",
        "        epoch_duration = epoch_end_time - self.epoch_start_time\n",
        "        print(f\"Epoch {state.epoch} completed in {epoch_duration:.2f} seconds.\")\n",
        "\n",
        "trainer = Trainer(\n",
        "    model=model,\n",
        "    args=training_args,\n",
        "    train_dataset=train_dataset,\n",
        "    eval_dataset=val_dataset,\n",
        "    tokenizer=tokenizer,\n",
        "    compute_metrics=compute_metrics,\n",
        "    callbacks=[early_stopping, TimestampCallback],\n",
        ")\n"
      ],
      "metadata": {
        "colab": {
          "base_uri": "https://localhost:8080/"
        },
        "id": "r6G4tSJTV9-2",
        "outputId": "f5bd511f-4cc4-43e7-c6e6-88227a82f36b"
      },
      "execution_count": null,
      "outputs": [
        {
          "output_type": "stream",
          "name": "stderr",
          "text": [
            "<ipython-input-18-b03166bacfa0>:44: FutureWarning: `tokenizer` is deprecated and will be removed in version 5.0.0 for `Trainer.__init__`. Use `processing_class` instead.\n",
            "  trainer = Trainer(\n"
          ]
        }
      ]
    },
    {
      "cell_type": "code",
      "source": [
        "trainer.train()"
      ],
      "metadata": {
        "colab": {
          "base_uri": "https://localhost:8080/",
          "height": 312
        },
        "id": "6PDmWbtyV-zW",
        "outputId": "0a9a8767-b334-42ce-e703-6e2520e568cd"
      },
      "execution_count": null,
      "outputs": [
        {
          "output_type": "display_data",
          "data": {
            "text/plain": [
              "<IPython.core.display.HTML object>"
            ],
            "text/html": [
              "\n",
              "    <div>\n",
              "      \n",
              "      <progress value='1804' max='2255' style='width:300px; height:20px; vertical-align: middle;'></progress>\n",
              "      [1804/2255 14:11 < 03:33, 2.12 it/s, Epoch 4/5]\n",
              "    </div>\n",
              "    <table border=\"1\" class=\"dataframe\">\n",
              "  <thead>\n",
              " <tr style=\"text-align: left;\">\n",
              "      <th>Epoch</th>\n",
              "      <th>Training Loss</th>\n",
              "      <th>Validation Loss</th>\n",
              "      <th>Accuracy</th>\n",
              "    </tr>\n",
              "  </thead>\n",
              "  <tbody>\n",
              "    <tr>\n",
              "      <td>1</td>\n",
              "      <td>0.040600</td>\n",
              "      <td>0.353460</td>\n",
              "      <td>0.940067</td>\n",
              "    </tr>\n",
              "    <tr>\n",
              "      <td>2</td>\n",
              "      <td>0.122600</td>\n",
              "      <td>0.317565</td>\n",
              "      <td>0.951165</td>\n",
              "    </tr>\n",
              "    <tr>\n",
              "      <td>3</td>\n",
              "      <td>0.001300</td>\n",
              "      <td>0.266624</td>\n",
              "      <td>0.959489</td>\n",
              "    </tr>\n",
              "    <tr>\n",
              "      <td>4</td>\n",
              "      <td>0.056600</td>\n",
              "      <td>0.318511</td>\n",
              "      <td>0.956160</td>\n",
              "    </tr>\n",
              "  </tbody>\n",
              "</table><p>"
            ]
          },
          "metadata": {}
        },
        {
          "output_type": "stream",
          "name": "stdout",
          "text": [
            "Epoch 1.0 completed in 91.96 seconds.\n",
            "Epoch 2.0 completed in 92.70 seconds.\n",
            "Epoch 3.0 completed in 92.15 seconds.\n",
            "Epoch 4.0 completed in 92.04 seconds.\n"
          ]
        },
        {
          "output_type": "execute_result",
          "data": {
            "text/plain": [
              "TrainOutput(global_step=1804, training_loss=0.07164059144479869, metrics={'train_runtime': 851.7084, 'train_samples_per_second': 42.303, 'train_steps_per_second': 2.648, 'total_flos': 1896012311371776.0, 'train_loss': 0.07164059144479869, 'epoch': 4.0})"
            ]
          },
          "metadata": {},
          "execution_count": 19
        }
      ]
    },
    {
      "cell_type": "markdown",
      "source": [
        "## Confusion Matrix"
      ],
      "metadata": {
        "id": "PCowhyMPj_uf"
      }
    },
    {
      "cell_type": "code",
      "source": [
        "# Confusion matrix\n",
        "preds_output = trainer.predict(val_dataset)\n",
        "true_labels = preds_output.label_ids\n",
        "predicted_labels = np.argmax(preds_output.predictions, axis=1)\n",
        "\n",
        "cm = confusion_matrix(true_labels, predicted_labels)\n",
        "labels = ['anger', 'joy', 'fear', 'sadness']\n",
        "\n",
        "# Visualisasi confusion matrix\n",
        "plt.figure(figsize=(8, 6))\n",
        "sns.heatmap(cm, annot=True, fmt='d', cmap='Blues', xticklabels=labels, yticklabels=labels)\n",
        "plt.xlabel('Predicted Label')\n",
        "plt.ylabel('True Label')\n",
        "plt.title('Confusion Matrix')\n",
        "plt.show()\n"
      ],
      "metadata": {
        "colab": {
          "base_uri": "https://localhost:8080/",
          "height": 564
        },
        "id": "ixXojFSgkACA",
        "outputId": "e4038af7-bb0f-4c93-f753-197d1ce7c41e"
      },
      "execution_count": null,
      "outputs": [
        {
          "output_type": "display_data",
          "data": {
            "text/plain": [
              "<IPython.core.display.HTML object>"
            ],
            "text/html": []
          },
          "metadata": {}
        },
        {
          "output_type": "display_data",
          "data": {
            "text/plain": [
              "<Figure size 800x600 with 2 Axes>"
            ],
            "image/png": "[encoded data removed]"
          },
          "metadata": {}
        }
      ]
    },
    {
      "cell_type": "markdown",
      "source": [
        "### Accuracy"
      ],
      "metadata": {
        "id": "UPBcjrM6aLz3"
      }
    },
    {
      "cell_type": "code",
      "source": [
        "predictions = trainer.predict(val_dataset)\n",
        "true_labels = predictions.label_ids\n",
        "predicted_probs = predictions.predictions\n",
        "predicted_labels = np.argmax(predicted_probs, axis=1)\n",
        "\n",
        "# Classification Report\n",
        "print(\"=== Classification Report ===\")\n",
        "print(classification_report(true_labels, predicted_labels, digits=6))\n",
        "\n",
        "# Akurasi\n",
        "accuracy = accuracy_score(true_labels, predicted_labels)\n",
        "print(f\"Accuracy: {accuracy:.6f}\")"
      ],
      "metadata": {
        "colab": {
          "base_uri": "https://localhost:8080/",
          "height": 257
        },
        "id": "iByxBCuqanRt",
        "outputId": "b1fb318b-d9c3-4c0a-f4f5-4f9f6fca11ae"
      },
      "execution_count": null,
      "outputs": [
        {
          "output_type": "display_data",
          "data": {
            "text/plain": [
              "<IPython.core.display.HTML object>"
            ],
            "text/html": []
          },
          "metadata": {}
        },
        {
          "output_type": "stream",
          "name": "stdout",
          "text": [
            "=== Classification Report ===\n",
            "              precision    recall  f1-score   support\n",
            "\n",
            "           0   0.926247  0.946785  0.936404       451\n",
            "           1   0.970787  0.960000  0.965363       450\n",
            "           2   0.979638  0.960089  0.969765       451\n",
            "           3   0.962555  0.971111  0.966814       450\n",
            "\n",
            "    accuracy                       0.959489      1802\n",
            "   macro avg   0.959807  0.959496  0.959586      1802\n",
            "weighted avg   0.959799  0.959489  0.959579      1802\n",
            "\n",
            "Accuracy: 0.959489\n"
          ]
        }
      ]
    },
    {
      "cell_type": "markdown",
      "source": [
        "## Epoch 10"
      ],
      "metadata": {
        "id": "c4y5ke19WLEI"
      }
    },
    {
      "cell_type": "code",
      "source": [
        "def get_patience(total_epoch):\n",
        "    return min(2, total_epoch // 3)\n",
        "\n",
        "def compute_metrics(p):\n",
        "    predictions, labels = p\n",
        "    preds = np.argmax(predictions, axis=1)\n",
        "    accuracy = accuracy_score(labels, preds)\n",
        "    return {\n",
        "        'accuracy': accuracy,\n",
        "    }\n",
        "\n",
        "training_args = TrainingArguments(\n",
        "    output_dir=\"./results_epoch10\",\n",
        "    eval_strategy=\"epoch\",\n",
        "    per_device_train_batch_size=16,\n",
        "    per_device_eval_batch_size=16,\n",
        "    learning_rate=2e-5,\n",
        "    num_train_epochs=10,\n",
        "    weight_decay=0.01,\n",
        "    save_strategy=\"epoch\",\n",
        "    logging_dir=\"./logs_epoch10\",\n",
        "    logging_steps=10,\n",
        "    load_best_model_at_end=True,\n",
        "    dataloader_drop_last=False,\n",
        "    metric_for_best_model=\"accuracy\",\n",
        "    fp16=True,\n",
        "    report_to=\"tensorboard\",\n",
        ")\n",
        "\n",
        "patience_value = get_patience(training_args.num_train_epochs)\n",
        "early_stopping = EarlyStoppingCallback(\n",
        "    early_stopping_patience=patience_value\n",
        ")\n",
        "\n",
        "class TimestampCallback(TrainerCallback):\n",
        "    def on_epoch_begin(self, args, state, control, **kwargs):\n",
        "        self.epoch_start_time = time.time()\n",
        "\n",
        "    def on_epoch_end(self, args, state, control, **kwargs):\n",
        "        epoch_end_time = time.time()\n",
        "        epoch_duration = epoch_end_time - self.epoch_start_time\n",
        "        print(f\"Epoch {state.epoch} completed in {epoch_duration:.2f} seconds.\")\n",
        "\n",
        "trainer = Trainer(\n",
        "    model=model,\n",
        "    args=training_args,\n",
        "    train_dataset=train_dataset,\n",
        "    eval_dataset=val_dataset,\n",
        "    tokenizer=tokenizer,\n",
        "    compute_metrics=compute_metrics,\n",
        "    callbacks=[early_stopping, TimestampCallback],\n",
        ")\n"
      ],
      "metadata": {
        "colab": {
          "base_uri": "https://localhost:8080/"
        },
        "id": "bS3N1ZezWUVv",
        "outputId": "9d5c2703-ecd1-4432-8059-742455efd142"
      },
      "execution_count": null,
      "outputs": [
        {
          "output_type": "stream",
          "name": "stderr",
          "text": [
            "<ipython-input-23-40edfbb62420>:44: FutureWarning: `tokenizer` is deprecated and will be removed in version 5.0.0 for `Trainer.__init__`. Use `processing_class` instead.\n",
            "  trainer = Trainer(\n"
          ]
        }
      ]
    },
    {
      "cell_type": "code",
      "source": [
        "trainer.train()"
      ],
      "metadata": {
        "colab": {
          "base_uri": "https://localhost:8080/",
          "height": 411
        },
        "id": "ihPguOTsWRY7",
        "outputId": "7eed18c3-f47d-4324-dfe6-769ae5cf5f52"
      },
      "execution_count": null,
      "outputs": [
        {
          "output_type": "display_data",
          "data": {
            "text/plain": [
              "<IPython.core.display.HTML object>"
            ],
            "text/html": [
              "\n",
              "    <div>\n",
              "      \n",
              "      <progress value='2706' max='4510' style='width:300px; height:20px; vertical-align: middle;'></progress>\n",
              "      [2706/4510 24:18 < 16:12, 1.85 it/s, Epoch 6/10]\n",
              "    </div>\n",
              "    <table border=\"1\" class=\"dataframe\">\n",
              "  <thead>\n",
              " <tr style=\"text-align: left;\">\n",
              "      <th>Epoch</th>\n",
              "      <th>Training Loss</th>\n",
              "      <th>Validation Loss</th>\n",
              "      <th>Accuracy</th>\n",
              "    </tr>\n",
              "  </thead>\n",
              "  <tbody>\n",
              "    <tr>\n",
              "      <td>1</td>\n",
              "      <td>0.073000</td>\n",
              "      <td>0.375234</td>\n",
              "      <td>0.949501</td>\n",
              "    </tr>\n",
              "    <tr>\n",
              "      <td>2</td>\n",
              "      <td>0.107100</td>\n",
              "      <td>0.316895</td>\n",
              "      <td>0.950055</td>\n",
              "    </tr>\n",
              "    <tr>\n",
              "      <td>3</td>\n",
              "      <td>0.001000</td>\n",
              "      <td>0.410922</td>\n",
              "      <td>0.948946</td>\n",
              "    </tr>\n",
              "    <tr>\n",
              "      <td>4</td>\n",
              "      <td>0.043500</td>\n",
              "      <td>0.273859</td>\n",
              "      <td>0.962264</td>\n",
              "    </tr>\n",
              "    <tr>\n",
              "      <td>5</td>\n",
              "      <td>0.001000</td>\n",
              "      <td>0.316385</td>\n",
              "      <td>0.958935</td>\n",
              "    </tr>\n",
              "    <tr>\n",
              "      <td>6</td>\n",
              "      <td>0.008900</td>\n",
              "      <td>0.321184</td>\n",
              "      <td>0.959489</td>\n",
              "    </tr>\n",
              "  </tbody>\n",
              "</table><p>"
            ]
          },
          "metadata": {}
        },
        {
          "output_type": "stream",
          "name": "stdout",
          "text": [
            "Epoch 1.0 completed in 92.23 seconds.\n",
            "Epoch 2.0 completed in 92.15 seconds.\n",
            "Epoch 3.0 completed in 92.13 seconds.\n",
            "Epoch 4.0 completed in 92.13 seconds.\n",
            "Epoch 5.0 completed in 92.36 seconds.\n",
            "Epoch 6.0 completed in 92.29 seconds.\n"
          ]
        },
        {
          "output_type": "execute_result",
          "data": {
            "text/plain": [
              "TrainOutput(global_step=2706, training_loss=0.04676946808005141, metrics={'train_runtime': 1458.3257, 'train_samples_per_second': 49.413, 'train_steps_per_second': 3.093, 'total_flos': 2844018467057664.0, 'train_loss': 0.04676946808005141, 'epoch': 6.0})"
            ]
          },
          "metadata": {},
          "execution_count": 24
        }
      ]
    },
    {
      "cell_type": "markdown",
      "source": [
        "### Accuracy"
      ],
      "metadata": {
        "id": "R7PHmrOgaT8q"
      }
    },
    {
      "cell_type": "code",
      "source": [
        "predictions = trainer.predict(val_dataset)\n",
        "true_labels = predictions.label_ids\n",
        "predicted_probs = predictions.predictions\n",
        "predicted_labels = np.argmax(predicted_probs, axis=1)\n",
        "\n",
        "# Classification Report\n",
        "print(\"=== Classification Report ===\")\n",
        "print(classification_report(true_labels, predicted_labels, digits=6))\n",
        "\n",
        "# Akurasi\n",
        "accuracy = accuracy_score(true_labels, predicted_labels)\n",
        "print(f\"Accuracy: {accuracy:.6f}\")"
      ],
      "metadata": {
        "colab": {
          "base_uri": "https://localhost:8080/",
          "height": 257
        },
        "id": "bc74fO8NWPtH",
        "outputId": "a5471ef8-83f1-4d1d-8935-73784dc277d5"
      },
      "execution_count": null,
      "outputs": [
        {
          "output_type": "display_data",
          "data": {
            "text/plain": [
              "<IPython.core.display.HTML object>"
            ],
            "text/html": []
          },
          "metadata": {}
        },
        {
          "output_type": "stream",
          "name": "stdout",
          "text": [
            "=== Classification Report ===\n",
            "              precision    recall  f1-score   support\n",
            "\n",
            "           0   0.960557  0.917960  0.938776       451\n",
            "           1   0.952891  0.988889  0.970556       450\n",
            "           2   0.973214  0.966741  0.969967       451\n",
            "           3   0.962719  0.975556  0.969095       450\n",
            "\n",
            "    accuracy                       0.962264      1802\n",
            "   macro avg   0.962345  0.962286  0.962098      1802\n",
            "weighted avg   0.962350  0.962264  0.962090      1802\n",
            "\n",
            "Accuracy: 0.962264\n"
          ]
        }
      ]
    },
    {
      "cell_type": "markdown",
      "source": [
        "### Confusion Matrix"
      ],
      "metadata": {
        "id": "6K8ponU2aX-Y"
      }
    },
    {
      "cell_type": "code",
      "source": [
        "# Confusion matrix\n",
        "preds_output = trainer.predict(val_dataset)\n",
        "true_labels = preds_output.label_ids\n",
        "predicted_labels = np.argmax(preds_output.predictions, axis=1)\n",
        "\n",
        "cm = confusion_matrix(true_labels, predicted_labels)\n",
        "labels = ['anger', 'joy', 'fear', 'sadness']\n",
        "\n",
        "# Visualisasi confusion matrix\n",
        "plt.figure(figsize=(8, 6))\n",
        "sns.heatmap(cm, annot=True, fmt='d', cmap='Blues', xticklabels=labels, yticklabels=labels)\n",
        "plt.xlabel('Predicted Label')\n",
        "plt.ylabel('True Label')\n",
        "plt.title('Confusion Matrix')\n",
        "plt.show()\n"
      ],
      "metadata": {
        "colab": {
          "base_uri": "https://localhost:8080/",
          "height": 564
        },
        "id": "qTuQQXn5WMaf",
        "outputId": "0f3e3867-7caf-40b2-f948-d1e14d0bc42d"
      },
      "execution_count": null,
      "outputs": [
        {
          "output_type": "display_data",
          "data": {
            "text/plain": [
              "<IPython.core.display.HTML object>"
            ],
            "text/html": []
          },
          "metadata": {}
        },
        {
          "output_type": "display_data",
          "data": {
            "text/plain": [
              "<Figure size 800x600 with 2 Axes>"
            ],
            "image/png": "[encoded data removed]"
          },
          "metadata": {}
        }
      ]
    }
  ]
}
